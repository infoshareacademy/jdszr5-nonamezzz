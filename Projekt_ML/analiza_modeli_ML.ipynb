{
 "cells": [
  {
   "cell_type": "markdown",
   "id": "11b1a612",
   "metadata": {},
   "source": [
    "## Import"
   ]
  },
  {
   "cell_type": "code",
   "execution_count": 1,
   "id": "96759f3f",
   "metadata": {
    "scrolled": false
   },
   "outputs": [],
   "source": [
    "import pandas as pd\n",
    "import seaborn as sns\n",
    "import matplotlib.pyplot as plt\n",
    "import numpy as np\n",
    "from pandas_profiling import ProfileReport\n",
    "%matplotlib inline\n",
    "# %load_ext nb_black\n"
   ]
  },
  {
   "cell_type": "markdown",
   "id": "3026a553",
   "metadata": {},
   "source": [
    "## DF loading"
   ]
  },
  {
   "cell_type": "code",
   "execution_count": 2,
   "id": "3f633dce",
   "metadata": {
    "scrolled": false
   },
   "outputs": [
    {
     "data": {
      "text/html": [
       "<div>\n",
       "<style scoped>\n",
       "    .dataframe tbody tr th:only-of-type {\n",
       "        vertical-align: middle;\n",
       "    }\n",
       "\n",
       "    .dataframe tbody tr th {\n",
       "        vertical-align: top;\n",
       "    }\n",
       "\n",
       "    .dataframe thead th {\n",
       "        text-align: right;\n",
       "    }\n",
       "</style>\n",
       "<table border=\"1\" class=\"dataframe\">\n",
       "  <thead>\n",
       "    <tr style=\"text-align: right;\">\n",
       "      <th></th>\n",
       "      <th>age</th>\n",
       "      <th>sex</th>\n",
       "      <th>bmi</th>\n",
       "      <th>children</th>\n",
       "      <th>smoker</th>\n",
       "      <th>region</th>\n",
       "      <th>charges</th>\n",
       "    </tr>\n",
       "  </thead>\n",
       "  <tbody>\n",
       "    <tr>\n",
       "      <th>0</th>\n",
       "      <td>19</td>\n",
       "      <td>female</td>\n",
       "      <td>27.900</td>\n",
       "      <td>0</td>\n",
       "      <td>yes</td>\n",
       "      <td>southwest</td>\n",
       "      <td>16884.92400</td>\n",
       "    </tr>\n",
       "    <tr>\n",
       "      <th>1</th>\n",
       "      <td>18</td>\n",
       "      <td>male</td>\n",
       "      <td>33.770</td>\n",
       "      <td>1</td>\n",
       "      <td>no</td>\n",
       "      <td>southeast</td>\n",
       "      <td>1725.55230</td>\n",
       "    </tr>\n",
       "    <tr>\n",
       "      <th>2</th>\n",
       "      <td>28</td>\n",
       "      <td>male</td>\n",
       "      <td>33.000</td>\n",
       "      <td>3</td>\n",
       "      <td>no</td>\n",
       "      <td>southeast</td>\n",
       "      <td>4449.46200</td>\n",
       "    </tr>\n",
       "    <tr>\n",
       "      <th>3</th>\n",
       "      <td>33</td>\n",
       "      <td>male</td>\n",
       "      <td>22.705</td>\n",
       "      <td>0</td>\n",
       "      <td>no</td>\n",
       "      <td>northwest</td>\n",
       "      <td>21984.47061</td>\n",
       "    </tr>\n",
       "    <tr>\n",
       "      <th>4</th>\n",
       "      <td>32</td>\n",
       "      <td>male</td>\n",
       "      <td>28.880</td>\n",
       "      <td>0</td>\n",
       "      <td>no</td>\n",
       "      <td>northwest</td>\n",
       "      <td>3866.85520</td>\n",
       "    </tr>\n",
       "    <tr>\n",
       "      <th>...</th>\n",
       "      <td>...</td>\n",
       "      <td>...</td>\n",
       "      <td>...</td>\n",
       "      <td>...</td>\n",
       "      <td>...</td>\n",
       "      <td>...</td>\n",
       "      <td>...</td>\n",
       "    </tr>\n",
       "    <tr>\n",
       "      <th>1333</th>\n",
       "      <td>50</td>\n",
       "      <td>male</td>\n",
       "      <td>30.970</td>\n",
       "      <td>3</td>\n",
       "      <td>no</td>\n",
       "      <td>northwest</td>\n",
       "      <td>10600.54830</td>\n",
       "    </tr>\n",
       "    <tr>\n",
       "      <th>1334</th>\n",
       "      <td>18</td>\n",
       "      <td>female</td>\n",
       "      <td>31.920</td>\n",
       "      <td>0</td>\n",
       "      <td>no</td>\n",
       "      <td>northeast</td>\n",
       "      <td>2205.98080</td>\n",
       "    </tr>\n",
       "    <tr>\n",
       "      <th>1335</th>\n",
       "      <td>18</td>\n",
       "      <td>female</td>\n",
       "      <td>36.850</td>\n",
       "      <td>0</td>\n",
       "      <td>no</td>\n",
       "      <td>southeast</td>\n",
       "      <td>1629.83350</td>\n",
       "    </tr>\n",
       "    <tr>\n",
       "      <th>1336</th>\n",
       "      <td>21</td>\n",
       "      <td>female</td>\n",
       "      <td>25.800</td>\n",
       "      <td>0</td>\n",
       "      <td>no</td>\n",
       "      <td>southwest</td>\n",
       "      <td>2007.94500</td>\n",
       "    </tr>\n",
       "    <tr>\n",
       "      <th>1337</th>\n",
       "      <td>61</td>\n",
       "      <td>female</td>\n",
       "      <td>29.070</td>\n",
       "      <td>0</td>\n",
       "      <td>yes</td>\n",
       "      <td>northwest</td>\n",
       "      <td>29141.36030</td>\n",
       "    </tr>\n",
       "  </tbody>\n",
       "</table>\n",
       "<p>1338 rows × 7 columns</p>\n",
       "</div>"
      ],
      "text/plain": [
       "      age     sex     bmi  children smoker     region      charges\n",
       "0      19  female  27.900         0    yes  southwest  16884.92400\n",
       "1      18    male  33.770         1     no  southeast   1725.55230\n",
       "2      28    male  33.000         3     no  southeast   4449.46200\n",
       "3      33    male  22.705         0     no  northwest  21984.47061\n",
       "4      32    male  28.880         0     no  northwest   3866.85520\n",
       "...   ...     ...     ...       ...    ...        ...          ...\n",
       "1333   50    male  30.970         3     no  northwest  10600.54830\n",
       "1334   18  female  31.920         0     no  northeast   2205.98080\n",
       "1335   18  female  36.850         0     no  southeast   1629.83350\n",
       "1336   21  female  25.800         0     no  southwest   2007.94500\n",
       "1337   61  female  29.070         0    yes  northwest  29141.36030\n",
       "\n",
       "[1338 rows x 7 columns]"
      ]
     },
     "execution_count": 2,
     "metadata": {},
     "output_type": "execute_result"
    }
   ],
   "source": [
    "initial_df = pd.read_csv(\"insurance.csv\")\n",
    "initial_df"
   ]
  },
  {
   "cell_type": "markdown",
   "id": "4c696f48",
   "metadata": {},
   "source": [
    "## Data analysis"
   ]
  },
  {
   "cell_type": "code",
   "execution_count": 3,
   "id": "149dfcc2",
   "metadata": {
    "scrolled": false
   },
   "outputs": [],
   "source": [
    "# initial_df.info()\n"
   ]
  },
  {
   "cell_type": "code",
   "execution_count": 4,
   "id": "ce8a9e6b",
   "metadata": {
    "scrolled": false
   },
   "outputs": [],
   "source": [
    "# profile = ProfileReport(initial_df)\n",
    "# profile"
   ]
  },
  {
   "cell_type": "code",
   "execution_count": 5,
   "id": "ddf4c9fb",
   "metadata": {
    "scrolled": false
   },
   "outputs": [],
   "source": [
    "# sns.pairplot(initial_df)\n",
    "# plt.show()\n"
   ]
  },
  {
   "cell_type": "markdown",
   "id": "d0b91889",
   "metadata": {},
   "source": [
    "### one hot encoding"
   ]
  },
  {
   "cell_type": "code",
   "execution_count": 6,
   "id": "7bfff0a1",
   "metadata": {
    "scrolled": false
   },
   "outputs": [],
   "source": [
    "# one hot encoding\n",
    "df = pd.get_dummies(initial_df, drop_first=True)\n",
    "# dodanie kategorii otyły (w USA wg jakiegoś medycznego instytu jest po prostu powyżej 30\n",
    "df[\"obese\"] = df[\"bmi\"].apply(lambda x: 1 if x >= 30 else 0)\n",
    "# dodanie kategorii otyły i palący\n",
    "df[\"obese_smoker\"] = df[[\"obese\", \"smoker_yes\"]].apply(\n",
    "    lambda x: 1 if (x[\"obese\"] == 1) & (x[\"smoker_yes\"] == 1) else 0, axis=1\n",
    ")"
   ]
  },
  {
   "cell_type": "code",
   "execution_count": 7,
   "id": "df7db632",
   "metadata": {
    "scrolled": false
   },
   "outputs": [
    {
     "data": {
      "text/html": [
       "<div>\n",
       "<style scoped>\n",
       "    .dataframe tbody tr th:only-of-type {\n",
       "        vertical-align: middle;\n",
       "    }\n",
       "\n",
       "    .dataframe tbody tr th {\n",
       "        vertical-align: top;\n",
       "    }\n",
       "\n",
       "    .dataframe thead th {\n",
       "        text-align: right;\n",
       "    }\n",
       "</style>\n",
       "<table border=\"1\" class=\"dataframe\">\n",
       "  <thead>\n",
       "    <tr style=\"text-align: right;\">\n",
       "      <th></th>\n",
       "      <th>age</th>\n",
       "      <th>bmi</th>\n",
       "      <th>children</th>\n",
       "      <th>charges</th>\n",
       "      <th>sex_male</th>\n",
       "      <th>smoker_yes</th>\n",
       "      <th>region_northwest</th>\n",
       "      <th>region_southeast</th>\n",
       "      <th>region_southwest</th>\n",
       "      <th>obese</th>\n",
       "      <th>obese_smoker</th>\n",
       "    </tr>\n",
       "  </thead>\n",
       "  <tbody>\n",
       "    <tr>\n",
       "      <th>0</th>\n",
       "      <td>19</td>\n",
       "      <td>27.900</td>\n",
       "      <td>0</td>\n",
       "      <td>16884.92400</td>\n",
       "      <td>0</td>\n",
       "      <td>1</td>\n",
       "      <td>0</td>\n",
       "      <td>0</td>\n",
       "      <td>1</td>\n",
       "      <td>0</td>\n",
       "      <td>0</td>\n",
       "    </tr>\n",
       "    <tr>\n",
       "      <th>1</th>\n",
       "      <td>18</td>\n",
       "      <td>33.770</td>\n",
       "      <td>1</td>\n",
       "      <td>1725.55230</td>\n",
       "      <td>1</td>\n",
       "      <td>0</td>\n",
       "      <td>0</td>\n",
       "      <td>1</td>\n",
       "      <td>0</td>\n",
       "      <td>1</td>\n",
       "      <td>0</td>\n",
       "    </tr>\n",
       "    <tr>\n",
       "      <th>2</th>\n",
       "      <td>28</td>\n",
       "      <td>33.000</td>\n",
       "      <td>3</td>\n",
       "      <td>4449.46200</td>\n",
       "      <td>1</td>\n",
       "      <td>0</td>\n",
       "      <td>0</td>\n",
       "      <td>1</td>\n",
       "      <td>0</td>\n",
       "      <td>1</td>\n",
       "      <td>0</td>\n",
       "    </tr>\n",
       "    <tr>\n",
       "      <th>3</th>\n",
       "      <td>33</td>\n",
       "      <td>22.705</td>\n",
       "      <td>0</td>\n",
       "      <td>21984.47061</td>\n",
       "      <td>1</td>\n",
       "      <td>0</td>\n",
       "      <td>1</td>\n",
       "      <td>0</td>\n",
       "      <td>0</td>\n",
       "      <td>0</td>\n",
       "      <td>0</td>\n",
       "    </tr>\n",
       "    <tr>\n",
       "      <th>4</th>\n",
       "      <td>32</td>\n",
       "      <td>28.880</td>\n",
       "      <td>0</td>\n",
       "      <td>3866.85520</td>\n",
       "      <td>1</td>\n",
       "      <td>0</td>\n",
       "      <td>1</td>\n",
       "      <td>0</td>\n",
       "      <td>0</td>\n",
       "      <td>0</td>\n",
       "      <td>0</td>\n",
       "    </tr>\n",
       "    <tr>\n",
       "      <th>...</th>\n",
       "      <td>...</td>\n",
       "      <td>...</td>\n",
       "      <td>...</td>\n",
       "      <td>...</td>\n",
       "      <td>...</td>\n",
       "      <td>...</td>\n",
       "      <td>...</td>\n",
       "      <td>...</td>\n",
       "      <td>...</td>\n",
       "      <td>...</td>\n",
       "      <td>...</td>\n",
       "    </tr>\n",
       "    <tr>\n",
       "      <th>1333</th>\n",
       "      <td>50</td>\n",
       "      <td>30.970</td>\n",
       "      <td>3</td>\n",
       "      <td>10600.54830</td>\n",
       "      <td>1</td>\n",
       "      <td>0</td>\n",
       "      <td>1</td>\n",
       "      <td>0</td>\n",
       "      <td>0</td>\n",
       "      <td>1</td>\n",
       "      <td>0</td>\n",
       "    </tr>\n",
       "    <tr>\n",
       "      <th>1334</th>\n",
       "      <td>18</td>\n",
       "      <td>31.920</td>\n",
       "      <td>0</td>\n",
       "      <td>2205.98080</td>\n",
       "      <td>0</td>\n",
       "      <td>0</td>\n",
       "      <td>0</td>\n",
       "      <td>0</td>\n",
       "      <td>0</td>\n",
       "      <td>1</td>\n",
       "      <td>0</td>\n",
       "    </tr>\n",
       "    <tr>\n",
       "      <th>1335</th>\n",
       "      <td>18</td>\n",
       "      <td>36.850</td>\n",
       "      <td>0</td>\n",
       "      <td>1629.83350</td>\n",
       "      <td>0</td>\n",
       "      <td>0</td>\n",
       "      <td>0</td>\n",
       "      <td>1</td>\n",
       "      <td>0</td>\n",
       "      <td>1</td>\n",
       "      <td>0</td>\n",
       "    </tr>\n",
       "    <tr>\n",
       "      <th>1336</th>\n",
       "      <td>21</td>\n",
       "      <td>25.800</td>\n",
       "      <td>0</td>\n",
       "      <td>2007.94500</td>\n",
       "      <td>0</td>\n",
       "      <td>0</td>\n",
       "      <td>0</td>\n",
       "      <td>0</td>\n",
       "      <td>1</td>\n",
       "      <td>0</td>\n",
       "      <td>0</td>\n",
       "    </tr>\n",
       "    <tr>\n",
       "      <th>1337</th>\n",
       "      <td>61</td>\n",
       "      <td>29.070</td>\n",
       "      <td>0</td>\n",
       "      <td>29141.36030</td>\n",
       "      <td>0</td>\n",
       "      <td>1</td>\n",
       "      <td>1</td>\n",
       "      <td>0</td>\n",
       "      <td>0</td>\n",
       "      <td>0</td>\n",
       "      <td>0</td>\n",
       "    </tr>\n",
       "  </tbody>\n",
       "</table>\n",
       "<p>1338 rows × 11 columns</p>\n",
       "</div>"
      ],
      "text/plain": [
       "      age     bmi  children      charges  sex_male  smoker_yes  \\\n",
       "0      19  27.900         0  16884.92400         0           1   \n",
       "1      18  33.770         1   1725.55230         1           0   \n",
       "2      28  33.000         3   4449.46200         1           0   \n",
       "3      33  22.705         0  21984.47061         1           0   \n",
       "4      32  28.880         0   3866.85520         1           0   \n",
       "...   ...     ...       ...          ...       ...         ...   \n",
       "1333   50  30.970         3  10600.54830         1           0   \n",
       "1334   18  31.920         0   2205.98080         0           0   \n",
       "1335   18  36.850         0   1629.83350         0           0   \n",
       "1336   21  25.800         0   2007.94500         0           0   \n",
       "1337   61  29.070         0  29141.36030         0           1   \n",
       "\n",
       "      region_northwest  region_southeast  region_southwest  obese  \\\n",
       "0                    0                 0                 1      0   \n",
       "1                    0                 1                 0      1   \n",
       "2                    0                 1                 0      1   \n",
       "3                    1                 0                 0      0   \n",
       "4                    1                 0                 0      0   \n",
       "...                ...               ...               ...    ...   \n",
       "1333                 1                 0                 0      1   \n",
       "1334                 0                 0                 0      1   \n",
       "1335                 0                 1                 0      1   \n",
       "1336                 0                 0                 1      0   \n",
       "1337                 1                 0                 0      0   \n",
       "\n",
       "      obese_smoker  \n",
       "0                0  \n",
       "1                0  \n",
       "2                0  \n",
       "3                0  \n",
       "4                0  \n",
       "...            ...  \n",
       "1333             0  \n",
       "1334             0  \n",
       "1335             0  \n",
       "1336             0  \n",
       "1337             0  \n",
       "\n",
       "[1338 rows x 11 columns]"
      ]
     },
     "execution_count": 7,
     "metadata": {},
     "output_type": "execute_result"
    }
   ],
   "source": [
    "# sprawdzenie\n",
    "df"
   ]
  },
  {
   "cell_type": "code",
   "execution_count": 8,
   "id": "7211aa46",
   "metadata": {},
   "outputs": [
    {
     "data": {
      "text/html": [
       "<div>\n",
       "<style scoped>\n",
       "    .dataframe tbody tr th:only-of-type {\n",
       "        vertical-align: middle;\n",
       "    }\n",
       "\n",
       "    .dataframe tbody tr th {\n",
       "        vertical-align: top;\n",
       "    }\n",
       "\n",
       "    .dataframe thead th {\n",
       "        text-align: right;\n",
       "    }\n",
       "</style>\n",
       "<table border=\"1\" class=\"dataframe\">\n",
       "  <thead>\n",
       "    <tr style=\"text-align: right;\">\n",
       "      <th></th>\n",
       "      <th>Var</th>\n",
       "      <th>Vif</th>\n",
       "    </tr>\n",
       "  </thead>\n",
       "  <tbody>\n",
       "    <tr>\n",
       "      <th>1</th>\n",
       "      <td>bmi</td>\n",
       "      <td>18.38</td>\n",
       "    </tr>\n",
       "    <tr>\n",
       "      <th>0</th>\n",
       "      <td>age</td>\n",
       "      <td>8.25</td>\n",
       "    </tr>\n",
       "    <tr>\n",
       "      <th>8</th>\n",
       "      <td>obese</td>\n",
       "      <td>4.13</td>\n",
       "    </tr>\n",
       "    <tr>\n",
       "      <th>9</th>\n",
       "      <td>obese_smoker</td>\n",
       "      <td>2.66</td>\n",
       "    </tr>\n",
       "    <tr>\n",
       "      <th>2</th>\n",
       "      <td>children</td>\n",
       "      <td>1.82</td>\n",
       "    </tr>\n",
       "    <tr>\n",
       "      <th>6</th>\n",
       "      <td>region_southeast</td>\n",
       "      <td>0.68</td>\n",
       "    </tr>\n",
       "    <tr>\n",
       "      <th>3</th>\n",
       "      <td>sex_male</td>\n",
       "      <td>0.49</td>\n",
       "    </tr>\n",
       "    <tr>\n",
       "      <th>7</th>\n",
       "      <td>region_southwest</td>\n",
       "      <td>0.42</td>\n",
       "    </tr>\n",
       "    <tr>\n",
       "      <th>5</th>\n",
       "      <td>region_northwest</td>\n",
       "      <td>0.41</td>\n",
       "    </tr>\n",
       "    <tr>\n",
       "      <th>4</th>\n",
       "      <td>smoker_yes</td>\n",
       "      <td>0.17</td>\n",
       "    </tr>\n",
       "  </tbody>\n",
       "</table>\n",
       "</div>"
      ],
      "text/plain": [
       "                Var    Vif\n",
       "1               bmi  18.38\n",
       "0               age   8.25\n",
       "8             obese   4.13\n",
       "9      obese_smoker   2.66\n",
       "2          children   1.82\n",
       "6  region_southeast   0.68\n",
       "3          sex_male   0.49\n",
       "7  region_southwest   0.42\n",
       "5  region_northwest   0.41\n",
       "4        smoker_yes   0.17"
      ]
     },
     "execution_count": 8,
     "metadata": {},
     "output_type": "execute_result"
    }
   ],
   "source": [
    "# Function to calculate VIF\n",
    "import statsmodels.api as sm\n",
    "\n",
    "def calculate_vif(data):\n",
    "    vif_df = pd.DataFrame(columns = ['Var', 'Vif'])\n",
    "    x_var_names = data.columns\n",
    "    for i in range(0, x_var_names.shape[0]):\n",
    "        y = data[x_var_names[i]]\n",
    "        x = data[x_var_names.drop([x_var_names[i]])]\n",
    "        r_squared = sm.OLS(y,x).fit().rsquared\n",
    "        vif = round(1/(1-r_squared),2)\n",
    "        vif_df.loc[i] = [x_var_names[i], vif]\n",
    "    return vif_df.sort_values(by = 'Vif', axis = 0, ascending=False, inplace=False)\n",
    "\n",
    "X_vif=df.drop(['charges'],axis=1)\n",
    "calculate_vif(X_vif)"
   ]
  },
  {
   "cell_type": "code",
   "execution_count": 9,
   "id": "93a067b9",
   "metadata": {
    "scrolled": false
   },
   "outputs": [],
   "source": [
    "# # nowa mapa korelacji\n",
    "# corr = np.corrcoef(np.random.randn(11, 200))\n",
    "# mask = np.zeros_like(corr)\n",
    "# mask[np.triu_indices_from(mask)] = True\n",
    "# plt.figure(figsize=(12, 12))\n",
    "# sns.heatmap(df.corr(), cmap=\"YlGnBu\", mask=mask, square=True)"
   ]
  },
  {
   "cell_type": "markdown",
   "id": "7a1d3cd2",
   "metadata": {},
   "source": [
    "## Train, test split"
   ]
  },
  {
   "cell_type": "code",
   "execution_count": 10,
   "id": "24e1b4fa",
   "metadata": {
    "scrolled": false
   },
   "outputs": [
    {
     "data": {
      "text/plain": [
       "(402,)"
      ]
     },
     "execution_count": 10,
     "metadata": {},
     "output_type": "execute_result"
    }
   ],
   "source": [
    "from sklearn.model_selection import train_test_split\n",
    "\n",
    "X = df.drop(\"charges\", axis=1)\n",
    "y = df[\"charges\"]\n",
    "\n",
    "X_train, X_test, y_train, y_test = train_test_split(X, y, \n",
    "                                                    test_size=0.3, random_state=42)\n",
    "\n",
    "# X_train, X_test, y_train, y_test = train_test_split(X, y, \n",
    "#                                                     test_size=0.3, random_state=42, stratify=X.smoker_yes)\n",
    "\n",
    "y_test.shape"
   ]
  },
  {
   "cell_type": "markdown",
   "id": "51477867",
   "metadata": {},
   "source": [
    "### Pipeline, Scaler"
   ]
  },
  {
   "cell_type": "code",
   "execution_count": 11,
   "id": "5a2d79c9",
   "metadata": {
    "scrolled": false
   },
   "outputs": [],
   "source": [
    "from sklearn.preprocessing import StandardScaler\n",
    "from sklearn.preprocessing import MinMaxScaler\n",
    "from sklearn.preprocessing import RobustScaler"
   ]
  },
  {
   "cell_type": "code",
   "execution_count": 12,
   "id": "69938905",
   "metadata": {},
   "outputs": [],
   "source": [
    "s_scaler = StandardScaler()\n",
    "mm_scaler = MinMaxScaler()\n",
    "r_scaler = RobustScaler()"
   ]
  },
  {
   "cell_type": "markdown",
   "id": "265d8183",
   "metadata": {},
   "source": [
    "### PCA & Pipeline import"
   ]
  },
  {
   "cell_type": "code",
   "execution_count": 13,
   "id": "48d3a488",
   "metadata": {},
   "outputs": [],
   "source": [
    "from sklearn.pipeline import Pipeline\n",
    "from sklearn.pipeline import make_pipeline\n",
    "from sklearn.decomposition import PCA\n",
    "\n",
    "pca = PCA(svd_solver='full', n_components=0.95, random_state=42)"
   ]
  },
  {
   "cell_type": "markdown",
   "id": "af788277",
   "metadata": {},
   "source": [
    "### CV, GridSearchCV import"
   ]
  },
  {
   "cell_type": "code",
   "execution_count": 14,
   "id": "fd1c459f",
   "metadata": {},
   "outputs": [],
   "source": [
    "from sklearn.model_selection import GridSearchCV\n",
    "from sklearn.model_selection import RandomizedSearchCV\n",
    "from sklearn.model_selection import cross_val_score"
   ]
  },
  {
   "cell_type": "markdown",
   "id": "cb64a685",
   "metadata": {},
   "source": [
    "### Metrics import"
   ]
  },
  {
   "cell_type": "code",
   "execution_count": 15,
   "id": "1e870d6d",
   "metadata": {},
   "outputs": [],
   "source": [
    "from sklearn.metrics import mean_squared_error\n",
    "from sklearn.metrics import mean_absolute_error\n",
    "from sklearn.metrics import r2_score\n",
    "from sklearn.metrics import make_scorer\n",
    "from math import sqrt"
   ]
  },
  {
   "cell_type": "markdown",
   "id": "0a543916",
   "metadata": {},
   "source": [
    "### Model test function"
   ]
  },
  {
   "cell_type": "code",
   "execution_count": 16,
   "id": "193b1753",
   "metadata": {},
   "outputs": [],
   "source": [
    "def model_test(pipeline, Xtrain, ytrain, Xtest, ytest):\n",
    "    pipeline.fit(Xtrain, ytrain)\n",
    "    y_pred_train = pipeline.predict(Xtrain)\n",
    "    y_pred_test = pipeline.predict(Xtest)\n",
    "    \n",
    "    print('Zbiór treningowy:')\n",
    "    print(f'R^2 dla {pipeline}: \\n {pipeline.score(Xtrain, ytrain)}')\n",
    "    print(f'MSE {pipeline}: \\n {mean_squared_error(ytrain, y_pred_train)}')\n",
    "    print(f'RMSE {pipeline}: \\n {sqrt(mean_squared_error(ytrain, y_pred_train))}')\n",
    "    print(f'MAE {pipeline}: \\n {mean_absolute_error(ytrain, y_pred_train)}')\n",
    "    print('\\n ------------ \\n')\n",
    "    print('Zbiór testowy:')\n",
    "    print(f'R^2 dla {pipeline}: \\n {pipeline.score(Xtest, ytest)}')\n",
    "    print(f'MSE {pipeline}: \\n {mean_squared_error(ytest, y_pred_test)}')\n",
    "    print(f'RMSE {pipeline}: \\n {sqrt(mean_squared_error(ytest, y_pred_test))}')\n",
    "    print(f'MAE {pipeline} : \\n {mean_absolute_error(ytest, y_pred_test)}')\n",
    "    \n",
    "    print('\\n ------------ \\n')\n",
    "    print(f'cross validation for {pipeline}: {cross_val_score(pipeline, Xtrain, ytrain, cv=5).mean()} \\n')\n",
    "    \n",
    "    x_ax = range(len(y_test))\n",
    "    plt.scatter(x_ax, ytest, label=\"original\")\n",
    "    plt.scatter(x_ax, y_pred_test, label=\"predicted\")\n",
    "    plt.title(\"Test and predicted data\")\n",
    "    plt.legend()\n",
    "    plt.show()\n",
    "    \n",
    "    return pipeline.fit(Xtrain, ytrain)"
   ]
  },
  {
   "cell_type": "markdown",
   "id": "1bdb32e2",
   "metadata": {},
   "source": [
    "## Lasso for feature selection"
   ]
  },
  {
   "cell_type": "code",
   "execution_count": 17,
   "id": "af6757ab",
   "metadata": {
    "scrolled": false
   },
   "outputs": [
    {
     "data": {
      "image/png": "[encoded data removed]",
      "text/plain": [
       "<Figure size 432x288 with 1 Axes>"
      ]
     },
     "metadata": {
      "needs_background": "light"
     },
     "output_type": "display_data"
    }
   ],
   "source": [
    "from sklearn.linear_model import Lasso\n",
    "\n",
    "names = X.columns\n",
    "lasso = Lasso(alpha=0.1)\n",
    "lasso_coef = lasso.fit(X, y).coef_\n",
    "\n",
    "_ = plt.plot(range(len(names)), lasso_coef)\n",
    "_ = plt.xticks(range(len(names)), names, rotation=60)\n",
    "_ = plt.ylabel('Coefficients')\n",
    "plt.show()"
   ]
  },
  {
   "cell_type": "markdown",
   "id": "723a08f9",
   "metadata": {},
   "source": [
    "## Lasso regression"
   ]
  },
  {
   "cell_type": "markdown",
   "id": "eea24db2",
   "metadata": {},
   "source": [
    "##### Lasso standard (X_train, y_train)"
   ]
  },
  {
   "cell_type": "code",
   "execution_count": 18,
   "id": "666129f7",
   "metadata": {},
   "outputs": [],
   "source": [
    "lasso_std = Lasso()\n",
    "\n",
    "pipeline_lasso_1 = make_pipeline(lasso_std)"
   ]
  },
  {
   "cell_type": "code",
   "execution_count": 19,
   "id": "d1c8cc5c",
   "metadata": {},
   "outputs": [
    {
     "name": "stdout",
     "output_type": "stream",
     "text": [
      "Zbiór treningowy:\n",
      "R^2 dla Pipeline(steps=[('lasso', Lasso())]): \n",
      " 0.8604653597150158\n",
      "MSE Pipeline(steps=[('lasso', Lasso())]): \n",
      " 20437414.57208261\n",
      "RMSE Pipeline(steps=[('lasso', Lasso())]): \n",
      " 4520.775881647155\n",
      "MAE Pipeline(steps=[('lasso', Lasso())]): \n",
      " 2534.609245748564\n",
      "\n",
      " ------------ \n",
      "\n",
      "Zbiór testowy:\n",
      "R^2 dla Pipeline(steps=[('lasso', Lasso())]): \n",
      " 0.8710886882825442\n",
      "MSE Pipeline(steps=[('lasso', Lasso())]): \n",
      " 18901531.860295907\n",
      "RMSE Pipeline(steps=[('lasso', Lasso())]): \n",
      " 4347.589200959068\n",
      "MAE Pipeline(steps=[('lasso', Lasso())]) : \n",
      " 2421.1396966094376\n",
      "\n",
      " ------------ \n",
      "\n",
      "cross validation for Pipeline(steps=[('lasso', Lasso())]): 0.8517248803506355 \n",
      "\n"
     ]
    },
    {
     "data": {
      "image/png": "[encoded data removed]",
      "text/plain": [
       "<Figure size 432x288 with 1 Axes>"
      ]
     },
     "metadata": {
      "needs_background": "light"
     },
     "output_type": "display_data"
    },
    {
     "data": {
      "text/plain": [
       "Pipeline(steps=[('lasso', Lasso())])"
      ]
     },
     "execution_count": 19,
     "metadata": {},
     "output_type": "execute_result"
    }
   ],
   "source": [
    "model_test(pipeline_lasso_1, X_train, y_train, X_test, y_test)"
   ]
  },
  {
   "cell_type": "code",
   "execution_count": 20,
   "id": "448d4b42",
   "metadata": {},
   "outputs": [
    {
     "name": "stdout",
     "output_type": "stream",
     "text": [
      "Zbiór treningowy:\n",
      "R^2 dla Pipeline(steps=[('standardscaler', StandardScaler()), ('lasso', Lasso())]): \n",
      " 0.8604657743978603\n",
      "MSE Pipeline(steps=[('standardscaler', StandardScaler()), ('lasso', Lasso())]): \n",
      " 20437353.834152646\n",
      "RMSE Pipeline(steps=[('standardscaler', StandardScaler()), ('lasso', Lasso())]): \n",
      " 4520.76916399772\n",
      "MAE Pipeline(steps=[('standardscaler', StandardScaler()), ('lasso', Lasso())]): \n",
      " 2534.5121887922855\n",
      "\n",
      " ------------ \n",
      "\n",
      "Zbiór testowy:\n",
      "R^2 dla Pipeline(steps=[('standardscaler', StandardScaler()), ('lasso', Lasso())]): \n",
      " 0.8710847864580685\n",
      "MSE Pipeline(steps=[('standardscaler', StandardScaler()), ('lasso', Lasso())]): \n",
      " 18902103.962609176\n",
      "RMSE Pipeline(steps=[('standardscaler', StandardScaler()), ('lasso', Lasso())]): \n",
      " 4347.654995812016\n",
      "MAE Pipeline(steps=[('standardscaler', StandardScaler()), ('lasso', Lasso())]) : \n",
      " 2420.8135715648\n",
      "\n",
      " ------------ \n",
      "\n",
      "cross validation for Pipeline(steps=[('standardscaler', StandardScaler()), ('lasso', Lasso())]): 0.8517195190423461 \n",
      "\n"
     ]
    },
    {
     "data": {
      "image/png": "[encoded data removed]",
      "text/plain": [
       "<Figure size 432x288 with 1 Axes>"
      ]
     },
     "metadata": {
      "needs_background": "light"
     },
     "output_type": "display_data"
    },
    {
     "data": {
      "text/plain": [
       "Pipeline(steps=[('standardscaler', StandardScaler()), ('lasso', Lasso())])"
      ]
     },
     "execution_count": 20,
     "metadata": {},
     "output_type": "execute_result"
    }
   ],
   "source": [
    "pipeline_lasso_2 = make_pipeline(s_scaler, lasso_std)\n",
    "\n",
    "model_test(pipeline_lasso_2, X_train, y_train, X_test, y_test)"
   ]
  },
  {
   "cell_type": "code",
   "execution_count": 21,
   "id": "ddd0130f",
   "metadata": {},
   "outputs": [
    {
     "name": "stdout",
     "output_type": "stream",
     "text": [
      "Zbiór treningowy:\n",
      "R^2 dla Pipeline(steps=[('standardscaler', StandardScaler()),\n",
      "                ('pca',\n",
      "                 PCA(n_components=0.95, random_state=42, svd_solver='full')),\n",
      "                ('lasso', Lasso())]): \n",
      " 0.8585085360235932\n",
      "MSE Pipeline(steps=[('standardscaler', StandardScaler()),\n",
      "                ('pca',\n",
      "                 PCA(n_components=0.95, random_state=42, svd_solver='full')),\n",
      "                ('lasso', Lasso())]): \n",
      " 20724027.394134503\n",
      "RMSE Pipeline(steps=[('standardscaler', StandardScaler()),\n",
      "                ('pca',\n",
      "                 PCA(n_components=0.95, random_state=42, svd_solver='full')),\n",
      "                ('lasso', Lasso())]): \n",
      " 4552.365033049799\n",
      "MAE Pipeline(steps=[('standardscaler', StandardScaler()),\n",
      "                ('pca',\n",
      "                 PCA(n_components=0.95, random_state=42, svd_solver='full')),\n",
      "                ('lasso', Lasso())]): \n",
      " 2552.506917468527\n",
      "\n",
      " ------------ \n",
      "\n",
      "Zbiór testowy:\n",
      "R^2 dla Pipeline(steps=[('standardscaler', StandardScaler()),\n",
      "                ('pca',\n",
      "                 PCA(n_components=0.95, random_state=42, svd_solver='full')),\n",
      "                ('lasso', Lasso())]): \n",
      " 0.8687079956190408\n",
      "MSE Pipeline(steps=[('standardscaler', StandardScaler()),\n",
      "                ('pca',\n",
      "                 PCA(n_components=0.95, random_state=42, svd_solver='full')),\n",
      "                ('lasso', Lasso())]): \n",
      " 19250599.274390724\n",
      "RMSE Pipeline(steps=[('standardscaler', StandardScaler()),\n",
      "                ('pca',\n",
      "                 PCA(n_components=0.95, random_state=42, svd_solver='full')),\n",
      "                ('lasso', Lasso())]): \n",
      " 4387.5504868195785\n",
      "MAE Pipeline(steps=[('standardscaler', StandardScaler()),\n",
      "                ('pca',\n",
      "                 PCA(n_components=0.95, random_state=42, svd_solver='full')),\n",
      "                ('lasso', Lasso())]) : \n",
      " 2441.8063560829924\n",
      "\n",
      " ------------ \n",
      "\n",
      "cross validation for Pipeline(steps=[('standardscaler', StandardScaler()),\n",
      "                ('pca',\n",
      "                 PCA(n_components=0.95, random_state=42, svd_solver='full')),\n",
      "                ('lasso', Lasso())]): 0.8500159645800143 \n",
      "\n"
     ]
    },
    {
     "data": {
      "image/png": "[encoded data removed]",
      "text/plain": [
       "<Figure size 432x288 with 1 Axes>"
      ]
     },
     "metadata": {
      "needs_background": "light"
     },
     "output_type": "display_data"
    },
    {
     "data": {
      "text/plain": [
       "Pipeline(steps=[('standardscaler', StandardScaler()),\n",
       "                ('pca',\n",
       "                 PCA(n_components=0.95, random_state=42, svd_solver='full')),\n",
       "                ('lasso', Lasso())])"
      ]
     },
     "execution_count": 21,
     "metadata": {},
     "output_type": "execute_result"
    }
   ],
   "source": [
    "pipeline_lasso_3 = make_pipeline(s_scaler, pca, lasso_std)\n",
    "\n",
    "model_test(pipeline_lasso_3, X_train, y_train, X_test, y_test)"
   ]
  },
  {
   "cell_type": "code",
   "execution_count": 22,
   "id": "9a05146d",
   "metadata": {},
   "outputs": [
    {
     "name": "stdout",
     "output_type": "stream",
     "text": [
      "Zbiór treningowy:\n",
      "R^2 dla Pipeline(steps=[('standardscaler', StandardScaler()),\n",
      "                ('pca',\n",
      "                 PCA(n_components=0.95, random_state=42, svd_solver='full')),\n",
      "                ('lasso', Lasso())]): \n",
      " 0.8585085360235932\n",
      "MSE Pipeline(steps=[('standardscaler', StandardScaler()),\n",
      "                ('pca',\n",
      "                 PCA(n_components=0.95, random_state=42, svd_solver='full')),\n",
      "                ('lasso', Lasso())]): \n",
      " 20724027.394134503\n",
      "RMSE Pipeline(steps=[('standardscaler', StandardScaler()),\n",
      "                ('pca',\n",
      "                 PCA(n_components=0.95, random_state=42, svd_solver='full')),\n",
      "                ('lasso', Lasso())]): \n",
      " 4552.365033049799\n",
      "MAE Pipeline(steps=[('standardscaler', StandardScaler()),\n",
      "                ('pca',\n",
      "                 PCA(n_components=0.95, random_state=42, svd_solver='full')),\n",
      "                ('lasso', Lasso())]): \n",
      " 2552.506917468527\n",
      "\n",
      " ------------ \n",
      "\n",
      "Zbiór testowy:\n",
      "R^2 dla Pipeline(steps=[('standardscaler', StandardScaler()),\n",
      "                ('pca',\n",
      "                 PCA(n_components=0.95, random_state=42, svd_solver='full')),\n",
      "                ('lasso', Lasso())]): \n",
      " 0.8687079956190408\n",
      "MSE Pipeline(steps=[('standardscaler', StandardScaler()),\n",
      "                ('pca',\n",
      "                 PCA(n_components=0.95, random_state=42, svd_solver='full')),\n",
      "                ('lasso', Lasso())]): \n",
      " 19250599.274390724\n",
      "RMSE Pipeline(steps=[('standardscaler', StandardScaler()),\n",
      "                ('pca',\n",
      "                 PCA(n_components=0.95, random_state=42, svd_solver='full')),\n",
      "                ('lasso', Lasso())]): \n",
      " 4387.5504868195785\n",
      "MAE Pipeline(steps=[('standardscaler', StandardScaler()),\n",
      "                ('pca',\n",
      "                 PCA(n_components=0.95, random_state=42, svd_solver='full')),\n",
      "                ('lasso', Lasso())]) : \n",
      " 2441.8063560829924\n",
      "\n",
      " ------------ \n",
      "\n",
      "cross validation for Pipeline(steps=[('standardscaler', StandardScaler()),\n",
      "                ('pca',\n",
      "                 PCA(n_components=0.95, random_state=42, svd_solver='full')),\n",
      "                ('lasso', Lasso())]): 0.8500159645800143 \n",
      "\n"
     ]
    },
    {
     "data": {
      "image/png": "[encoded data removed]",
      "text/plain": [
       "<Figure size 432x288 with 1 Axes>"
      ]
     },
     "metadata": {
      "needs_background": "light"
     },
     "output_type": "display_data"
    },
    {
     "data": {
      "text/plain": [
       "{'memory': None,\n",
       " 'steps': [('standardscaler', StandardScaler()),\n",
       "  ('pca', PCA(n_components=0.95, random_state=42, svd_solver='full')),\n",
       "  ('lasso', Lasso())],\n",
       " 'verbose': False,\n",
       " 'standardscaler': StandardScaler(),\n",
       " 'pca': PCA(n_components=0.95, random_state=42, svd_solver='full'),\n",
       " 'lasso': Lasso(),\n",
       " 'standardscaler__copy': True,\n",
       " 'standardscaler__with_mean': True,\n",
       " 'standardscaler__with_std': True,\n",
       " 'pca__copy': True,\n",
       " 'pca__iterated_power': 'auto',\n",
       " 'pca__n_components': 0.95,\n",
       " 'pca__random_state': 42,\n",
       " 'pca__svd_solver': 'full',\n",
       " 'pca__tol': 0.0,\n",
       " 'pca__whiten': False,\n",
       " 'lasso__alpha': 1.0,\n",
       " 'lasso__copy_X': True,\n",
       " 'lasso__fit_intercept': True,\n",
       " 'lasso__max_iter': 1000,\n",
       " 'lasso__normalize': 'deprecated',\n",
       " 'lasso__positive': False,\n",
       " 'lasso__precompute': False,\n",
       " 'lasso__random_state': None,\n",
       " 'lasso__selection': 'cyclic',\n",
       " 'lasso__tol': 0.0001,\n",
       " 'lasso__warm_start': False}"
      ]
     },
     "execution_count": 22,
     "metadata": {},
     "output_type": "execute_result"
    }
   ],
   "source": [
    "model_test(pipeline_lasso_3, X_train, y_train, X_test, y_test).get_params(deep=True)"
   ]
  },
  {
   "cell_type": "markdown",
   "id": "66328065",
   "metadata": {},
   "source": [
    "### RandomizedSearchCV Lasso regression"
   ]
  },
  {
   "cell_type": "code",
   "execution_count": 23,
   "id": "aa3904d2",
   "metadata": {
    "scrolled": false
   },
   "outputs": [
    {
     "name": "stdout",
     "output_type": "stream",
     "text": [
      "Tuned Lasso Alpha: {'lasso__warm_start': True, 'lasso__selection': 'cyclic', 'lasso__positive': False, 'lasso__max_iter': 714.1414141414141, 'lasso__fit_intercept': True, 'lasso__alpha': 6.212424849699399} \n",
      "\n",
      "Best params score: 0.8523035842708496 \n",
      "\n",
      "Tuned Lasso score: 0.8687400948689088 \n",
      "\n",
      "Tuned Lasso MSE: 19245892.74409489 \n",
      "\n",
      "Tuned Lasso RMSE: 4387.014103475722 \n",
      "\n",
      "Tuned Lasso MAE: 2442.7045209588036 \n",
      "\n"
     ]
    }
   ],
   "source": [
    "pipeline_lasso_gs_1 = make_pipeline(s_scaler, pca, lasso_std)\n",
    "\n",
    "# Specify the hyperparameter space\n",
    "parameters = {'lasso__alpha':np.linspace(0,100,500),\n",
    "             'lasso__fit_intercept':[True, False],\n",
    "             'lasso__warm_start':[True, False],\n",
    "             'lasso__positive':[True, False],\n",
    "             'lasso__selection': ['cyclic', 'random'],\n",
    "             'lasso__max_iter':np.linspace(100,2000,100)}\n",
    "\n",
    "# Create the GridSearchCV object\n",
    "lasso_cv = RandomizedSearchCV(pipeline_lasso_gs_1, \n",
    "                              param_distributions=parameters, cv=3)\n",
    "\n",
    "# Fit to the training set\n",
    "lasso_cv.fit(X_train, y_train)\n",
    "y_pred_lasso_cv = lasso_cv.predict(X_test)\n",
    "\n",
    "# Compute and print the metrics\n",
    "score = lasso_cv.score(X_test, y_test)\n",
    "print(\"Tuned Lasso Alpha: {} \\n\".format(lasso_cv.best_params_))\n",
    "print('Best params score: {} \\n'.format(lasso_cv.best_score_))\n",
    "print(\"Tuned Lasso score: {} \\n\".format(score))\n",
    "print(f'Tuned Lasso MSE: {mean_squared_error(y_test, y_pred_lasso_cv)} \\n')\n",
    "print(f'Tuned Lasso RMSE: {sqrt(mean_squared_error(y_test, y_pred_lasso_cv))} \\n')\n",
    "print(f'Tuned Lasso MAE: {mean_absolute_error(y_test, y_pred_lasso_cv)} \\n')"
   ]
  },
  {
   "cell_type": "markdown",
   "id": "a71beb74",
   "metadata": {},
   "source": [
    "## Ridge regression"
   ]
  },
  {
   "cell_type": "code",
   "execution_count": 24,
   "id": "92131dcc",
   "metadata": {
    "scrolled": false
   },
   "outputs": [],
   "source": [
    "from sklearn.linear_model import Ridge\n",
    "\n",
    "ridge_std = Ridge()"
   ]
  },
  {
   "cell_type": "code",
   "execution_count": 28,
   "id": "89b0acb4",
   "metadata": {},
   "outputs": [
    {
     "name": "stdout",
     "output_type": "stream",
     "text": [
      "Zbiór treningowy:\n",
      "R^2 dla Pipeline(steps=[('ridge', Ridge())]): \n",
      " 0.8604253705396929\n",
      "MSE Pipeline(steps=[('ridge', Ridge())]): \n",
      " 20443271.722341485\n",
      "RMSE Pipeline(steps=[('ridge', Ridge())]): \n",
      " 4521.423638893118\n",
      "MAE Pipeline(steps=[('ridge', Ridge())]): \n",
      " 2539.0863816271676\n",
      "\n",
      " ------------ \n",
      "\n",
      "Zbiór testowy:\n",
      "R^2 dla Pipeline(steps=[('ridge', Ridge())]): \n",
      " 0.8712125654141842\n",
      "MSE Pipeline(steps=[('ridge', Ridge())]): \n",
      " 18883368.461605277\n",
      "RMSE Pipeline(steps=[('ridge', Ridge())]): \n",
      " 4345.499794224512\n",
      "MAE Pipeline(steps=[('ridge', Ridge())]) : \n",
      " 2424.1666345581903\n",
      "\n",
      " ------------ \n",
      "\n",
      "cross validation for Pipeline(steps=[('ridge', Ridge())]): 0.8517178296326483 \n",
      "\n"
     ]
    },
    {
     "data": {
      "image/png": "[encoded data removed]",
      "text/plain": [
       "<Figure size 432x288 with 1 Axes>"
      ]
     },
     "metadata": {
      "needs_background": "light"
     },
     "output_type": "display_data"
    },
    {
     "data": {
      "text/plain": [
       "Pipeline(steps=[('ridge', Ridge())])"
      ]
     },
     "execution_count": 28,
     "metadata": {},
     "output_type": "execute_result"
    }
   ],
   "source": [
    "pipeline_ridge_2 = make_pipeline(ridge_std)\n",
    "\n",
    "model_test(pipeline_ridge_2, X_train, y_train, X_test, y_test)"
   ]
  },
  {
   "cell_type": "code",
   "execution_count": 26,
   "id": "7a1eb676",
   "metadata": {},
   "outputs": [
    {
     "name": "stdout",
     "output_type": "stream",
     "text": [
      "Zbiór treningowy:\n",
      "R^2 dla Pipeline(steps=[('standardscaler', StandardScaler()),\n",
      "                ('pca',\n",
      "                 PCA(n_components=0.95, random_state=42, svd_solver='full')),\n",
      "                ('ridge', Ridge())]): \n",
      " 0.8585081402522512\n",
      "MSE Pipeline(steps=[('standardscaler', StandardScaler()),\n",
      "                ('pca',\n",
      "                 PCA(n_components=0.95, random_state=42, svd_solver='full')),\n",
      "                ('ridge', Ridge())]): \n",
      " 20724085.36212708\n",
      "RMSE Pipeline(steps=[('standardscaler', StandardScaler()),\n",
      "                ('pca',\n",
      "                 PCA(n_components=0.95, random_state=42, svd_solver='full')),\n",
      "                ('ridge', Ridge())]): \n",
      " 4552.371399845039\n",
      "MAE Pipeline(steps=[('standardscaler', StandardScaler()),\n",
      "                ('pca',\n",
      "                 PCA(n_components=0.95, random_state=42, svd_solver='full')),\n",
      "                ('ridge', Ridge())]): \n",
      " 2553.4376301757347\n",
      "\n",
      " ------------ \n",
      "\n",
      "Zbiór testowy:\n",
      "R^2 dla Pipeline(steps=[('standardscaler', StandardScaler()),\n",
      "                ('pca',\n",
      "                 PCA(n_components=0.95, random_state=42, svd_solver='full')),\n",
      "                ('ridge', Ridge())]): \n",
      " 0.8687205914334071\n",
      "MSE Pipeline(steps=[('standardscaler', StandardScaler()),\n",
      "                ('pca',\n",
      "                 PCA(n_components=0.95, random_state=42, svd_solver='full')),\n",
      "                ('ridge', Ridge())]): \n",
      " 19248752.421826903\n",
      "RMSE Pipeline(steps=[('standardscaler', StandardScaler()),\n",
      "                ('pca',\n",
      "                 PCA(n_components=0.95, random_state=42, svd_solver='full')),\n",
      "                ('ridge', Ridge())]): \n",
      " 4387.3400166646425\n",
      "MAE Pipeline(steps=[('standardscaler', StandardScaler()),\n",
      "                ('pca',\n",
      "                 PCA(n_components=0.95, random_state=42, svd_solver='full')),\n",
      "                ('ridge', Ridge())]) : \n",
      " 2442.745214622144\n",
      "\n",
      " ------------ \n",
      "\n",
      "cross validation for Pipeline(steps=[('standardscaler', StandardScaler()),\n",
      "                ('pca',\n",
      "                 PCA(n_components=0.95, random_state=42, svd_solver='full')),\n",
      "                ('ridge', Ridge())]): 0.8500211477248563 \n",
      "\n"
     ]
    },
    {
     "data": {
      "image/png": "[encoded data removed]",
      "text/plain": [
       "<Figure size 432x288 with 1 Axes>"
      ]
     },
     "metadata": {
      "needs_background": "light"
     },
     "output_type": "display_data"
    },
    {
     "data": {
      "text/plain": [
       "Pipeline(steps=[('standardscaler', StandardScaler()),\n",
       "                ('pca',\n",
       "                 PCA(n_components=0.95, random_state=42, svd_solver='full')),\n",
       "                ('ridge', Ridge())])"
      ]
     },
     "execution_count": 26,
     "metadata": {},
     "output_type": "execute_result"
    }
   ],
   "source": [
    "pipeline_ridge_3 = make_pipeline(s_scaler, pca, ridge_std)\n",
    "\n",
    "model_test(pipeline_ridge_3, X_train, y_train, X_test, y_test)"
   ]
  },
  {
   "cell_type": "markdown",
   "id": "1d890fcf",
   "metadata": {},
   "source": [
    "### RandomizedSearchCV Ridge regression"
   ]
  },
  {
   "cell_type": "code",
   "execution_count": 27,
   "id": "c7d5c68d",
   "metadata": {},
   "outputs": [
    {
     "name": "stdout",
     "output_type": "stream",
     "text": [
      "Tuned Ridge Alpha: {'ridge__solver': 'saga', 'ridge__positive': False, 'ridge__max_iter': 1117.171717171717, 'ridge__alpha': 2.136734693877551} \n",
      "\n",
      "Best params score: 0.8539305098078787 \n",
      "\n",
      "Tuned Ridge score: 0.8711263030337505 \n",
      "\n",
      "Tuned Ridge MSE: 18896016.62343367 \n",
      "\n",
      "Tuned Ridge RMSE: 4346.954867885525 \n",
      "\n",
      "Tuned Ridge MAE: 2422.3411696047497 \n",
      "\n"
     ]
    },
    {
     "name": "stderr",
     "output_type": "stream",
     "text": [
      "C:\\Users\\isiu1\\anaconda3\\lib\\site-packages\\sklearn\\model_selection\\_validation.py:372: FitFailedWarning: \n",
      "12 fits failed out of a total of 30.\n",
      "The score on these train-test partitions for these parameters will be set to nan.\n",
      "If these failures are not expected, you can try to debug them by setting error_score='raise'.\n",
      "\n",
      "Below are more details about the failures:\n",
      "--------------------------------------------------------------------------------\n",
      "6 fits failed with the following error:\n",
      "Traceback (most recent call last):\n",
      "  File \"C:\\Users\\isiu1\\anaconda3\\lib\\site-packages\\sklearn\\model_selection\\_validation.py\", line 680, in _fit_and_score\n",
      "    estimator.fit(X_train, y_train, **fit_params)\n",
      "  File \"C:\\Users\\isiu1\\anaconda3\\lib\\site-packages\\sklearn\\pipeline.py\", line 394, in fit\n",
      "    self._final_estimator.fit(Xt, y, **fit_params_last_step)\n",
      "  File \"C:\\Users\\isiu1\\anaconda3\\lib\\site-packages\\sklearn\\linear_model\\_ridge.py\", line 1011, in fit\n",
      "    return super().fit(X, y, sample_weight=sample_weight)\n",
      "  File \"C:\\Users\\isiu1\\anaconda3\\lib\\site-packages\\sklearn\\linear_model\\_ridge.py\", line 712, in fit\n",
      "    raise ValueError(\n",
      "ValueError: solver='lsqr' does not support positive fitting. Please set the solver to 'auto' or 'lbfgs', or set `positive=False`\n",
      "\n",
      "--------------------------------------------------------------------------------\n",
      "3 fits failed with the following error:\n",
      "Traceback (most recent call last):\n",
      "  File \"C:\\Users\\isiu1\\anaconda3\\lib\\site-packages\\sklearn\\model_selection\\_validation.py\", line 680, in _fit_and_score\n",
      "    estimator.fit(X_train, y_train, **fit_params)\n",
      "  File \"C:\\Users\\isiu1\\anaconda3\\lib\\site-packages\\sklearn\\pipeline.py\", line 394, in fit\n",
      "    self._final_estimator.fit(Xt, y, **fit_params_last_step)\n",
      "  File \"C:\\Users\\isiu1\\anaconda3\\lib\\site-packages\\sklearn\\linear_model\\_ridge.py\", line 1011, in fit\n",
      "    return super().fit(X, y, sample_weight=sample_weight)\n",
      "  File \"C:\\Users\\isiu1\\anaconda3\\lib\\site-packages\\sklearn\\linear_model\\_ridge.py\", line 712, in fit\n",
      "    raise ValueError(\n",
      "ValueError: solver='sparse_cg' does not support positive fitting. Please set the solver to 'auto' or 'lbfgs', or set `positive=False`\n",
      "\n",
      "--------------------------------------------------------------------------------\n",
      "3 fits failed with the following error:\n",
      "Traceback (most recent call last):\n",
      "  File \"C:\\Users\\isiu1\\anaconda3\\lib\\site-packages\\sklearn\\model_selection\\_validation.py\", line 680, in _fit_and_score\n",
      "    estimator.fit(X_train, y_train, **fit_params)\n",
      "  File \"C:\\Users\\isiu1\\anaconda3\\lib\\site-packages\\sklearn\\pipeline.py\", line 394, in fit\n",
      "    self._final_estimator.fit(Xt, y, **fit_params_last_step)\n",
      "  File \"C:\\Users\\isiu1\\anaconda3\\lib\\site-packages\\sklearn\\linear_model\\_ridge.py\", line 1011, in fit\n",
      "    return super().fit(X, y, sample_weight=sample_weight)\n",
      "  File \"C:\\Users\\isiu1\\anaconda3\\lib\\site-packages\\sklearn\\linear_model\\_ridge.py\", line 712, in fit\n",
      "    raise ValueError(\n",
      "ValueError: solver='saga' does not support positive fitting. Please set the solver to 'auto' or 'lbfgs', or set `positive=False`\n",
      "\n",
      "  warnings.warn(some_fits_failed_message, FitFailedWarning)\n",
      "C:\\Users\\isiu1\\anaconda3\\lib\\site-packages\\sklearn\\model_selection\\_search.py:969: UserWarning: One or more of the test scores are non-finite: [       nan 0.85348015 0.85266879 0.85098713 0.85276329 0.85390962\n",
      "        nan        nan 0.85393051        nan]\n",
      "  warnings.warn(\n"
     ]
    }
   ],
   "source": [
    "pipeline_ridge_gs_1 = make_pipeline(s_scaler, ridge_std)\n",
    "\n",
    "# Specify the hyperparameter space\n",
    "parameters_ridge = {'ridge__alpha':np.linspace(0.1,50,50),\n",
    "              'ridge__solver':['auto', 'svd', 'cholesky', 'lsqr', 'sparse_cg', 'sag', 'saga'],\n",
    "             'ridge__positive':[True, False],\n",
    "             'ridge__max_iter':np.linspace(100,2000,100)}\n",
    "\n",
    "# Create the RandomizedSearchCV object\n",
    "ridge_cv = RandomizedSearchCV(pipeline_ridge_gs_1, \n",
    "                              param_distributions=parameters_ridge, cv=3)\n",
    "\n",
    "# Fit to the training set\n",
    "ridge_cv.fit(X_train, y_train)\n",
    "y_pred_ridge_cv = ridge_cv.predict(X_test)\n",
    "\n",
    "# Compute and print the metrics\n",
    "score = ridge_cv.score(X_test, y_test)\n",
    "print(\"Tuned Ridge Alpha: {} \\n\".format(ridge_cv.best_params_))\n",
    "print('Best params score: {} \\n'.format(ridge_cv.best_score_))\n",
    "print(\"Tuned Ridge score: {} \\n\".format(score))\n",
    "print(f'Tuned Ridge MSE: {mean_squared_error(y_test, y_pred_ridge_cv)} \\n')\n",
    "print(f'Tuned Ridge RMSE: {sqrt(mean_squared_error(y_test, y_pred_ridge_cv))} \\n')\n",
    "print(f'Tuned Ridge MAE: {mean_absolute_error(y_test, y_pred_ridge_cv)} \\n')"
   ]
  },
  {
   "cell_type": "code",
   "execution_count": null,
   "id": "0a8f4175",
   "metadata": {},
   "outputs": [],
   "source": []
  },
  {
   "cell_type": "markdown",
   "id": "f0d7093d",
   "metadata": {},
   "source": [
    "## SVM regression"
   ]
  },
  {
   "cell_type": "code",
   "execution_count": 29,
   "id": "aaacadc2",
   "metadata": {
    "scrolled": false
   },
   "outputs": [],
   "source": [
    "from sklearn.svm import LinearSVR\n",
    "from sklearn.preprocessing import scale\n",
    "from sklearn.svm import SVR"
   ]
  },
  {
   "cell_type": "code",
   "execution_count": 30,
   "id": "d0ef9f16",
   "metadata": {},
   "outputs": [],
   "source": [
    "#C - the regularization term, the bigger C - the smaller the regularization effect and vice versa\n",
    "C = 100000\n",
    "#kernel is a type of kernel used for classifier, could be one of the following : \n",
    "#'linear’, ‘poly’, ‘rbf’, ‘sigmoid’, ‘precomputed’ or a callable\n",
    "kernel = 'poly'\n",
    "#degree - polynomial degree if kernel = 'poly'\n",
    "degree = 2\n",
    "#gamma - controlsthe width of margin\n",
    "gamma = 0.01\n",
    "#feel free to play with all parameters yourself and see the results\n",
    "epsilon = 100 #Epsilon in the epsilon-SVR model. It specifies the epsilon-tube within which no penalty is associated in the training loss function with points predicted within a distance epsilon from"
   ]
  },
  {
   "cell_type": "code",
   "execution_count": 31,
   "id": "9c3e3bb9",
   "metadata": {},
   "outputs": [],
   "source": [
    "lsvr = SVR()"
   ]
  },
  {
   "cell_type": "code",
   "execution_count": 32,
   "id": "7b64a995",
   "metadata": {},
   "outputs": [],
   "source": [
    "pipeline_lsvr_gs_1 = make_pipeline(mm_scaler, lsvr)"
   ]
  },
  {
   "cell_type": "code",
   "execution_count": 33,
   "id": "4b985b96",
   "metadata": {},
   "outputs": [
    {
     "name": "stdout",
     "output_type": "stream",
     "text": [
      "Tuned SVR Alpha: {'svr__C': 50.0, 'svr__kernel': 'poly'} \n",
      "\n",
      "Best params score: 0.7341549243151375 \n",
      "\n",
      "Tuned SVR score: 0.8096674440719358 \n",
      "\n",
      "Tuned SVR MSE: 27907379.28267247 \n",
      "\n",
      "Tuned SVR RMSE: 5282.743537469188 \n",
      "\n",
      "Tuned SVR MAE: 3152.0890483280878 \n",
      "\n"
     ]
    }
   ],
   "source": [
    "# Specify the hyperparameter space\n",
    "parameters_lsvr = {'svr__C':np.linspace(0.01,50,50),\n",
    "                   'svr__kernel':['linear', 'poly', 'rbf', 'sigmoid']}\n",
    "\n",
    "# Create the GridSearchCV object\n",
    "lsvr_cv = GridSearchCV(pipeline_lsvr_gs_1, \n",
    "                              param_grid=parameters_lsvr, cv=3)\n",
    "\n",
    "# Fit to the training set\n",
    "lsvr_cv.fit(X_train, y_train)\n",
    "y_pred_lsvr_cv = lsvr_cv.predict(X_test)\n",
    "\n",
    "# Compute and print the metrics\n",
    "score = lsvr_cv.score(X_test, y_test)\n",
    "print(\"Tuned SVR Alpha: {} \\n\".format(lsvr_cv.best_params_))\n",
    "print('Best params score: {} \\n'.format(lsvr_cv.best_score_))\n",
    "print(\"Tuned SVR score: {} \\n\".format(score))\n",
    "print(f'Tuned SVR MSE: {mean_squared_error(y_test, y_pred_lsvr_cv)} \\n')\n",
    "print(f'Tuned SVR RMSE: {sqrt(mean_squared_error(y_test, y_pred_lsvr_cv))} \\n')\n",
    "print(f'Tuned SVR MAE: {mean_absolute_error(y_test, y_pred_lsvr_cv)} \\n')"
   ]
  },
  {
   "cell_type": "code",
   "execution_count": 34,
   "id": "b84e2151",
   "metadata": {},
   "outputs": [
    {
     "name": "stdout",
     "output_type": "stream",
     "text": [
      "Tuned SVR Alpha: {'svr__C': 100.0, 'svr__epsilon': 0.01, 'svr__kernel': 'linear'} \n",
      "\n",
      "Best params score: 0.6415615400402905 \n",
      "\n",
      "Tuned SVR score: 0.7797170264180591 \n",
      "\n",
      "Tuned SVR MSE: 32298838.54231215 \n",
      "\n",
      "Tuned SVR RMSE: 5683.20671296691 \n",
      "\n",
      "Tuned SVR MAE: 2832.612072319358 \n",
      "\n"
     ]
    }
   ],
   "source": [
    "parameters_lsvr_1 = {'svr__C':np.linspace(0.01,100,50),\n",
    "                   'svr__kernel':['linear'],\n",
    "                     'svr__epsilon':np.linspace(0.01,50,50),\n",
    "#                      'svr__shrinking':[True, False]\n",
    "                  }\n",
    "\n",
    "# Create the GridSearchCV object\n",
    "lsvr_cv = GridSearchCV(pipeline_lsvr_gs_1, \n",
    "                              param_grid=parameters_lsvr_1, cv=3)\n",
    "\n",
    "# Fit to the training set\n",
    "lsvr_cv.fit(X_train, y_train)\n",
    "y_pred_lsvr_cv = lsvr_cv.predict(X_test)\n",
    "\n",
    "# Compute and print the metrics\n",
    "score = lsvr_cv.score(X_test, y_test)\n",
    "print(\"Tuned SVR Alpha: {} \\n\".format(lsvr_cv.best_params_))\n",
    "print('Best params score: {} \\n'.format(lsvr_cv.best_score_))\n",
    "print(\"Tuned SVR score: {} \\n\".format(score))\n",
    "print(f'Tuned SVR MSE: {mean_squared_error(y_test, y_pred_lsvr_cv)} \\n')\n",
    "print(f'Tuned SVR RMSE: {sqrt(mean_squared_error(y_test, y_pred_lsvr_cv))} \\n')\n",
    "print(f'Tuned SVR MAE: {mean_absolute_error(y_test, y_pred_lsvr_cv)} \\n')"
   ]
  },
  {
   "cell_type": "code",
   "execution_count": null,
   "id": "1638d55e",
   "metadata": {},
   "outputs": [],
   "source": []
  },
  {
   "cell_type": "code",
   "execution_count": null,
   "id": "b8a9a1a4",
   "metadata": {},
   "outputs": [],
   "source": []
  },
  {
   "cell_type": "code",
   "execution_count": null,
   "id": "b470e2d3",
   "metadata": {},
   "outputs": [],
   "source": []
  },
  {
   "cell_type": "code",
   "execution_count": null,
   "id": "ce4003da",
   "metadata": {},
   "outputs": [],
   "source": []
  }
 ],
 "metadata": {
  "kernelspec": {
   "display_name": "Python 3 (ipykernel)",
   "language": "python",
   "name": "python3"
  },
  "language_info": {
   "codemirror_mode": {
    "name": "ipython",
    "version": 3
   },
   "file_extension": ".py",
   "mimetype": "text/x-python",
   "name": "python",
   "nbconvert_exporter": "python",
   "pygments_lexer": "ipython3",
   "version": "3.8.8"
  }
 },
 "nbformat": 4,
 "nbformat_minor": 5
}
