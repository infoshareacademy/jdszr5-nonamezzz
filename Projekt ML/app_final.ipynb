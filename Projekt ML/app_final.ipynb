{
 "cells": [
  {
   "cell_type": "code",
   "execution_count": 1,
   "id": "81bb3fc6",
   "metadata": {
    "extensions": {
     "jupyter_dashboards": {
      "version": 1,
      "views": {
       "grid_default": {},
       "report_default": {
        "hidden": true
       }
      }
     }
    },
    "hide_input": false
   },
   "outputs": [],
   "source": [
    "import pandas as pd\n",
    "import seaborn as sns\n",
    "import matplotlib.pyplot as plt\n",
    "import numpy as np\n",
    "from pandas_profiling import ProfileReport\n",
    "from sklearn.ensemble import GradientBoostingRegressor, AdaBoostRegressor\n",
    "from sklearn.model_selection import train_test_split,  GridSearchCV\n",
    "from sklearn.model_selection import cross_val_score, KFold\n",
    "from sklearn.metrics import mean_squared_error\n",
    "from sklearn.metrics import mean_squared_error as MSE\n",
    "from sklearn.tree import DecisionTreeRegressor\n",
    "from sklearn.preprocessing import StandardScaler, MinMaxScaler, RobustScaler\n",
    "from pandas.plotting import scatter_matrix\n",
    "from sklearn.metrics import r2_score, classification_report\n",
    "from sklearn.linear_model import ElasticNet, ElasticNetCV\n",
    "from sklearn.pipeline import Pipeline\n",
    "from sklearn.decomposition import PCA\n",
    "\n",
    "import ipywidgets as widgets\n",
    "from IPython.display import display, clear_output\n",
    "from pandas.io.formats import style\n",
    "from IPython.display import display\n",
    "from ipywidgets import Button, GridBox, Layout, ButtonStyle\n",
    "\n",
    "\n",
    "%matplotlib inline\n",
    "\n",
    "initial_df = pd.read_csv(\"insurance.csv\")\n",
    "\n",
    "# one hot encoding\n",
    "df = pd.get_dummies(initial_df, drop_first=True)\n",
    "# dodanie kategorii otyły (w USA wg jakiegoś medycznego instytu jest po prostu powyżej 30\n",
    "df[\"obese\"] = df[\"bmi\"].apply(lambda x: 1 if x >= 30 else 0)\n",
    "# dodanie kategorii otyły i palący\n",
    "df[\"obese_smoker\"] = df[[\"obese\", \"smoker_yes\"]].apply(\n",
    "    lambda x: 1 if (x[\"obese\"] == 1) & (x[\"smoker_yes\"] == 1) else 0, axis=1\n",
    ")"
   ]
  },
  {
   "cell_type": "code",
   "execution_count": 2,
   "id": "0c9cf0ec",
   "metadata": {
    "extensions": {
     "jupyter_dashboards": {
      "version": 1,
      "views": {
       "grid_default": {},
       "report_default": {
        "hidden": true
       }
      }
     }
    },
    "hide_input": true
   },
   "outputs": [
    {
     "data": {
      "text/plain": [
       "Index(['age', 'sex', 'bmi', 'children', 'smoker', 'region', 'charges'], dtype='object')"
      ]
     },
     "execution_count": 2,
     "metadata": {},
     "output_type": "execute_result"
    }
   ],
   "source": [
    "initial_df.columns"
   ]
  },
  {
   "cell_type": "code",
   "execution_count": 3,
   "id": "5654f902",
   "metadata": {
    "extensions": {
     "jupyter_dashboards": {
      "version": 1,
      "views": {
       "grid_default": {},
       "report_default": {
        "hidden": true
       }
      }
     }
    },
    "hide_input": true
   },
   "outputs": [
    {
     "data": {
      "text/plain": [
       "Index(['age', 'bmi', 'children', 'charges', 'sex_male', 'smoker_yes',\n",
       "       'region_northwest', 'region_southeast', 'region_southwest', 'obese',\n",
       "       'obese_smoker'],\n",
       "      dtype='object')"
      ]
     },
     "execution_count": 3,
     "metadata": {},
     "output_type": "execute_result"
    }
   ],
   "source": [
    "df.columns"
   ]
  },
  {
   "cell_type": "code",
   "execution_count": 4,
   "id": "8a6760c7",
   "metadata": {
    "extensions": {
     "jupyter_dashboards": {
      "version": 1,
      "views": {
       "grid_default": {},
       "report_default": {
        "hidden": true
       }
      }
     }
    },
    "hide_input": false
   },
   "outputs": [],
   "source": [
    "#widgets\n",
    "style = {'description_width': 'initial'}\n",
    "\n",
    "widget_sex = widgets.Select(\n",
    "    options = sorted(initial_df['sex'].unique().tolist()),\n",
    "    description = 'Sex',\n",
    "    style = style,\n",
    "    disabled = False,\n",
    "    layout = {'width': 'max-content'})\n",
    "\n",
    "widget_region = widgets.Select(\n",
    "    options = sorted(initial_df['region'].unique().tolist()),\n",
    "    description = 'Region',\n",
    "    style = style,\n",
    "    disabled = False,\n",
    "    layout = {'width': 'max-content'})\n",
    "\n",
    "widget_age = widgets.IntSlider(\n",
    "    min = initial_df['age'].min(),\n",
    "    max = 64,\n",
    "    description = 'Age',\n",
    "    style = style)\n",
    "\n",
    "widget_height = widgets.IntSlider(\n",
    "    min = 100,\n",
    "    max = 220,\n",
    "    description = 'Height [cm]',\n",
    "    style = style)\n",
    "\n",
    "widget_weight = widgets.FloatSlider(\n",
    "    min = 35,\n",
    "    max = 200,\n",
    "    description = 'Weight [kg]',\n",
    "    style = style)\n",
    "\n",
    "widget_children = widgets.IntSlider(\n",
    "    min = initial_df['children'].min(),\n",
    "    max = 8,\n",
    "    description = 'Children',\n",
    "    style = style)\n",
    "\n",
    "widget_smoker = widgets.RadioButtons(\n",
    "    options=[('Yes',1), ('No',0)],\n",
    "    style=style,\n",
    "    disabled = False,\n",
    "    description='Smoker')\n",
    "\n",
    "# widget_smoker = widgets.Select(\n",
    "#     options = ['Yes', 'No'],\n",
    "#     description = 'Smoker',\n",
    "#     style = style,\n",
    "#     disabled = False,\n",
    "#     layout = {'width': 'max-content'})"
   ]
  },
  {
   "cell_type": "code",
   "execution_count": 5,
   "id": "dd525a5e",
   "metadata": {
    "extensions": {
     "jupyter_dashboards": {
      "version": 1,
      "views": {
       "grid_default": {},
       "report_default": {
        "hidden": true
       }
      }
     }
    },
    "hide_input": false
   },
   "outputs": [],
   "source": [
    "#widget handler\n",
    "\n",
    "values = {'sex_dropdown': widget_sex.value,\n",
    "          'region_dropdown': widget_region.value,\n",
    "          'age_slider': widget_age.value,\n",
    "          'height_slider': widget_height.value,\n",
    "          'weight_slider': widget_weight.value,\n",
    "          'children_slider': widget_children.value,\n",
    "          'smoker_button': widget_smoker.value}\n",
    "def widgets_handler(sex_dropdown_val,\n",
    "                    region_dropdown_val,\n",
    "                    smoker_button_val,\n",
    "                    age_slider_val,\n",
    "                    children_slider_val,\n",
    "                    height_slider_val,\n",
    "                    weight_slider_val):\n",
    "    values['sex_dropdown'] = sex_dropdown_val\n",
    "    values['region_dropdown'] = region_dropdown_val\n",
    "    values['age_slider'] = age_slider_val\n",
    "    values['height_slider'] = height_slider_val\n",
    "    values['weight_slider'] = weight_slider_val\n",
    "    values['children_slider'] = children_slider_val\n",
    "    values['smoker_button'] = smoker_button_val"
   ]
  },
  {
   "cell_type": "code",
   "execution_count": 6,
   "id": "016b334e",
   "metadata": {
    "extensions": {
     "jupyter_dashboards": {
      "version": 1,
      "views": {
       "grid_default": {},
       "report_default": {
        "hidden": true
       }
      }
     }
    },
    "hide_input": false
   },
   "outputs": [],
   "source": [
    "# filters = GridBox(children=[widget_sex, widget_region, widget_smoker, widget_age, \n",
    "#                             widget_height, widget_weight, widget_children,\n",
    "#                             run_button],\n",
    "#                     layout=Layout(\n",
    "#                     width='100%',\n",
    "#                     grid_template_columns='300px 300px 300px',\n",
    "#                     grid_template_rows='auto auto auto',\n",
    "#                     grid_gap='5px 10px')\n",
    "#                )"
   ]
  },
  {
   "cell_type": "code",
   "execution_count": 7,
   "id": "0d485dc2",
   "metadata": {
    "extensions": {
     "jupyter_dashboards": {
      "version": 1,
      "views": {
       "grid_default": {},
       "report_default": {
        "hidden": true
       }
      }
     }
    },
    "scrolled": true
   },
   "outputs": [],
   "source": [
    "# display(filters)"
   ]
  },
  {
   "cell_type": "code",
   "execution_count": 8,
   "id": "6a72c64f",
   "metadata": {
    "extensions": {
     "jupyter_dashboards": {
      "version": 1,
      "views": {
       "grid_default": {},
       "report_default": {
        "hidden": true
       }
      }
     }
    },
    "hide_input": false
   },
   "outputs": [],
   "source": [
    "import pickle\n",
    "# Load the Model back from file\n",
    "Pkl_Ridge = 'pickled_ridge_model.pkl'  \n",
    "Pkl_EN = 'pickled_en_model.pkl'  \n",
    "Pkl_XGB = 'pickled_xgb_model.pkl'  \n",
    "Pkl_Stacked = 'pickled_stacked_model.pkl'\n",
    "Pkl_data='pickled_data'\n",
    "\n",
    "\n",
    "with open(Pkl_Ridge, 'rb') as file1:  \n",
    "    ridge_model = pickle.load(file1)\n",
    "\n",
    "with open(Pkl_EN, 'rb') as file2:  \n",
    "    en_model = pickle.load(file2)\n",
    "    \n",
    "with open(Pkl_XGB, 'rb') as file3:  \n",
    "    xgb_model = pickle.load(file3)\n",
    "\n",
    "with open(Pkl_Stacked, 'rb') as file4:  \n",
    "    stacked_model = pickle.load(file4)\n",
    "    \n",
    "with open(Pkl_data, 'rb') as file4:  \n",
    "    df = pickle.load(file4)\n"
   ]
  },
  {
   "cell_type": "code",
   "execution_count": 9,
   "id": "dd6ddeb1",
   "metadata": {
    "extensions": {
     "jupyter_dashboards": {
      "version": 1,
      "views": {
       "grid_default": {},
       "report_default": {
        "hidden": true
       }
      }
     }
    },
    "hide_input": true
   },
   "outputs": [
    {
     "data": {
      "text/html": [
       "<div>\n",
       "<style scoped>\n",
       "    .dataframe tbody tr th:only-of-type {\n",
       "        vertical-align: middle;\n",
       "    }\n",
       "\n",
       "    .dataframe tbody tr th {\n",
       "        vertical-align: top;\n",
       "    }\n",
       "\n",
       "    .dataframe thead th {\n",
       "        text-align: right;\n",
       "    }\n",
       "</style>\n",
       "<table border=\"1\" class=\"dataframe\">\n",
       "  <thead>\n",
       "    <tr style=\"text-align: right;\">\n",
       "      <th></th>\n",
       "      <th>age</th>\n",
       "      <th>bmi</th>\n",
       "      <th>children</th>\n",
       "      <th>sex_male</th>\n",
       "      <th>smoker_yes</th>\n",
       "      <th>region_northwest</th>\n",
       "      <th>region_southeast</th>\n",
       "      <th>region_southwest</th>\n",
       "      <th>obese</th>\n",
       "      <th>obese_smoker</th>\n",
       "    </tr>\n",
       "  </thead>\n",
       "  <tbody>\n",
       "    <tr>\n",
       "      <th>0</th>\n",
       "      <td>19</td>\n",
       "      <td>27.900</td>\n",
       "      <td>0</td>\n",
       "      <td>0</td>\n",
       "      <td>1</td>\n",
       "      <td>0</td>\n",
       "      <td>0</td>\n",
       "      <td>1</td>\n",
       "      <td>0</td>\n",
       "      <td>0</td>\n",
       "    </tr>\n",
       "    <tr>\n",
       "      <th>1</th>\n",
       "      <td>18</td>\n",
       "      <td>33.770</td>\n",
       "      <td>1</td>\n",
       "      <td>1</td>\n",
       "      <td>0</td>\n",
       "      <td>0</td>\n",
       "      <td>1</td>\n",
       "      <td>0</td>\n",
       "      <td>1</td>\n",
       "      <td>0</td>\n",
       "    </tr>\n",
       "    <tr>\n",
       "      <th>2</th>\n",
       "      <td>28</td>\n",
       "      <td>33.000</td>\n",
       "      <td>3</td>\n",
       "      <td>1</td>\n",
       "      <td>0</td>\n",
       "      <td>0</td>\n",
       "      <td>1</td>\n",
       "      <td>0</td>\n",
       "      <td>1</td>\n",
       "      <td>0</td>\n",
       "    </tr>\n",
       "    <tr>\n",
       "      <th>3</th>\n",
       "      <td>33</td>\n",
       "      <td>22.705</td>\n",
       "      <td>0</td>\n",
       "      <td>1</td>\n",
       "      <td>0</td>\n",
       "      <td>1</td>\n",
       "      <td>0</td>\n",
       "      <td>0</td>\n",
       "      <td>0</td>\n",
       "      <td>0</td>\n",
       "    </tr>\n",
       "    <tr>\n",
       "      <th>4</th>\n",
       "      <td>32</td>\n",
       "      <td>28.880</td>\n",
       "      <td>0</td>\n",
       "      <td>1</td>\n",
       "      <td>0</td>\n",
       "      <td>1</td>\n",
       "      <td>0</td>\n",
       "      <td>0</td>\n",
       "      <td>0</td>\n",
       "      <td>0</td>\n",
       "    </tr>\n",
       "    <tr>\n",
       "      <th>...</th>\n",
       "      <td>...</td>\n",
       "      <td>...</td>\n",
       "      <td>...</td>\n",
       "      <td>...</td>\n",
       "      <td>...</td>\n",
       "      <td>...</td>\n",
       "      <td>...</td>\n",
       "      <td>...</td>\n",
       "      <td>...</td>\n",
       "      <td>...</td>\n",
       "    </tr>\n",
       "    <tr>\n",
       "      <th>1333</th>\n",
       "      <td>50</td>\n",
       "      <td>30.970</td>\n",
       "      <td>3</td>\n",
       "      <td>1</td>\n",
       "      <td>0</td>\n",
       "      <td>1</td>\n",
       "      <td>0</td>\n",
       "      <td>0</td>\n",
       "      <td>1</td>\n",
       "      <td>0</td>\n",
       "    </tr>\n",
       "    <tr>\n",
       "      <th>1334</th>\n",
       "      <td>18</td>\n",
       "      <td>31.920</td>\n",
       "      <td>0</td>\n",
       "      <td>0</td>\n",
       "      <td>0</td>\n",
       "      <td>0</td>\n",
       "      <td>0</td>\n",
       "      <td>0</td>\n",
       "      <td>1</td>\n",
       "      <td>0</td>\n",
       "    </tr>\n",
       "    <tr>\n",
       "      <th>1335</th>\n",
       "      <td>18</td>\n",
       "      <td>36.850</td>\n",
       "      <td>0</td>\n",
       "      <td>0</td>\n",
       "      <td>0</td>\n",
       "      <td>0</td>\n",
       "      <td>1</td>\n",
       "      <td>0</td>\n",
       "      <td>1</td>\n",
       "      <td>0</td>\n",
       "    </tr>\n",
       "    <tr>\n",
       "      <th>1336</th>\n",
       "      <td>21</td>\n",
       "      <td>25.800</td>\n",
       "      <td>0</td>\n",
       "      <td>0</td>\n",
       "      <td>0</td>\n",
       "      <td>0</td>\n",
       "      <td>0</td>\n",
       "      <td>1</td>\n",
       "      <td>0</td>\n",
       "      <td>0</td>\n",
       "    </tr>\n",
       "    <tr>\n",
       "      <th>1337</th>\n",
       "      <td>61</td>\n",
       "      <td>29.070</td>\n",
       "      <td>0</td>\n",
       "      <td>0</td>\n",
       "      <td>1</td>\n",
       "      <td>1</td>\n",
       "      <td>0</td>\n",
       "      <td>0</td>\n",
       "      <td>0</td>\n",
       "      <td>0</td>\n",
       "    </tr>\n",
       "  </tbody>\n",
       "</table>\n",
       "<p>1338 rows × 10 columns</p>\n",
       "</div>"
      ],
      "text/plain": [
       "      age     bmi  children  sex_male  smoker_yes  region_northwest  \\\n",
       "0      19  27.900         0         0           1                 0   \n",
       "1      18  33.770         1         1           0                 0   \n",
       "2      28  33.000         3         1           0                 0   \n",
       "3      33  22.705         0         1           0                 1   \n",
       "4      32  28.880         0         1           0                 1   \n",
       "...   ...     ...       ...       ...         ...               ...   \n",
       "1333   50  30.970         3         1           0                 1   \n",
       "1334   18  31.920         0         0           0                 0   \n",
       "1335   18  36.850         0         0           0                 0   \n",
       "1336   21  25.800         0         0           0                 0   \n",
       "1337   61  29.070         0         0           1                 1   \n",
       "\n",
       "      region_southeast  region_southwest  obese  obese_smoker  \n",
       "0                    0                 1      0             0  \n",
       "1                    1                 0      1             0  \n",
       "2                    1                 0      1             0  \n",
       "3                    0                 0      0             0  \n",
       "4                    0                 0      0             0  \n",
       "...                ...               ...    ...           ...  \n",
       "1333                 0                 0      1             0  \n",
       "1334                 0                 0      1             0  \n",
       "1335                 1                 0      1             0  \n",
       "1336                 0                 1      0             0  \n",
       "1337                 0                 0      0             0  \n",
       "\n",
       "[1338 rows x 10 columns]"
      ]
     },
     "execution_count": 9,
     "metadata": {},
     "output_type": "execute_result"
    }
   ],
   "source": [
    "from sklearn.model_selection import train_test_split\n",
    "\n",
    "X = df.drop('charges', axis=1)\n",
    "y = df['charges']\n",
    "X_train, X_test, y_train, y_test = train_test_split(X, y, test_size=0.3, random_state=42)\n",
    "X"
   ]
  },
  {
   "cell_type": "code",
   "execution_count": 10,
   "id": "e7c130f9",
   "metadata": {
    "extensions": {
     "jupyter_dashboards": {
      "version": 1,
      "views": {
       "grid_default": {},
       "report_default": {
        "hidden": true
       }
      }
     }
    },
    "hide_input": true
   },
   "outputs": [
    {
     "data": {
      "text/plain": [
       "0.8712125654141842"
      ]
     },
     "execution_count": 10,
     "metadata": {},
     "output_type": "execute_result"
    }
   ],
   "source": [
    "ridge_model.score(X_test,y_test)"
   ]
  },
  {
   "cell_type": "code",
   "execution_count": 11,
   "id": "c5940834",
   "metadata": {
    "extensions": {
     "jupyter_dashboards": {
      "version": 1,
      "views": {
       "grid_default": {},
       "report_default": {
        "hidden": true
       }
      }
     }
    },
    "hide_input": true
   },
   "outputs": [
    {
     "data": {
      "text/plain": [
       "0.8711719305610985"
      ]
     },
     "execution_count": 11,
     "metadata": {},
     "output_type": "execute_result"
    }
   ],
   "source": [
    "en_model.score(X_test,y_test)"
   ]
  },
  {
   "cell_type": "code",
   "execution_count": 12,
   "id": "7000ca13",
   "metadata": {
    "extensions": {
     "jupyter_dashboards": {
      "version": 1,
      "views": {
       "grid_default": {},
       "report_default": {
        "hidden": true
       }
      }
     }
    },
    "hide_input": true
   },
   "outputs": [
    {
     "data": {
      "text/plain": [
       "0.8730627049627262"
      ]
     },
     "execution_count": 12,
     "metadata": {},
     "output_type": "execute_result"
    }
   ],
   "source": [
    "xgb_model.score(X_test,y_test)"
   ]
  },
  {
   "cell_type": "code",
   "execution_count": 13,
   "id": "259fb249",
   "metadata": {
    "extensions": {
     "jupyter_dashboards": {
      "version": 1,
      "views": {
       "grid_default": {},
       "report_default": {
        "hidden": true
       }
      }
     }
    },
    "hide_input": true
   },
   "outputs": [
    {
     "data": {
      "text/plain": [
       "0.8728794330786501"
      ]
     },
     "execution_count": 13,
     "metadata": {},
     "output_type": "execute_result"
    }
   ],
   "source": [
    "# bardziej powtarzalny, lepszy wynik z CV\n",
    "stacked_model.score(X_test,y_test)"
   ]
  },
  {
   "cell_type": "markdown",
   "id": "a29d9e20",
   "metadata": {
    "extensions": {
     "jupyter_dashboards": {
      "version": 1,
      "views": {
       "grid_default": {},
       "report_default": {
        "hidden": true
       }
      }
     }
    },
    "hide_input": true
   },
   "source": [
    "#### Ewaluacja modeli"
   ]
  },
  {
   "cell_type": "code",
   "execution_count": 14,
   "id": "d859e8d9",
   "metadata": {
    "extensions": {
     "jupyter_dashboards": {
      "version": 1,
      "views": {
       "grid_default": {},
       "report_default": {
        "hidden": true
       }
      }
     }
    },
    "hide_input": true
   },
   "outputs": [],
   "source": [
    "from sklearn.metrics import mean_squared_error\n",
    "from sklearn.metrics import mean_absolute_error\n",
    "from sklearn.metrics import r2_score\n",
    "from sklearn.metrics import make_scorer\n",
    "from math import sqrt"
   ]
  },
  {
   "cell_type": "code",
   "execution_count": 15,
   "id": "e1743b59",
   "metadata": {
    "extensions": {
     "jupyter_dashboards": {
      "version": 1,
      "views": {
       "grid_default": {},
       "report_default": {
        "hidden": true
       }
      }
     }
    },
    "hide_input": false
   },
   "outputs": [],
   "source": [
    "from sklearn import set_config\n",
    "import time"
   ]
  },
  {
   "cell_type": "code",
   "execution_count": 16,
   "id": "39f65d41",
   "metadata": {
    "extensions": {
     "jupyter_dashboards": {
      "version": 1,
      "views": {
       "grid_default": {},
       "report_default": {
        "hidden": true
       }
      }
     }
    },
    "hide_input": false
   },
   "outputs": [],
   "source": [
    "def run_model(pipeline, Xtrain, ytrain, Xtest, ytest):\n",
    "    set_config(display='diagram')\n",
    "    pd.options.display.float_format = \"{:,.2f}\".format\n",
    "    \n",
    "    y_pred_train = pipeline.predict(Xtrain).reshape(-1,1)\n",
    "    y_pred_test = pipeline.predict(Xtest).reshape(-1,1)\n",
    "    pipeline_name = display(pipeline)\n",
    "    \n",
    "    start_time = time.time()\n",
    "    pipeline.fit(Xtrain, ytrain)\n",
    "    end_time = time.time()\n",
    "    \n",
    "    wyniki = {}\n",
    "    wyniki['score'] = ['R^2', 'MSE', 'RMSE', 'MAE']\n",
    "    wyniki['train_set'] = []\n",
    "    wyniki['test_set'] = []\n",
    "    \n",
    "    r2_train_set = pipeline.score(Xtrain, ytrain) * 100\n",
    "    MSE_train_set = mean_squared_error(ytrain, y_pred_train)\n",
    "    RMSE_train_set = sqrt(mean_squared_error(ytrain, y_pred_train))\n",
    "    MAE_train_set = mean_absolute_error(ytrain, y_pred_train)\n",
    "    \n",
    "    wyniki['train_set'].append(r2_train_set)\n",
    "    wyniki['train_set'].append(MSE_train_set)\n",
    "    wyniki['train_set'].append(RMSE_train_set)\n",
    "    wyniki['train_set'].append(MAE_train_set)\n",
    "    \n",
    "    r2_test_set = pipeline.score(Xtest, ytest) * 100\n",
    "    MSE_test_set = mean_squared_error(ytest, y_pred_test)\n",
    "    RMSE_test_set = sqrt(mean_squared_error(ytest, y_pred_test))\n",
    "    MAE_test_set = mean_absolute_error(ytest, y_pred_test)\n",
    "    \n",
    "    wyniki['test_set'].append(r2_test_set)\n",
    "    wyniki['test_set'].append(MSE_test_set)\n",
    "    wyniki['test_set'].append(RMSE_test_set)\n",
    "    wyniki['test_set'].append(MAE_test_set)    \n",
    "    \n",
    "    cross_val = cross_val_score(pipeline, Xtrain, ytrain, cv=5).mean()\n",
    "    \n",
    "    df_wyniki = pd.DataFrame(wyniki)\n",
    "    \n",
    "    print(df_wyniki)\n",
    "    print('\\nCross validation score: {0:.2f}%'.format(100 * cross_val))\n",
    "    print('Time elapsed: {0:.3f} sec'.format(end_time - start_time))\n",
    "    \n",
    "    x_ax = range(len(y_test))\n",
    "    plt.scatter(x_ax, ytest, label='original')\n",
    "    plt.scatter(x_ax, y_pred_test, label='predicted')\n",
    "    plt.title('Test and predicted data')\n",
    "    plt.legend()\n",
    "    plt.show()\n",
    "    \n",
    "    return pipeline.fit(Xtrain, ytrain)"
   ]
  },
  {
   "cell_type": "code",
   "execution_count": 17,
   "id": "343a41aa",
   "metadata": {
    "extensions": {
     "jupyter_dashboards": {
      "version": 1,
      "views": {
       "grid_default": {},
       "report_default": {
        "hidden": true
       }
      }
     }
    },
    "hide_input": false
   },
   "outputs": [],
   "source": [
    "models = [ridge_model, en_model, xgb_model, stacked_model]"
   ]
  },
  {
   "cell_type": "code",
   "execution_count": 18,
   "id": "9e724c0a",
   "metadata": {
    "extensions": {
     "jupyter_dashboards": {
      "version": 1,
      "views": {
       "grid_default": {},
       "report_default": {
        "hidden": true
       }
      }
     }
    },
    "hide_input": true,
    "scrolled": false
   },
   "outputs": [
    {
     "data": {
      "text/html": [
       "<style>#sk-55c2306a-6bd4-4ad1-8384-7bfa3c9d0b27 {color: black;background-color: white;}#sk-55c2306a-6bd4-4ad1-8384-7bfa3c9d0b27 pre{padding: 0;}#sk-55c2306a-6bd4-4ad1-8384-7bfa3c9d0b27 div.sk-toggleable {background-color: white;}#sk-55c2306a-6bd4-4ad1-8384-7bfa3c9d0b27 label.sk-toggleable__label {cursor: pointer;display: block;width: 100%;margin-bottom: 0;padding: 0.3em;box-sizing: border-box;text-align: center;}#sk-55c2306a-6bd4-4ad1-8384-7bfa3c9d0b27 label.sk-toggleable__label-arrow:before {content: \"▸\";float: left;margin-right: 0.25em;color: #696969;}#sk-55c2306a-6bd4-4ad1-8384-7bfa3c9d0b27 label.sk-toggleable__label-arrow:hover:before {color: black;}#sk-55c2306a-6bd4-4ad1-8384-7bfa3c9d0b27 div.sk-estimator:hover label.sk-toggleable__label-arrow:before {color: black;}#sk-55c2306a-6bd4-4ad1-8384-7bfa3c9d0b27 div.sk-toggleable__content {max-height: 0;max-width: 0;overflow: hidden;text-align: left;background-color: #f0f8ff;}#sk-55c2306a-6bd4-4ad1-8384-7bfa3c9d0b27 div.sk-toggleable__content pre {margin: 0.2em;color: black;border-radius: 0.25em;background-color: #f0f8ff;}#sk-55c2306a-6bd4-4ad1-8384-7bfa3c9d0b27 input.sk-toggleable__control:checked~div.sk-toggleable__content {max-height: 200px;max-width: 100%;overflow: auto;}#sk-55c2306a-6bd4-4ad1-8384-7bfa3c9d0b27 input.sk-toggleable__control:checked~label.sk-toggleable__label-arrow:before {content: \"▾\";}#sk-55c2306a-6bd4-4ad1-8384-7bfa3c9d0b27 div.sk-estimator input.sk-toggleable__control:checked~label.sk-toggleable__label {background-color: #d4ebff;}#sk-55c2306a-6bd4-4ad1-8384-7bfa3c9d0b27 div.sk-label input.sk-toggleable__control:checked~label.sk-toggleable__label {background-color: #d4ebff;}#sk-55c2306a-6bd4-4ad1-8384-7bfa3c9d0b27 input.sk-hidden--visually {border: 0;clip: rect(1px 1px 1px 1px);clip: rect(1px, 1px, 1px, 1px);height: 1px;margin: -1px;overflow: hidden;padding: 0;position: absolute;width: 1px;}#sk-55c2306a-6bd4-4ad1-8384-7bfa3c9d0b27 div.sk-estimator {font-family: monospace;background-color: #f0f8ff;border: 1px dotted black;border-radius: 0.25em;box-sizing: border-box;margin-bottom: 0.5em;}#sk-55c2306a-6bd4-4ad1-8384-7bfa3c9d0b27 div.sk-estimator:hover {background-color: #d4ebff;}#sk-55c2306a-6bd4-4ad1-8384-7bfa3c9d0b27 div.sk-parallel-item::after {content: \"\";width: 100%;border-bottom: 1px solid gray;flex-grow: 1;}#sk-55c2306a-6bd4-4ad1-8384-7bfa3c9d0b27 div.sk-label:hover label.sk-toggleable__label {background-color: #d4ebff;}#sk-55c2306a-6bd4-4ad1-8384-7bfa3c9d0b27 div.sk-serial::before {content: \"\";position: absolute;border-left: 1px solid gray;box-sizing: border-box;top: 2em;bottom: 0;left: 50%;}#sk-55c2306a-6bd4-4ad1-8384-7bfa3c9d0b27 div.sk-serial {display: flex;flex-direction: column;align-items: center;background-color: white;padding-right: 0.2em;padding-left: 0.2em;}#sk-55c2306a-6bd4-4ad1-8384-7bfa3c9d0b27 div.sk-item {z-index: 1;}#sk-55c2306a-6bd4-4ad1-8384-7bfa3c9d0b27 div.sk-parallel {display: flex;align-items: stretch;justify-content: center;background-color: white;}#sk-55c2306a-6bd4-4ad1-8384-7bfa3c9d0b27 div.sk-parallel::before {content: \"\";position: absolute;border-left: 1px solid gray;box-sizing: border-box;top: 2em;bottom: 0;left: 50%;}#sk-55c2306a-6bd4-4ad1-8384-7bfa3c9d0b27 div.sk-parallel-item {display: flex;flex-direction: column;position: relative;background-color: white;}#sk-55c2306a-6bd4-4ad1-8384-7bfa3c9d0b27 div.sk-parallel-item:first-child::after {align-self: flex-end;width: 50%;}#sk-55c2306a-6bd4-4ad1-8384-7bfa3c9d0b27 div.sk-parallel-item:last-child::after {align-self: flex-start;width: 50%;}#sk-55c2306a-6bd4-4ad1-8384-7bfa3c9d0b27 div.sk-parallel-item:only-child::after {width: 0;}#sk-55c2306a-6bd4-4ad1-8384-7bfa3c9d0b27 div.sk-dashed-wrapped {border: 1px dashed gray;margin: 0 0.4em 0.5em 0.4em;box-sizing: border-box;padding-bottom: 0.4em;background-color: white;position: relative;}#sk-55c2306a-6bd4-4ad1-8384-7bfa3c9d0b27 div.sk-label label {font-family: monospace;font-weight: bold;background-color: white;display: inline-block;line-height: 1.2em;}#sk-55c2306a-6bd4-4ad1-8384-7bfa3c9d0b27 div.sk-label-container {position: relative;z-index: 2;text-align: center;}#sk-55c2306a-6bd4-4ad1-8384-7bfa3c9d0b27 div.sk-container {/* jupyter's `normalize.less` sets `[hidden] { display: none; }` but bootstrap.min.css set `[hidden] { display: none !important; }` so we also need the `!important` here to be able to override the default hidden behavior on the sphinx rendered scikit-learn.org. See: https://github.com/scikit-learn/scikit-learn/issues/21755 */display: inline-block !important;position: relative;}#sk-55c2306a-6bd4-4ad1-8384-7bfa3c9d0b27 div.sk-text-repr-fallback {display: none;}</style><div id=\"sk-55c2306a-6bd4-4ad1-8384-7bfa3c9d0b27\" class=\"sk-top-container\"><div class=\"sk-text-repr-fallback\"><pre>Ridge()</pre><b>Please rerun this cell to show the HTML repr or trust the notebook.</b></div><div class=\"sk-container\" hidden><div class=\"sk-item\"><div class=\"sk-estimator sk-toggleable\"><input class=\"sk-toggleable__control sk-hidden--visually\" id=\"1b04c3e9-90ac-44d7-bb60-16a6658308d2\" type=\"checkbox\" checked><label for=\"1b04c3e9-90ac-44d7-bb60-16a6658308d2\" class=\"sk-toggleable__label sk-toggleable__label-arrow\">Ridge</label><div class=\"sk-toggleable__content\"><pre>Ridge()</pre></div></div></div></div></div>"
      ],
      "text/plain": [
       "Ridge()"
      ]
     },
     "metadata": {},
     "output_type": "display_data"
    },
    {
     "name": "stdout",
     "output_type": "stream",
     "text": [
      "  score     train_set      test_set\n",
      "0   R^2         86.04         87.12\n",
      "1   MSE 20,443,271.72 18,883,368.46\n",
      "2  RMSE      4,521.42      4,345.50\n",
      "3   MAE      2,539.09      2,424.17\n",
      "\n",
      "Cross validation score: 85.17%\n",
      "Time elapsed: 0.006 sec\n"
     ]
    },
    {
     "data": {
      "image/png": "[encoded data removed]",
      "text/plain": [
       "<Figure size 432x288 with 1 Axes>"
      ]
     },
     "metadata": {
      "needs_background": "light"
     },
     "output_type": "display_data"
    },
    {
     "data": {
      "text/html": [
       "<style>#sk-f151119e-d167-4163-9fec-43386b1ccdef {color: black;background-color: white;}#sk-f151119e-d167-4163-9fec-43386b1ccdef pre{padding: 0;}#sk-f151119e-d167-4163-9fec-43386b1ccdef div.sk-toggleable {background-color: white;}#sk-f151119e-d167-4163-9fec-43386b1ccdef label.sk-toggleable__label {cursor: pointer;display: block;width: 100%;margin-bottom: 0;padding: 0.3em;box-sizing: border-box;text-align: center;}#sk-f151119e-d167-4163-9fec-43386b1ccdef label.sk-toggleable__label-arrow:before {content: \"▸\";float: left;margin-right: 0.25em;color: #696969;}#sk-f151119e-d167-4163-9fec-43386b1ccdef label.sk-toggleable__label-arrow:hover:before {color: black;}#sk-f151119e-d167-4163-9fec-43386b1ccdef div.sk-estimator:hover label.sk-toggleable__label-arrow:before {color: black;}#sk-f151119e-d167-4163-9fec-43386b1ccdef div.sk-toggleable__content {max-height: 0;max-width: 0;overflow: hidden;text-align: left;background-color: #f0f8ff;}#sk-f151119e-d167-4163-9fec-43386b1ccdef div.sk-toggleable__content pre {margin: 0.2em;color: black;border-radius: 0.25em;background-color: #f0f8ff;}#sk-f151119e-d167-4163-9fec-43386b1ccdef input.sk-toggleable__control:checked~div.sk-toggleable__content {max-height: 200px;max-width: 100%;overflow: auto;}#sk-f151119e-d167-4163-9fec-43386b1ccdef input.sk-toggleable__control:checked~label.sk-toggleable__label-arrow:before {content: \"▾\";}#sk-f151119e-d167-4163-9fec-43386b1ccdef div.sk-estimator input.sk-toggleable__control:checked~label.sk-toggleable__label {background-color: #d4ebff;}#sk-f151119e-d167-4163-9fec-43386b1ccdef div.sk-label input.sk-toggleable__control:checked~label.sk-toggleable__label {background-color: #d4ebff;}#sk-f151119e-d167-4163-9fec-43386b1ccdef input.sk-hidden--visually {border: 0;clip: rect(1px 1px 1px 1px);clip: rect(1px, 1px, 1px, 1px);height: 1px;margin: -1px;overflow: hidden;padding: 0;position: absolute;width: 1px;}#sk-f151119e-d167-4163-9fec-43386b1ccdef div.sk-estimator {font-family: monospace;background-color: #f0f8ff;border: 1px dotted black;border-radius: 0.25em;box-sizing: border-box;margin-bottom: 0.5em;}#sk-f151119e-d167-4163-9fec-43386b1ccdef div.sk-estimator:hover {background-color: #d4ebff;}#sk-f151119e-d167-4163-9fec-43386b1ccdef div.sk-parallel-item::after {content: \"\";width: 100%;border-bottom: 1px solid gray;flex-grow: 1;}#sk-f151119e-d167-4163-9fec-43386b1ccdef div.sk-label:hover label.sk-toggleable__label {background-color: #d4ebff;}#sk-f151119e-d167-4163-9fec-43386b1ccdef div.sk-serial::before {content: \"\";position: absolute;border-left: 1px solid gray;box-sizing: border-box;top: 2em;bottom: 0;left: 50%;}#sk-f151119e-d167-4163-9fec-43386b1ccdef div.sk-serial {display: flex;flex-direction: column;align-items: center;background-color: white;padding-right: 0.2em;padding-left: 0.2em;}#sk-f151119e-d167-4163-9fec-43386b1ccdef div.sk-item {z-index: 1;}#sk-f151119e-d167-4163-9fec-43386b1ccdef div.sk-parallel {display: flex;align-items: stretch;justify-content: center;background-color: white;}#sk-f151119e-d167-4163-9fec-43386b1ccdef div.sk-parallel::before {content: \"\";position: absolute;border-left: 1px solid gray;box-sizing: border-box;top: 2em;bottom: 0;left: 50%;}#sk-f151119e-d167-4163-9fec-43386b1ccdef div.sk-parallel-item {display: flex;flex-direction: column;position: relative;background-color: white;}#sk-f151119e-d167-4163-9fec-43386b1ccdef div.sk-parallel-item:first-child::after {align-self: flex-end;width: 50%;}#sk-f151119e-d167-4163-9fec-43386b1ccdef div.sk-parallel-item:last-child::after {align-self: flex-start;width: 50%;}#sk-f151119e-d167-4163-9fec-43386b1ccdef div.sk-parallel-item:only-child::after {width: 0;}#sk-f151119e-d167-4163-9fec-43386b1ccdef div.sk-dashed-wrapped {border: 1px dashed gray;margin: 0 0.4em 0.5em 0.4em;box-sizing: border-box;padding-bottom: 0.4em;background-color: white;position: relative;}#sk-f151119e-d167-4163-9fec-43386b1ccdef div.sk-label label {font-family: monospace;font-weight: bold;background-color: white;display: inline-block;line-height: 1.2em;}#sk-f151119e-d167-4163-9fec-43386b1ccdef div.sk-label-container {position: relative;z-index: 2;text-align: center;}#sk-f151119e-d167-4163-9fec-43386b1ccdef div.sk-container {/* jupyter's `normalize.less` sets `[hidden] { display: none; }` but bootstrap.min.css set `[hidden] { display: none !important; }` so we also need the `!important` here to be able to override the default hidden behavior on the sphinx rendered scikit-learn.org. See: https://github.com/scikit-learn/scikit-learn/issues/21755 */display: inline-block !important;position: relative;}#sk-f151119e-d167-4163-9fec-43386b1ccdef div.sk-text-repr-fallback {display: none;}</style><div id=\"sk-f151119e-d167-4163-9fec-43386b1ccdef\" class=\"sk-top-container\"><div class=\"sk-text-repr-fallback\"><pre>Pipeline(steps=[(&#x27;standardscaler&#x27;, StandardScaler()),\n",
       "                (&#x27;elasticnet&#x27;, ElasticNet(alpha=0.01))])</pre><b>Please rerun this cell to show the HTML repr or trust the notebook.</b></div><div class=\"sk-container\" hidden><div class=\"sk-item sk-dashed-wrapped\"><div class=\"sk-label-container\"><div class=\"sk-label sk-toggleable\"><input class=\"sk-toggleable__control sk-hidden--visually\" id=\"1232d314-5f0a-4597-a727-2c1aba372ed6\" type=\"checkbox\" ><label for=\"1232d314-5f0a-4597-a727-2c1aba372ed6\" class=\"sk-toggleable__label sk-toggleable__label-arrow\">Pipeline</label><div class=\"sk-toggleable__content\"><pre>Pipeline(steps=[(&#x27;standardscaler&#x27;, StandardScaler()),\n",
       "                (&#x27;elasticnet&#x27;, ElasticNet(alpha=0.01))])</pre></div></div></div><div class=\"sk-serial\"><div class=\"sk-item\"><div class=\"sk-estimator sk-toggleable\"><input class=\"sk-toggleable__control sk-hidden--visually\" id=\"8de2741c-26dc-4bfc-ac9e-266d2edffa39\" type=\"checkbox\" ><label for=\"8de2741c-26dc-4bfc-ac9e-266d2edffa39\" class=\"sk-toggleable__label sk-toggleable__label-arrow\">StandardScaler</label><div class=\"sk-toggleable__content\"><pre>StandardScaler()</pre></div></div></div><div class=\"sk-item\"><div class=\"sk-estimator sk-toggleable\"><input class=\"sk-toggleable__control sk-hidden--visually\" id=\"beeced25-0db8-4452-ba30-888dc4d16bce\" type=\"checkbox\" ><label for=\"beeced25-0db8-4452-ba30-888dc4d16bce\" class=\"sk-toggleable__label sk-toggleable__label-arrow\">ElasticNet</label><div class=\"sk-toggleable__content\"><pre>ElasticNet(alpha=0.01)</pre></div></div></div></div></div></div></div>"
      ],
      "text/plain": [
       "Pipeline(steps=[('standardscaler', StandardScaler()),\n",
       "                ('elasticnet', ElasticNet(alpha=0.01))])"
      ]
     },
     "metadata": {},
     "output_type": "display_data"
    },
    {
     "name": "stdout",
     "output_type": "stream",
     "text": [
      "  score     train_set      test_set\n",
      "0   R^2         86.05         87.12\n",
      "1   MSE 20,438,964.80 18,889,326.52\n",
      "2  RMSE      4,520.95      4,346.19\n",
      "3   MAE      2,538.58      2,424.30\n",
      "\n",
      "Cross validation score: 85.17%\n",
      "Time elapsed: 0.006 sec\n"
     ]
    },
    {
     "data": {
      "image/png": "[encoded data removed]",
      "text/plain": [
       "<Figure size 432x288 with 1 Axes>"
      ]
     },
     "metadata": {
      "needs_background": "light"
     },
     "output_type": "display_data"
    },
    {
     "data": {
      "text/html": [
       "<style>#sk-eb14f70f-36cd-4e7d-9c19-a73f90c251ba {color: black;background-color: white;}#sk-eb14f70f-36cd-4e7d-9c19-a73f90c251ba pre{padding: 0;}#sk-eb14f70f-36cd-4e7d-9c19-a73f90c251ba div.sk-toggleable {background-color: white;}#sk-eb14f70f-36cd-4e7d-9c19-a73f90c251ba label.sk-toggleable__label {cursor: pointer;display: block;width: 100%;margin-bottom: 0;padding: 0.3em;box-sizing: border-box;text-align: center;}#sk-eb14f70f-36cd-4e7d-9c19-a73f90c251ba label.sk-toggleable__label-arrow:before {content: \"▸\";float: left;margin-right: 0.25em;color: #696969;}#sk-eb14f70f-36cd-4e7d-9c19-a73f90c251ba label.sk-toggleable__label-arrow:hover:before {color: black;}#sk-eb14f70f-36cd-4e7d-9c19-a73f90c251ba div.sk-estimator:hover label.sk-toggleable__label-arrow:before {color: black;}#sk-eb14f70f-36cd-4e7d-9c19-a73f90c251ba div.sk-toggleable__content {max-height: 0;max-width: 0;overflow: hidden;text-align: left;background-color: #f0f8ff;}#sk-eb14f70f-36cd-4e7d-9c19-a73f90c251ba div.sk-toggleable__content pre {margin: 0.2em;color: black;border-radius: 0.25em;background-color: #f0f8ff;}#sk-eb14f70f-36cd-4e7d-9c19-a73f90c251ba input.sk-toggleable__control:checked~div.sk-toggleable__content {max-height: 200px;max-width: 100%;overflow: auto;}#sk-eb14f70f-36cd-4e7d-9c19-a73f90c251ba input.sk-toggleable__control:checked~label.sk-toggleable__label-arrow:before {content: \"▾\";}#sk-eb14f70f-36cd-4e7d-9c19-a73f90c251ba div.sk-estimator input.sk-toggleable__control:checked~label.sk-toggleable__label {background-color: #d4ebff;}#sk-eb14f70f-36cd-4e7d-9c19-a73f90c251ba div.sk-label input.sk-toggleable__control:checked~label.sk-toggleable__label {background-color: #d4ebff;}#sk-eb14f70f-36cd-4e7d-9c19-a73f90c251ba input.sk-hidden--visually {border: 0;clip: rect(1px 1px 1px 1px);clip: rect(1px, 1px, 1px, 1px);height: 1px;margin: -1px;overflow: hidden;padding: 0;position: absolute;width: 1px;}#sk-eb14f70f-36cd-4e7d-9c19-a73f90c251ba div.sk-estimator {font-family: monospace;background-color: #f0f8ff;border: 1px dotted black;border-radius: 0.25em;box-sizing: border-box;margin-bottom: 0.5em;}#sk-eb14f70f-36cd-4e7d-9c19-a73f90c251ba div.sk-estimator:hover {background-color: #d4ebff;}#sk-eb14f70f-36cd-4e7d-9c19-a73f90c251ba div.sk-parallel-item::after {content: \"\";width: 100%;border-bottom: 1px solid gray;flex-grow: 1;}#sk-eb14f70f-36cd-4e7d-9c19-a73f90c251ba div.sk-label:hover label.sk-toggleable__label {background-color: #d4ebff;}#sk-eb14f70f-36cd-4e7d-9c19-a73f90c251ba div.sk-serial::before {content: \"\";position: absolute;border-left: 1px solid gray;box-sizing: border-box;top: 2em;bottom: 0;left: 50%;}#sk-eb14f70f-36cd-4e7d-9c19-a73f90c251ba div.sk-serial {display: flex;flex-direction: column;align-items: center;background-color: white;padding-right: 0.2em;padding-left: 0.2em;}#sk-eb14f70f-36cd-4e7d-9c19-a73f90c251ba div.sk-item {z-index: 1;}#sk-eb14f70f-36cd-4e7d-9c19-a73f90c251ba div.sk-parallel {display: flex;align-items: stretch;justify-content: center;background-color: white;}#sk-eb14f70f-36cd-4e7d-9c19-a73f90c251ba div.sk-parallel::before {content: \"\";position: absolute;border-left: 1px solid gray;box-sizing: border-box;top: 2em;bottom: 0;left: 50%;}#sk-eb14f70f-36cd-4e7d-9c19-a73f90c251ba div.sk-parallel-item {display: flex;flex-direction: column;position: relative;background-color: white;}#sk-eb14f70f-36cd-4e7d-9c19-a73f90c251ba div.sk-parallel-item:first-child::after {align-self: flex-end;width: 50%;}#sk-eb14f70f-36cd-4e7d-9c19-a73f90c251ba div.sk-parallel-item:last-child::after {align-self: flex-start;width: 50%;}#sk-eb14f70f-36cd-4e7d-9c19-a73f90c251ba div.sk-parallel-item:only-child::after {width: 0;}#sk-eb14f70f-36cd-4e7d-9c19-a73f90c251ba div.sk-dashed-wrapped {border: 1px dashed gray;margin: 0 0.4em 0.5em 0.4em;box-sizing: border-box;padding-bottom: 0.4em;background-color: white;position: relative;}#sk-eb14f70f-36cd-4e7d-9c19-a73f90c251ba div.sk-label label {font-family: monospace;font-weight: bold;background-color: white;display: inline-block;line-height: 1.2em;}#sk-eb14f70f-36cd-4e7d-9c19-a73f90c251ba div.sk-label-container {position: relative;z-index: 2;text-align: center;}#sk-eb14f70f-36cd-4e7d-9c19-a73f90c251ba div.sk-container {/* jupyter's `normalize.less` sets `[hidden] { display: none; }` but bootstrap.min.css set `[hidden] { display: none !important; }` so we also need the `!important` here to be able to override the default hidden behavior on the sphinx rendered scikit-learn.org. See: https://github.com/scikit-learn/scikit-learn/issues/21755 */display: inline-block !important;position: relative;}#sk-eb14f70f-36cd-4e7d-9c19-a73f90c251ba div.sk-text-repr-fallback {display: none;}</style><div id=\"sk-eb14f70f-36cd-4e7d-9c19-a73f90c251ba\" class=\"sk-top-container\"><div class=\"sk-text-repr-fallback\"><pre>Pipeline(steps=[(&#x27;standardscaler&#x27;, StandardScaler()),\n",
       "                (&#x27;polynomialfeatures&#x27;,\n",
       "                 PolynomialFeatures(interaction_only=True)),\n",
       "                (&#x27;xgbregressor&#x27;,\n",
       "                 XGBRegressor(alpha=0, base_score=0.5, booster=&#x27;gblinear&#x27;,\n",
       "                              colsample_bylevel=None, colsample_bynode=None,\n",
       "                              colsample_bytree=None, enable_categorical=False,\n",
       "                              feature_selector=&#x27;greedy&#x27;, gamma=None, gpu_id=-1,\n",
       "                              importance_type=None,\n",
       "                              interaction_constraints=None, learning_rate=0.09,\n",
       "                              max_delta_step=None, max_depth=None,\n",
       "                              min_child_weight=None, missing=nan,\n",
       "                              monotone_constraints=None, n_estimators=100,\n",
       "                              n_jobs=16, num_parallel_tree=None, predictor=None,\n",
       "                              random_state=0, reg_alpha=0, reg_lambda=0.001,\n",
       "                              scale_pos_weight=1, subsample=None, top_k=7,\n",
       "                              tree_method=None, updater=&#x27;coord_descent&#x27;, ...))])</pre><b>Please rerun this cell to show the HTML repr or trust the notebook.</b></div><div class=\"sk-container\" hidden><div class=\"sk-item sk-dashed-wrapped\"><div class=\"sk-label-container\"><div class=\"sk-label sk-toggleable\"><input class=\"sk-toggleable__control sk-hidden--visually\" id=\"f2289d49-9101-4df2-a661-1220dacb6498\" type=\"checkbox\" ><label for=\"f2289d49-9101-4df2-a661-1220dacb6498\" class=\"sk-toggleable__label sk-toggleable__label-arrow\">Pipeline</label><div class=\"sk-toggleable__content\"><pre>Pipeline(steps=[(&#x27;standardscaler&#x27;, StandardScaler()),\n",
       "                (&#x27;polynomialfeatures&#x27;,\n",
       "                 PolynomialFeatures(interaction_only=True)),\n",
       "                (&#x27;xgbregressor&#x27;,\n",
       "                 XGBRegressor(alpha=0, base_score=0.5, booster=&#x27;gblinear&#x27;,\n",
       "                              colsample_bylevel=None, colsample_bynode=None,\n",
       "                              colsample_bytree=None, enable_categorical=False,\n",
       "                              feature_selector=&#x27;greedy&#x27;, gamma=None, gpu_id=-1,\n",
       "                              importance_type=None,\n",
       "                              interaction_constraints=None, learning_rate=0.09,\n",
       "                              max_delta_step=None, max_depth=None,\n",
       "                              min_child_weight=None, missing=nan,\n",
       "                              monotone_constraints=None, n_estimators=100,\n",
       "                              n_jobs=16, num_parallel_tree=None, predictor=None,\n",
       "                              random_state=0, reg_alpha=0, reg_lambda=0.001,\n",
       "                              scale_pos_weight=1, subsample=None, top_k=7,\n",
       "                              tree_method=None, updater=&#x27;coord_descent&#x27;, ...))])</pre></div></div></div><div class=\"sk-serial\"><div class=\"sk-item\"><div class=\"sk-estimator sk-toggleable\"><input class=\"sk-toggleable__control sk-hidden--visually\" id=\"85a2d2e5-f62b-41c7-97dd-016bd21a54f1\" type=\"checkbox\" ><label for=\"85a2d2e5-f62b-41c7-97dd-016bd21a54f1\" class=\"sk-toggleable__label sk-toggleable__label-arrow\">StandardScaler</label><div class=\"sk-toggleable__content\"><pre>StandardScaler()</pre></div></div></div><div class=\"sk-item\"><div class=\"sk-estimator sk-toggleable\"><input class=\"sk-toggleable__control sk-hidden--visually\" id=\"12938e75-6afd-4bd8-9e1c-fd4229c5e9f6\" type=\"checkbox\" ><label for=\"12938e75-6afd-4bd8-9e1c-fd4229c5e9f6\" class=\"sk-toggleable__label sk-toggleable__label-arrow\">PolynomialFeatures</label><div class=\"sk-toggleable__content\"><pre>PolynomialFeatures(interaction_only=True)</pre></div></div></div><div class=\"sk-item\"><div class=\"sk-estimator sk-toggleable\"><input class=\"sk-toggleable__control sk-hidden--visually\" id=\"2db1391a-fa8c-4047-968f-e9a32435527d\" type=\"checkbox\" ><label for=\"2db1391a-fa8c-4047-968f-e9a32435527d\" class=\"sk-toggleable__label sk-toggleable__label-arrow\">XGBRegressor</label><div class=\"sk-toggleable__content\"><pre>XGBRegressor(alpha=0, base_score=0.5, booster=&#x27;gblinear&#x27;,\n",
       "             colsample_bylevel=None, colsample_bynode=None,\n",
       "             colsample_bytree=None, enable_categorical=False,\n",
       "             feature_selector=&#x27;greedy&#x27;, gamma=None, gpu_id=-1,\n",
       "             importance_type=None, interaction_constraints=None,\n",
       "             learning_rate=0.09, max_delta_step=None, max_depth=None,\n",
       "             min_child_weight=None, missing=nan, monotone_constraints=None,\n",
       "             n_estimators=100, n_jobs=16, num_parallel_tree=None,\n",
       "             predictor=None, random_state=0, reg_alpha=0, reg_lambda=0.001,\n",
       "             scale_pos_weight=1, subsample=None, top_k=7, tree_method=None,\n",
       "             updater=&#x27;coord_descent&#x27;, ...)</pre></div></div></div></div></div></div></div>"
      ],
      "text/plain": [
       "Pipeline(steps=[('standardscaler', StandardScaler()),\n",
       "                ('polynomialfeatures',\n",
       "                 PolynomialFeatures(interaction_only=True)),\n",
       "                ('xgbregressor',\n",
       "                 XGBRegressor(alpha=0, base_score=0.5, booster='gblinear',\n",
       "                              colsample_bylevel=None, colsample_bynode=None,\n",
       "                              colsample_bytree=None, enable_categorical=False,\n",
       "                              feature_selector='greedy', gamma=None, gpu_id=-1,\n",
       "                              importance_type=None,\n",
       "                              interaction_constraints=None, learning_rate=0.09,\n",
       "                              max_delta_step=None, max_depth=None,\n",
       "                              min_child_weight=None, missing=nan,\n",
       "                              monotone_constraints=None, n_estimators=100,\n",
       "                              n_jobs=16, num_parallel_tree=None, predictor=None,\n",
       "                              random_state=0, reg_alpha=0, reg_lambda=0.001,\n",
       "                              scale_pos_weight=1, subsample=None, top_k=7,\n",
       "                              tree_method=None, updater='coord_descent', ...))])"
      ]
     },
     "metadata": {},
     "output_type": "display_data"
    },
    {
     "name": "stdout",
     "output_type": "stream",
     "text": [
      "  score     train_set      test_set\n",
      "0   R^2         86.72         87.31\n",
      "1   MSE 19,456,763.67 18,612,093.03\n",
      "2  RMSE      4,410.98      4,314.17\n",
      "3   MAE      2,433.66      2,375.30\n",
      "\n",
      "Cross validation score: 85.22%\n",
      "Time elapsed: 0.079 sec\n"
     ]
    },
    {
     "data": {
      "image/png": "[encoded data removed]",
      "text/plain": [
       "<Figure size 432x288 with 1 Axes>"
      ]
     },
     "metadata": {
      "needs_background": "light"
     },
     "output_type": "display_data"
    },
    {
     "data": {
      "text/html": [
       "<style>#sk-1b140c95-af6e-46af-b83e-36a0c4ffcf7b {color: black;background-color: white;}#sk-1b140c95-af6e-46af-b83e-36a0c4ffcf7b pre{padding: 0;}#sk-1b140c95-af6e-46af-b83e-36a0c4ffcf7b div.sk-toggleable {background-color: white;}#sk-1b140c95-af6e-46af-b83e-36a0c4ffcf7b label.sk-toggleable__label {cursor: pointer;display: block;width: 100%;margin-bottom: 0;padding: 0.3em;box-sizing: border-box;text-align: center;}#sk-1b140c95-af6e-46af-b83e-36a0c4ffcf7b label.sk-toggleable__label-arrow:before {content: \"▸\";float: left;margin-right: 0.25em;color: #696969;}#sk-1b140c95-af6e-46af-b83e-36a0c4ffcf7b label.sk-toggleable__label-arrow:hover:before {color: black;}#sk-1b140c95-af6e-46af-b83e-36a0c4ffcf7b div.sk-estimator:hover label.sk-toggleable__label-arrow:before {color: black;}#sk-1b140c95-af6e-46af-b83e-36a0c4ffcf7b div.sk-toggleable__content {max-height: 0;max-width: 0;overflow: hidden;text-align: left;background-color: #f0f8ff;}#sk-1b140c95-af6e-46af-b83e-36a0c4ffcf7b div.sk-toggleable__content pre {margin: 0.2em;color: black;border-radius: 0.25em;background-color: #f0f8ff;}#sk-1b140c95-af6e-46af-b83e-36a0c4ffcf7b input.sk-toggleable__control:checked~div.sk-toggleable__content {max-height: 200px;max-width: 100%;overflow: auto;}#sk-1b140c95-af6e-46af-b83e-36a0c4ffcf7b input.sk-toggleable__control:checked~label.sk-toggleable__label-arrow:before {content: \"▾\";}#sk-1b140c95-af6e-46af-b83e-36a0c4ffcf7b div.sk-estimator input.sk-toggleable__control:checked~label.sk-toggleable__label {background-color: #d4ebff;}#sk-1b140c95-af6e-46af-b83e-36a0c4ffcf7b div.sk-label input.sk-toggleable__control:checked~label.sk-toggleable__label {background-color: #d4ebff;}#sk-1b140c95-af6e-46af-b83e-36a0c4ffcf7b input.sk-hidden--visually {border: 0;clip: rect(1px 1px 1px 1px);clip: rect(1px, 1px, 1px, 1px);height: 1px;margin: -1px;overflow: hidden;padding: 0;position: absolute;width: 1px;}#sk-1b140c95-af6e-46af-b83e-36a0c4ffcf7b div.sk-estimator {font-family: monospace;background-color: #f0f8ff;border: 1px dotted black;border-radius: 0.25em;box-sizing: border-box;margin-bottom: 0.5em;}#sk-1b140c95-af6e-46af-b83e-36a0c4ffcf7b div.sk-estimator:hover {background-color: #d4ebff;}#sk-1b140c95-af6e-46af-b83e-36a0c4ffcf7b div.sk-parallel-item::after {content: \"\";width: 100%;border-bottom: 1px solid gray;flex-grow: 1;}#sk-1b140c95-af6e-46af-b83e-36a0c4ffcf7b div.sk-label:hover label.sk-toggleable__label {background-color: #d4ebff;}#sk-1b140c95-af6e-46af-b83e-36a0c4ffcf7b div.sk-serial::before {content: \"\";position: absolute;border-left: 1px solid gray;box-sizing: border-box;top: 2em;bottom: 0;left: 50%;}#sk-1b140c95-af6e-46af-b83e-36a0c4ffcf7b div.sk-serial {display: flex;flex-direction: column;align-items: center;background-color: white;padding-right: 0.2em;padding-left: 0.2em;}#sk-1b140c95-af6e-46af-b83e-36a0c4ffcf7b div.sk-item {z-index: 1;}#sk-1b140c95-af6e-46af-b83e-36a0c4ffcf7b div.sk-parallel {display: flex;align-items: stretch;justify-content: center;background-color: white;}#sk-1b140c95-af6e-46af-b83e-36a0c4ffcf7b div.sk-parallel::before {content: \"\";position: absolute;border-left: 1px solid gray;box-sizing: border-box;top: 2em;bottom: 0;left: 50%;}#sk-1b140c95-af6e-46af-b83e-36a0c4ffcf7b div.sk-parallel-item {display: flex;flex-direction: column;position: relative;background-color: white;}#sk-1b140c95-af6e-46af-b83e-36a0c4ffcf7b div.sk-parallel-item:first-child::after {align-self: flex-end;width: 50%;}#sk-1b140c95-af6e-46af-b83e-36a0c4ffcf7b div.sk-parallel-item:last-child::after {align-self: flex-start;width: 50%;}#sk-1b140c95-af6e-46af-b83e-36a0c4ffcf7b div.sk-parallel-item:only-child::after {width: 0;}#sk-1b140c95-af6e-46af-b83e-36a0c4ffcf7b div.sk-dashed-wrapped {border: 1px dashed gray;margin: 0 0.4em 0.5em 0.4em;box-sizing: border-box;padding-bottom: 0.4em;background-color: white;position: relative;}#sk-1b140c95-af6e-46af-b83e-36a0c4ffcf7b div.sk-label label {font-family: monospace;font-weight: bold;background-color: white;display: inline-block;line-height: 1.2em;}#sk-1b140c95-af6e-46af-b83e-36a0c4ffcf7b div.sk-label-container {position: relative;z-index: 2;text-align: center;}#sk-1b140c95-af6e-46af-b83e-36a0c4ffcf7b div.sk-container {/* jupyter's `normalize.less` sets `[hidden] { display: none; }` but bootstrap.min.css set `[hidden] { display: none !important; }` so we also need the `!important` here to be able to override the default hidden behavior on the sphinx rendered scikit-learn.org. See: https://github.com/scikit-learn/scikit-learn/issues/21755 */display: inline-block !important;position: relative;}#sk-1b140c95-af6e-46af-b83e-36a0c4ffcf7b div.sk-text-repr-fallback {display: none;}</style><div id=\"sk-1b140c95-af6e-46af-b83e-36a0c4ffcf7b\" class=\"sk-top-container\"><div class=\"sk-text-repr-fallback\"><pre>StackingRegressor(estimators=[(&#x27;en&#x27;,\n",
       "                               Pipeline(steps=[(&#x27;standardscaler&#x27;,\n",
       "                                                StandardScaler()),\n",
       "                                               (&#x27;elasticnet&#x27;,\n",
       "                                                ElasticNet(alpha=0.01))])),\n",
       "                              (&#x27;ridge&#x27;, Ridge()),\n",
       "                              (&#x27;xgb&#x27;,\n",
       "                               Pipeline(steps=[(&#x27;standardscaler&#x27;,\n",
       "                                                StandardScaler()),\n",
       "                                               (&#x27;polynomialfeatures&#x27;,\n",
       "                                                PolynomialFeatures(interaction_only=True)),\n",
       "                                               (&#x27;xgbregressor&#x27;,\n",
       "                                                XGBRegressor(alpha=0,\n",
       "                                                             base_score=0.5,\n",
       "                                                             booster=&#x27;gblinear&#x27;,\n",
       "                                                             colsampl...\n",
       "                                                             importance_type=None,\n",
       "                                                             interaction_constraints=None,\n",
       "                                                             learning_rate=0.09,\n",
       "                                                             max_delta_step=None,\n",
       "                                                             max_depth=None,\n",
       "                                                             min_child_weight=None,\n",
       "                                                             missing=nan,\n",
       "                                                             monotone_constraints=None,\n",
       "                                                             n_estimators=100,\n",
       "                                                             n_jobs=16,\n",
       "                                                             num_parallel_tree=None,\n",
       "                                                             predictor=None,\n",
       "                                                             random_state=0,\n",
       "                                                             reg_alpha=0,\n",
       "                                                             reg_lambda=0.001,\n",
       "                                                             scale_pos_weight=1,\n",
       "                                                             subsample=None,\n",
       "                                                             top_k=7,\n",
       "                                                             tree_method=None,\n",
       "                                                             updater=&#x27;coord_descent&#x27;, ...))]))])</pre><b>Please rerun this cell to show the HTML repr or trust the notebook.</b></div><div class=\"sk-container\" hidden><div class=\"sk-item sk-dashed-wrapped\"><div class=\"sk-label-container\"><div class=\"sk-label sk-toggleable\"><input class=\"sk-toggleable__control sk-hidden--visually\" id=\"bf79eeca-63de-42d5-8066-08a9b67e85ca\" type=\"checkbox\" ><label for=\"bf79eeca-63de-42d5-8066-08a9b67e85ca\" class=\"sk-toggleable__label sk-toggleable__label-arrow\">StackingRegressor</label><div class=\"sk-toggleable__content\"><pre>StackingRegressor(estimators=[(&#x27;en&#x27;,\n",
       "                               Pipeline(steps=[(&#x27;standardscaler&#x27;,\n",
       "                                                StandardScaler()),\n",
       "                                               (&#x27;elasticnet&#x27;,\n",
       "                                                ElasticNet(alpha=0.01))])),\n",
       "                              (&#x27;ridge&#x27;, Ridge()),\n",
       "                              (&#x27;xgb&#x27;,\n",
       "                               Pipeline(steps=[(&#x27;standardscaler&#x27;,\n",
       "                                                StandardScaler()),\n",
       "                                               (&#x27;polynomialfeatures&#x27;,\n",
       "                                                PolynomialFeatures(interaction_only=True)),\n",
       "                                               (&#x27;xgbregressor&#x27;,\n",
       "                                                XGBRegressor(alpha=0,\n",
       "                                                             base_score=0.5,\n",
       "                                                             booster=&#x27;gblinear&#x27;,\n",
       "                                                             colsampl...\n",
       "                                                             importance_type=None,\n",
       "                                                             interaction_constraints=None,\n",
       "                                                             learning_rate=0.09,\n",
       "                                                             max_delta_step=None,\n",
       "                                                             max_depth=None,\n",
       "                                                             min_child_weight=None,\n",
       "                                                             missing=nan,\n",
       "                                                             monotone_constraints=None,\n",
       "                                                             n_estimators=100,\n",
       "                                                             n_jobs=16,\n",
       "                                                             num_parallel_tree=None,\n",
       "                                                             predictor=None,\n",
       "                                                             random_state=0,\n",
       "                                                             reg_alpha=0,\n",
       "                                                             reg_lambda=0.001,\n",
       "                                                             scale_pos_weight=1,\n",
       "                                                             subsample=None,\n",
       "                                                             top_k=7,\n",
       "                                                             tree_method=None,\n",
       "                                                             updater=&#x27;coord_descent&#x27;, ...))]))])</pre></div></div></div><div class=\"sk-serial\"><div class=\"sk-item\"><div class=\"sk-parallel\"><div class=\"sk-parallel-item\"><div class=\"sk-item\"><div class=\"sk-label-container\"><div class=\"sk-label sk-toggleable\"><label>en</label></div></div><div class=\"sk-serial\"><div class=\"sk-item\"><div class=\"sk-serial\"><div class=\"sk-item\"><div class=\"sk-estimator sk-toggleable\"><input class=\"sk-toggleable__control sk-hidden--visually\" id=\"30b86ced-7a8c-466a-96a7-e68d84768525\" type=\"checkbox\" ><label for=\"30b86ced-7a8c-466a-96a7-e68d84768525\" class=\"sk-toggleable__label sk-toggleable__label-arrow\">StandardScaler</label><div class=\"sk-toggleable__content\"><pre>StandardScaler()</pre></div></div></div><div class=\"sk-item\"><div class=\"sk-estimator sk-toggleable\"><input class=\"sk-toggleable__control sk-hidden--visually\" id=\"3d196e14-d6a2-4fb8-b764-5eaa2f315030\" type=\"checkbox\" ><label for=\"3d196e14-d6a2-4fb8-b764-5eaa2f315030\" class=\"sk-toggleable__label sk-toggleable__label-arrow\">ElasticNet</label><div class=\"sk-toggleable__content\"><pre>ElasticNet(alpha=0.01)</pre></div></div></div></div></div></div></div></div><div class=\"sk-parallel-item\"><div class=\"sk-item\"><div class=\"sk-label-container\"><div class=\"sk-label sk-toggleable\"><label>ridge</label></div></div><div class=\"sk-serial\"><div class=\"sk-item\"><div class=\"sk-estimator sk-toggleable\"><input class=\"sk-toggleable__control sk-hidden--visually\" id=\"d9681225-13f1-4342-b997-8708c3677f26\" type=\"checkbox\" ><label for=\"d9681225-13f1-4342-b997-8708c3677f26\" class=\"sk-toggleable__label sk-toggleable__label-arrow\">Ridge</label><div class=\"sk-toggleable__content\"><pre>Ridge()</pre></div></div></div></div></div></div><div class=\"sk-parallel-item\"><div class=\"sk-item\"><div class=\"sk-label-container\"><div class=\"sk-label sk-toggleable\"><label>xgb</label></div></div><div class=\"sk-serial\"><div class=\"sk-item\"><div class=\"sk-serial\"><div class=\"sk-item\"><div class=\"sk-estimator sk-toggleable\"><input class=\"sk-toggleable__control sk-hidden--visually\" id=\"df85b259-6253-4a57-acb4-b82a0d0baabf\" type=\"checkbox\" ><label for=\"df85b259-6253-4a57-acb4-b82a0d0baabf\" class=\"sk-toggleable__label sk-toggleable__label-arrow\">StandardScaler</label><div class=\"sk-toggleable__content\"><pre>StandardScaler()</pre></div></div></div><div class=\"sk-item\"><div class=\"sk-estimator sk-toggleable\"><input class=\"sk-toggleable__control sk-hidden--visually\" id=\"60accca4-9e67-4d3c-a243-bae368fd0969\" type=\"checkbox\" ><label for=\"60accca4-9e67-4d3c-a243-bae368fd0969\" class=\"sk-toggleable__label sk-toggleable__label-arrow\">PolynomialFeatures</label><div class=\"sk-toggleable__content\"><pre>PolynomialFeatures(interaction_only=True)</pre></div></div></div><div class=\"sk-item\"><div class=\"sk-estimator sk-toggleable\"><input class=\"sk-toggleable__control sk-hidden--visually\" id=\"575a7a67-45f9-4c54-82e0-fcacfa42ec31\" type=\"checkbox\" ><label for=\"575a7a67-45f9-4c54-82e0-fcacfa42ec31\" class=\"sk-toggleable__label sk-toggleable__label-arrow\">XGBRegressor</label><div class=\"sk-toggleable__content\"><pre>XGBRegressor(alpha=0, base_score=0.5, booster=&#x27;gblinear&#x27;,\n",
       "             colsample_bylevel=None, colsample_bynode=None,\n",
       "             colsample_bytree=None, enable_categorical=False,\n",
       "             feature_selector=&#x27;greedy&#x27;, gamma=None, gpu_id=-1,\n",
       "             importance_type=None, interaction_constraints=None,\n",
       "             learning_rate=0.09, max_delta_step=None, max_depth=None,\n",
       "             min_child_weight=None, missing=nan, monotone_constraints=None,\n",
       "             n_estimators=100, n_jobs=16, num_parallel_tree=None,\n",
       "             predictor=None, random_state=0, reg_alpha=0, reg_lambda=0.001,\n",
       "             scale_pos_weight=1, subsample=None, top_k=7, tree_method=None,\n",
       "             updater=&#x27;coord_descent&#x27;, ...)</pre></div></div></div></div></div></div></div></div></div></div><div class=\"sk-item\"><div class=\"sk-parallel\"><div class=\"sk-parallel-item\"><div class=\"sk-item\"><div class=\"sk-label-container\"><div class=\"sk-label sk-toggleable\"><label>final_estimator</label></div></div><div class=\"sk-serial\"><div class=\"sk-item\"><div class=\"sk-estimator sk-toggleable\"><input class=\"sk-toggleable__control sk-hidden--visually\" id=\"13298f8e-1e20-4c00-8dcc-d0816c6c6cc9\" type=\"checkbox\" ><label for=\"13298f8e-1e20-4c00-8dcc-d0816c6c6cc9\" class=\"sk-toggleable__label sk-toggleable__label-arrow\">RidgeCV</label><div class=\"sk-toggleable__content\"><pre>RidgeCV(alphas=array([ 0.1,  1. , 10. ]))</pre></div></div></div></div></div></div></div></div></div></div></div></div>"
      ],
      "text/plain": [
       "StackingRegressor(estimators=[('en',\n",
       "                               Pipeline(steps=[('standardscaler',\n",
       "                                                StandardScaler()),\n",
       "                                               ('elasticnet',\n",
       "                                                ElasticNet(alpha=0.01))])),\n",
       "                              ('ridge', Ridge()),\n",
       "                              ('xgb',\n",
       "                               Pipeline(steps=[('standardscaler',\n",
       "                                                StandardScaler()),\n",
       "                                               ('polynomialfeatures',\n",
       "                                                PolynomialFeatures(interaction_only=True)),\n",
       "                                               ('xgbregressor',\n",
       "                                                XGBRegressor(alpha=0,\n",
       "                                                             base_score=0.5,\n",
       "                                                             booster='gblinear',\n",
       "                                                             colsampl...\n",
       "                                                             importance_type=None,\n",
       "                                                             interaction_constraints=None,\n",
       "                                                             learning_rate=0.09,\n",
       "                                                             max_delta_step=None,\n",
       "                                                             max_depth=None,\n",
       "                                                             min_child_weight=None,\n",
       "                                                             missing=nan,\n",
       "                                                             monotone_constraints=None,\n",
       "                                                             n_estimators=100,\n",
       "                                                             n_jobs=16,\n",
       "                                                             num_parallel_tree=None,\n",
       "                                                             predictor=None,\n",
       "                                                             random_state=0,\n",
       "                                                             reg_alpha=0,\n",
       "                                                             reg_lambda=0.001,\n",
       "                                                             scale_pos_weight=1,\n",
       "                                                             subsample=None,\n",
       "                                                             top_k=7,\n",
       "                                                             tree_method=None,\n",
       "                                                             updater='coord_descent', ...))]))])"
      ]
     },
     "metadata": {},
     "output_type": "display_data"
    },
    {
     "name": "stdout",
     "output_type": "stream",
     "text": [
      "  score     train_set      test_set\n",
      "0   R^2         86.53         87.29\n",
      "1   MSE 19,735,920.53 18,638,965.14\n",
      "2  RMSE      4,442.51      4,317.29\n",
      "3   MAE      2,453.28      2,382.37\n",
      "\n",
      "Cross validation score: 85.25%\n",
      "Time elapsed: 0.402 sec\n"
     ]
    },
    {
     "data": {
      "image/png": "[encoded data removed]",
      "text/plain": [
       "<Figure size 432x288 with 1 Axes>"
      ]
     },
     "metadata": {
      "needs_background": "light"
     },
     "output_type": "display_data"
    }
   ],
   "source": [
    "for model in models:\n",
    "    run_model(model, X_train, y_train, X_test, y_test)"
   ]
  },
  {
   "cell_type": "markdown",
   "id": "71dc276c",
   "metadata": {
    "extensions": {
     "jupyter_dashboards": {
      "version": 1,
      "views": {
       "grid_default": {},
       "report_default": {
        "hidden": true
       }
      }
     }
    }
   },
   "source": [
    "#### Wizuaizacja danych klienta"
   ]
  },
  {
   "cell_type": "code",
   "execution_count": 19,
   "id": "b5a9197e",
   "metadata": {
    "extensions": {
     "jupyter_dashboards": {
      "version": 1,
      "views": {
       "grid_default": {},
       "report_default": {
        "hidden": true
       }
      }
     }
    },
    "hide_input": false
   },
   "outputs": [],
   "source": [
    "# wykres charges v. age z uwzglednieniem danych klienta z widget\n",
    "def visualize_charges(bmi, prediction):\n",
    "        # dodanie progow oplat\n",
    "    df['charges_thresholds'] = 0\n",
    "    # progi:\n",
    "    IV_opis = '> 30.000'\n",
    "    III_opis = '15.000 - 30.000'\n",
    "    III_prog = 30000\n",
    "    II_prog = 15000\n",
    "    II_opis = '6.000 - 15.000'\n",
    "    I_prog = 6000\n",
    "    I_opis = '< 6.000'\n",
    "\n",
    "    for index, row in df.iterrows():\n",
    "        if row['charges'] > III_prog:\n",
    "            df.loc[index,'charges_thresholds'] = IV_opis\n",
    "        elif row['charges'] < I_prog:\n",
    "            df.loc[index,'charges_thresholds'] = I_opis\n",
    "        elif row['charges'] > I_prog and row['charges'] < II_prog:\n",
    "            df.loc[index,'charges_thresholds'] = II_opis\n",
    "        else:\n",
    "            df.loc[index,'charges_thresholds'] = III_opis\n",
    "    lista_customer = [[bmi, \n",
    "                   values['age_slider'], \n",
    "                   prediction]]\n",
    "\n",
    "    df_customer = pd.DataFrame(lista_customer)\n",
    "    df_customer.columns = ['bmi_custom', 'age_customer', 'customer_fee']\n",
    "    # plots\n",
    "    fig, axes = plt.subplots(1, 2, figsize=(19,11))\n",
    "    sns.despine()\n",
    "    for ax in axes.flat:\n",
    "        sns.despine(left=not ax.get_subplotspec().is_first_col(), ax=ax)\n",
    "    fig.suptitle('Charges', fontweight='bold',fontsize=28)\n",
    "    fig.supylabel('charges', fontsize=22)\n",
    "    ax_1 = sns.scatterplot(ax=axes[0],data=df, x='bmi', y='charges', hue='charges_thresholds',\n",
    "                   hue_order=['> 30.000', '15.000 - 30.000', '6.000 - 15.000', '< 6.000'],s=30, legend=False,\n",
    "                   alpha=0.5)\n",
    "    ax_1.set_title('vs bmi', fontsize=20)\n",
    "    plt.tight_layout()\n",
    "    ax_1.set_ylabel(None)\n",
    "    ax_1.set_xlabel('bmi', fontsize=22)\n",
    "    ax_1.scatter(x=df_customer['bmi_custom'], y=df_customer['customer_fee'],color='yellow', marker='o',s=200, edgecolors='black', linewidths=2)\n",
    "    ax_2 = sns.scatterplot(ax=axes[1],data=df, x='age', y='charges', hue='charges_thresholds',\n",
    "                   hue_order=['> 30.000', '15.000 - 30.000', '6.000 - 15.000', '< 6.000'],s=30,\n",
    "                   alpha=0.5)\n",
    "    ax_2.set_title('vs age', fontsize=20)\n",
    "    ax_2.set_ylabel(None)\n",
    "    ax_2.set_xlabel('age', fontsize=22)\n",
    "    ax_2.set(yticklabels=[])  \n",
    "    ax_2.tick_params(left=False) \n",
    "    ax_2.legend(bbox_to_anchor=(1.05, 1), loc='upper left', borderaxespad=0,title='$\\\\bfThresholds$', title_fontsize=20, fontsize=18)\n",
    "    ax_2.scatter(x=df_customer['age_customer'], y=df_customer['customer_fee'],color='yellow', marker='o',s=200, edgecolors='black', linewidths=2)\n",
    "\n",
    "    plt.show()"
   ]
  },
  {
   "cell_type": "code",
   "execution_count": 20,
   "id": "cdd2b371",
   "metadata": {
    "extensions": {
     "jupyter_dashboards": {
      "version": 1,
      "views": {
       "grid_default": {},
       "report_default": {
        "hidden": true
       }
      }
     }
    },
    "hide_input": false
   },
   "outputs": [],
   "source": [
    "# dodanie progow opl\n",
    "df['charges_thresholds'] = 0\n",
    "\n",
    "# progi:\n",
    "IV_opis = '> 30.000'\n",
    "III_opis = '15.000 - 30.000'\n",
    "III_prog = 30000\n",
    "II_prog = 15000\n",
    "II_opis = '6.000 - 15.000'\n",
    "I_prog = 6000\n",
    "I_opis = '< 6.000'\n",
    "\n",
    "for index, row in df.iterrows():\n",
    "    if row['charges'] > III_prog:\n",
    "        df.loc[index,'charges_thresholds'] = IV_opis\n",
    "    elif row['charges'] < I_prog:\n",
    "        df.loc[index,'charges_thresholds'] = I_opis\n",
    "    elif row['charges'] > I_prog and row['charges'] < II_prog:\n",
    "        df.loc[index,'charges_thresholds'] = II_opis\n",
    "    else:\n",
    "        df.loc[index,'charges_thresholds'] = III_opis\n",
    "\n",
    "customer_fee = 20000 \n",
    "        \n",
    "# df.groupby('charges_thresholds').mean()\n",
    "customer_bmi = values['weight_slider'] / (values['height_slider']/100)**2\n",
    "customer_bmi\n",
    "# df dla danych klienta\n",
    "lista_customer = [[customer_bmi, \n",
    "                   values['age_slider'], \n",
    "                   customer_fee]]\n",
    "\n",
    "df_customer = pd.DataFrame(lista_customer)\n",
    "df_customer.columns = ['bmi_custom', 'age_customer', 'customer_fee']\n",
    "group_1 = df[df['charges'] < I_prog]\n",
    "group_2 = df[df['charges'] < II_prog]\n",
    "group_3 = df[df['charges'] <= III_prog]\n",
    "group_4 = df[df['charges'] > III_prog]"
   ]
  },
  {
   "cell_type": "code",
   "execution_count": 205,
   "id": "99c8ab3b",
   "metadata": {
    "extensions": {
     "jupyter_dashboards": {
      "version": 1,
      "views": {
       "grid_default": {},
       "report_default": {
        "hidden": true
       }
      }
     }
    }
   },
   "outputs": [],
   "source": [
    "def add_thresholds(df):\n",
    "    df['charges_thresholds']=0\n",
    "    IV_opis = '> 30.000'\n",
    "    III_opis = '15.000 - 30.000'\n",
    "    III_prog = 30000\n",
    "    II_prog = 15000\n",
    "    II_opis = '6.000 - 15.000'\n",
    "    I_prog = 6000\n",
    "    I_opis = '< 6.000'\n",
    "\n",
    "    for index, row in df.iterrows():\n",
    "        if row['charges'] > III_prog:\n",
    "            df.loc[index,'charges_thresholds'] = IV_opis\n",
    "        elif row['charges'] < I_prog:\n",
    "            df.loc[index,'charges_thresholds'] = I_opis\n",
    "        elif row['charges'] > I_prog and row['charges'] < II_prog:\n",
    "            df.loc[index,'charges_thresholds'] = II_opis\n",
    "        else:\n",
    "            df.loc[index,'charges_thresholds'] = III_opis \n",
    "    threshold=str(df['charges_thresholds'].values[0])\n",
    "    if threshold==IV_opis:\n",
    "        group_no=4\n",
    "    elif threshold==III_opis:\n",
    "        group_no=3\n",
    "    elif threshold==II_opis:\n",
    "        group_no=2\n",
    "    else:\n",
    "        group_no=1\n",
    "    message=(f'Customer is proposed to be included in payment group {group_no} with threshold = {threshold} per year')\n",
    "    print(message)"
   ]
  },
  {
   "cell_type": "code",
   "execution_count": 206,
   "id": "b23a5f5a",
   "metadata": {
    "extensions": {
     "jupyter_dashboards": {
      "version": 1,
      "views": {
       "grid_default": {},
       "report_default": {
        "hidden": true
       }
      }
     }
    }
   },
   "outputs": [],
   "source": [
    "def graph1():\n",
    "    ax_1 = sns.relplot(data=df, x='bmi', y='charges', hue='charges_thresholds',\n",
    "                   hue_order=['> 30.000', '15.000 - 30.000', '6.000 - 15.000', '< 6.000'],\n",
    "                   alpha=0.2)\n",
    "    (ax_1.map(plt.scatter, x=df_customer['bmi_custom'], y=df_customer['customer_fee'], \n",
    "           color='yellow', marker='o', edgecolors='black', linewidths=2)\n",
    "      .tight_layout(w_pad=0))\n",
    "    plt.title('Charges v. BMI')\n",
    "    plt.xlabel('Charges')\n",
    "    plt.ylabel('BMI')\n",
    "    plt.show()"
   ]
  },
  {
   "cell_type": "code",
   "execution_count": 207,
   "id": "6fb630ec",
   "metadata": {
    "extensions": {
     "jupyter_dashboards": {
      "version": 1,
      "views": {
       "grid_default": {},
       "report_default": {
        "hidden": true
       }
      }
     }
    }
   },
   "outputs": [],
   "source": [
    "# wykres charges v. age z uwzglednieniem danych klienta z widget\n",
    "def graph2():\n",
    "    ax_2 = sns.relplot(data=df, x='age', y='charges', hue='charges_thresholds',\n",
    "                   hue_order=['> 30.000', '15.000 - 30.000', '6.000 - 15.000', '< 6.000'],\n",
    "                   alpha=0.2)\n",
    "    (ax_2.map(plt.scatter, x=df_customer['age_customer'], y=df_customer['customer_fee'], \n",
    "           color='yellow', marker='o', edgecolors='black', linewidths=2)\n",
    "      .tight_layout(w_pad=0))\n",
    "    plt.title('Charges v. Age')\n",
    "    plt.xlabel('Charges')\n",
    "    plt.ylabel('Age')\n",
    "    plt.show()"
   ]
  },
  {
   "cell_type": "code",
   "execution_count": 208,
   "id": "ff483d11",
   "metadata": {
    "extensions": {
     "jupyter_dashboards": {
      "version": 1,
      "views": {
       "grid_default": {},
       "report_default": {
        "hidden": true
       }
      }
     }
    },
    "hide_input": false
   },
   "outputs": [],
   "source": [
    "from ipywidgets import widgets\n",
    "from IPython.display import display, clear_output\n",
    "#run button\n",
    "run_button = widgets.Button(description=\"Predict\")\n",
    "\n",
    "\n",
    "\n",
    "def button_callback(button):\n",
    "    output.clear_output()\n",
    "    with output:\n",
    "        age=values['age_slider']\n",
    "        bmi=values['weight_slider']/(values['height_slider']/100)**2\n",
    "        children=values['children_slider']\n",
    "        smoker_yes=values['smoker_button']\n",
    "        if values['region_dropdown']=='northwest':\n",
    "            region_northwest=1\n",
    "            region_southeast=0\n",
    "            region_southwest=0\n",
    "        elif values['region_dropdown']=='southeast':\n",
    "            region_northwest=0\n",
    "            region_southeast=1\n",
    "            region_southwest=0\n",
    "        elif values['region_dropdown']=='southwest':\n",
    "            region_northwest=0\n",
    "            region_southeast=0\n",
    "            region_southwest=1\n",
    "        else:\n",
    "            region_northwest=0\n",
    "            region_southeast=0\n",
    "            region_southwest=0\n",
    "        if bmi>=30:\n",
    "            obese=1\n",
    "        else:\n",
    "            obese=0\n",
    "        if (bmi>=30) & (smoker_yes==1):\n",
    "            obese_smoker=1\n",
    "        else:\n",
    "            obese_smoker=0\n",
    "        if values['sex_dropdown']=='male':\n",
    "            sex_male=1\n",
    "        else:\n",
    "            sex_male=0\n",
    "\n",
    "        values_to_predict= [age, bmi, children, sex_male, smoker_yes, region_northwest, region_southeast,\n",
    "              region_southwest, obese, obese_smoker]\n",
    "        columns=['age', 'bmi', 'children', 'sex_male', 'smoker_yes',\n",
    "           'region_northwest', 'region_southeast', 'region_southwest', 'obese', 'obese_smoker']\n",
    "        to_predict=pd.DataFrame([values_to_predict],columns=columns)\n",
    "        prediction = int(xgb_model.predict(to_predict))\n",
    "        to_predict['charges']=prediction\n",
    "        print(f'\\033[1mPredicted charges for customer: {prediction}\\033[0m')\n",
    "        add_thresholds(to_predict)\n",
    "\n",
    "        print()\n",
    "        visualize_charges(bmi,prediction)\n",
    "run_button.on_click(button_callback)\n"
   ]
  },
  {
   "cell_type": "code",
   "execution_count": 209,
   "id": "be715885",
   "metadata": {
    "extensions": {
     "jupyter_dashboards": {
      "version": 1,
      "views": {
       "grid_default": {},
       "report_default": {
        "hidden": false
       }
      }
     }
    },
    "hide_input": false,
    "scrolled": false
   },
   "outputs": [
    {
     "data": {
      "application/vnd.jupyter.widget-view+json": {
       "model_id": "ee4180dc406a4c5c9b14167aa580577d",
       "version_major": 2,
       "version_minor": 0
      },
      "text/plain": [
       "VBox(children=(HBox(children=(Select(description='Sex', layout=Layout(width='max-content'), options=('female',…"
      ]
     },
     "metadata": {},
     "output_type": "display_data"
    }
   ],
   "source": [
    "#widgety_predict\n",
    " \n",
    "def clear_output():\n",
    "    change_output_button = widgets.Button(description=\"Change output?\")\n",
    "    the_output = widgets.Output()\n",
    "    clear_output_widget = widgets.VBox([change_output_button, the_output])\n",
    "    clear_output_widget.click_count = 0\n",
    "\n",
    "    def button_clicked(_button):\n",
    "        clear_output_widget.click_count += 1\n",
    "        the_output.clear_output()\n",
    "        with the_output:\n",
    "            print(f\"button clicked {clear_output_widget.click_count} times.\")\n",
    "\n",
    "            \n",
    "    change_output_button.on_click(button_clicked)\n",
    "\n",
    "    return clear_output_widget\n",
    "\n",
    "result = widgets.interactive(widgets_handler,\n",
    "                 sex_dropdown_val = widget_sex,\n",
    "                 region_dropdown_val = widget_region,\n",
    "                 smoker_button_val = widget_smoker,\n",
    "                 age_slider_val = widget_age,\n",
    "                 height_slider_val = widget_height,\n",
    "                 weight_slider_val = widget_weight,\n",
    "                 children_slider_val = widget_children)\n",
    "layout = widgets.Layout(width='auto', height='auto', grid_gap='50px')\n",
    "controls1 = widgets.HBox(result.children[0:3], layout=layout)\n",
    "controls2 = widgets.HBox(result.children[3:5], layout=layout)\n",
    "controls3 = widgets.HBox(result.children[5:-1], layout=layout)\n",
    "output=widgets.Output()\n",
    "display(widgets.VBox([controls1,\n",
    "                      controls2,\n",
    "                      controls3,\n",
    "                      run_button,\n",
    "                      output],layout=widgets.Layout(margin = '50px 20px 50px 20px',grid_gap='30px')))"
   ]
  }
 ],
 "metadata": {
  "extensions": {
   "jupyter_dashboards": {
    "activeView": "report_default",
    "version": 1,
    "views": {
     "grid_default": {
      "cellMargin": 10,
      "defaultCellHeight": 20,
      "maxColumns": 12,
      "name": "grid",
      "type": "grid"
     },
     "report_default": {
      "name": "report",
      "type": "report"
     }
    }
   }
  },
  "kernelspec": {
   "display_name": "Python 3",
   "language": "python",
   "name": "python3"
  },
  "language_info": {
   "codemirror_mode": {
    "name": "ipython",
    "version": 3
   },
   "file_extension": ".py",
   "mimetype": "text/x-python",
   "name": "python",
   "nbconvert_exporter": "python",
   "pygments_lexer": "ipython3",
   "version": "3.9.7"
  }
 },
 "nbformat": 4,
 "nbformat_minor": 5
}
