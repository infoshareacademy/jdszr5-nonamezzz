{
 "cells": [
  {
   "cell_type": "code",
   "execution_count": 146,
   "id": "2b403996",
   "metadata": {},
   "outputs": [
    {
     "name": "stderr",
     "output_type": "stream",
     "text": [
      "/tmp/ipykernel_33707/159764282.py:22: DeprecationWarning: Importing display from IPython.core.display is deprecated since IPython 7.14, please import from IPython display\n",
      "  from IPython.core.display import display\n"
     ]
    }
   ],
   "source": [
    "import pandas as pd\n",
    "import seaborn as sns\n",
    "import matplotlib.pyplot as plt\n",
    "import numpy as np\n",
    "from pandas_profiling import ProfileReport\n",
    "from sklearn.ensemble import GradientBoostingRegressor, AdaBoostRegressor\n",
    "from sklearn.model_selection import train_test_split,  GridSearchCV\n",
    "from sklearn.model_selection import cross_val_score, KFold\n",
    "from sklearn.metrics import mean_squared_error\n",
    "from sklearn.metrics import mean_squared_error as MSE\n",
    "from sklearn.tree import DecisionTreeRegressor\n",
    "from sklearn.preprocessing import StandardScaler, MinMaxScaler, RobustScaler\n",
    "from pandas.plotting import scatter_matrix\n",
    "from sklearn.metrics import r2_score, classification_report\n",
    "from sklearn.linear_model import ElasticNet, ElasticNetCV\n",
    "from sklearn.pipeline import Pipeline\n",
    "from sklearn.decomposition import PCA\n",
    "\n",
    "import ipywidgets as widgets\n",
    "from IPython.display import display, clear_output\n",
    "from pandas.io.formats import style\n",
    "from IPython.core.display import display\n",
    "from ipywidgets import Button, GridBox, Layout, ButtonStyle\n",
    "\n",
    "\n",
    "%matplotlib inline\n",
    "\n",
    "initial_df = pd.read_csv(\"insurance.csv\")\n",
    "\n",
    "# one hot encoding\n",
    "df = pd.get_dummies(initial_df, drop_first=True)\n",
    "# dodanie kategorii otyły (w USA wg jakiegoś medycznego instytu jest po prostu powyżej 30\n",
    "df[\"obese\"] = df[\"bmi\"].apply(lambda x: 1 if x >= 30 else 0)\n",
    "# dodanie kategorii otyły i palący\n",
    "df[\"obese_smoker\"] = df[[\"obese\", \"smoker_yes\"]].apply(\n",
    "    lambda x: 1 if (x[\"obese\"] == 1) & (x[\"smoker_yes\"] == 1) else 0, axis=1\n",
    ")"
   ]
  },
  {
   "cell_type": "code",
   "execution_count": 147,
   "id": "80b0ff00",
   "metadata": {},
   "outputs": [
    {
     "data": {
      "text/plain": [
       "Index(['age', 'sex', 'bmi', 'children', 'smoker', 'region', 'charges'], dtype='object')"
      ]
     },
     "execution_count": 147,
     "metadata": {},
     "output_type": "execute_result"
    }
   ],
   "source": [
    "initial_df.columns"
   ]
  },
  {
   "cell_type": "code",
   "execution_count": 148,
   "id": "b9482302",
   "metadata": {},
   "outputs": [
    {
     "data": {
      "text/plain": [
       "Index(['age', 'bmi', 'children', 'charges', 'sex_male', 'smoker_yes',\n",
       "       'region_northwest', 'region_southeast', 'region_southwest', 'obese',\n",
       "       'obese_smoker'],\n",
       "      dtype='object')"
      ]
     },
     "execution_count": 148,
     "metadata": {},
     "output_type": "execute_result"
    }
   ],
   "source": [
    "df.columns"
   ]
  },
  {
   "cell_type": "code",
   "execution_count": 149,
   "id": "3f5d2269",
   "metadata": {},
   "outputs": [],
   "source": [
    "#widgets\n",
    "style = {'description_width': 'initial'}\n",
    "\n",
    "widget_sex = widgets.Select(\n",
    "    options = sorted(initial_df['sex'].unique().tolist()),\n",
    "    description = 'Sex',\n",
    "    style = style,\n",
    "    disabled = False,\n",
    "    layout = {'width': 'max-content'})\n",
    "\n",
    "widget_region = widgets.Select(\n",
    "    options = sorted(initial_df['region'].unique().tolist()),\n",
    "    description = 'Region',\n",
    "    style = style,\n",
    "    disabled = False,\n",
    "    layout = {'width': 'max-content'})\n",
    "\n",
    "widget_age = widgets.IntSlider(\n",
    "    min = initial_df['age'].min(),\n",
    "    max = 100,\n",
    "    description = 'Age',\n",
    "    style = style)\n",
    "\n",
    "widget_height = widgets.IntSlider(\n",
    "    min = 0,\n",
    "    max = 200,\n",
    "    description = 'Height [cm]',\n",
    "    style = style)\n",
    "\n",
    "widget_weight = widgets.FloatSlider(\n",
    "    min = 0,\n",
    "    max = 200,\n",
    "    description = 'Weight [kg]',\n",
    "    style = style)\n",
    "\n",
    "widget_children = widgets.IntSlider(\n",
    "    min = initial_df['children'].min(),\n",
    "    max = 8,\n",
    "    description = 'Children',\n",
    "    style = style)\n",
    "\n",
    "widget_smoker = widgets.RadioButtons(\n",
    "    options=[('Yes',1), ('No',0)],\n",
    "    style=style,\n",
    "    disabled = False,\n",
    "    description='Smoker')\n",
    "\n",
    "# widget_smoker = widgets.Select(\n",
    "#     options = ['Yes', 'No'],\n",
    "#     description = 'Smoker',\n",
    "#     style = style,\n",
    "#     disabled = False,\n",
    "#     layout = {'width': 'max-content'})"
   ]
  },
  {
   "cell_type": "code",
   "execution_count": 154,
   "id": "2286d5fe",
   "metadata": {},
   "outputs": [],
   "source": [
    "#widget handler\n",
    "\n",
    "values = {'sex_dropdown': widget_sex.value,\n",
    "          'region_dropdown': widget_region.value,\n",
    "          'age_slider': widget_age.value,\n",
    "          'height_slider': widget_height.value,\n",
    "          'weight_slider': widget_weight.value,\n",
    "          'children_slider': widget_children.value,\n",
    "          'smoker_button': widget_smoker.value}\n",
    "def widgets_handler(sex_dropdown_val,\n",
    "                    region_dropdown_val,\n",
    "                    age_slider_val,\n",
    "                    height_slider_val,\n",
    "                    weight_slider_val,\n",
    "                    children_slider_val,\n",
    "                    smoker_button_val):\n",
    "    values['sex_dropdown'] = sex_dropdown_val\n",
    "    values['region_dropdown'] = region_dropdown_val\n",
    "    values['age_slider'] = age_slider_val\n",
    "    values['height_slider'] = height_slider_val\n",
    "    values['weight_slider'] = weight_slider_val\n",
    "    values['children_slider'] = children_slider_val\n",
    "    values['smoker_button'] = smoker_button_val"
   ]
  },
  {
   "cell_type": "code",
   "execution_count": 155,
   "id": "14754ff6",
   "metadata": {},
   "outputs": [],
   "source": [
    "#run button\n",
    "run_button = widgets.Button(description=\"Predict\")\n",
    "from IPython.display import clear_output\n",
    "\n",
    "def button_callback(button):\n",
    "    age=values['age_slider']\n",
    "    bmi=values['weight_slider']/(values['height_slider']/100)**2\n",
    "    children=values['children_slider']\n",
    "    smoker_yes=values['smoker_button']\n",
    "    if values['region_dropdown']=='northwest':\n",
    "        region_northwest=1\n",
    "        region_southeast=0\n",
    "        region_southwest=0\n",
    "    elif values['region_dropdown']=='southeast':\n",
    "        region_northwest=0\n",
    "        region_southeast=1\n",
    "        region_southwest=0\n",
    "    elif values['region_dropdown']=='southwest':\n",
    "        region_northwest=0\n",
    "        region_southeast=0\n",
    "        region_southwest=1\n",
    "    else:\n",
    "        region_northwest=0\n",
    "        region_southeast=0\n",
    "        region_southwest=0\n",
    "    if bmi>=30:\n",
    "        obese=1\n",
    "    else:\n",
    "        obese=0\n",
    "    if bmi>=30 & smoker_yes==1:\n",
    "        obese_smoker=1\n",
    "    else:\n",
    "        obese_smoker=0\n",
    "    if values['sex_dropdown']=='male':\n",
    "        sex_male=1\n",
    "    else:\n",
    "        sex_male=0\n",
    "        \n",
    "    values_to_predict= [age, bmi, children, sex_male, smoker_yes, region_northwest, region_southeast,\n",
    "          region_southwest, obese, obese_smoker]\n",
    "    columns=['age', 'bmi', 'children', 'sex_male', 'smoker_yes',\n",
    "       'region_northwest', 'region_southeast', 'region_southwest', 'obese', 'obese_smoker']\n",
    "    to_predict=pd.DataFrame([values_to_predict],columns=columns)\n",
    "    return print(xgb_model.predict(to_predict))\n",
    "run_button.on_click(button_callback)"
   ]
  },
  {
   "cell_type": "code",
   "execution_count": 156,
   "id": "704ce847",
   "metadata": {},
   "outputs": [],
   "source": [
    "filters = GridBox(children=[widget_sex, widget_region, widget_smoker, widget_age, \n",
    "                            widget_height, widget_weight, widget_children,\n",
    "                            run_button],\n",
    "                    layout=Layout(\n",
    "                    width='100%',\n",
    "                    grid_template_columns='300px 300px 300px',\n",
    "                    grid_template_rows='auto auto auto',\n",
    "                    grid_gap='5px 10px')\n",
    "               )"
   ]
  },
  {
   "cell_type": "code",
   "execution_count": 157,
   "id": "e8f27241",
   "metadata": {
    "scrolled": true
   },
   "outputs": [
    {
     "data": {
      "application/vnd.jupyter.widget-view+json": {
       "model_id": "f1bc79b0388840c5a821ce1cd9b1949a",
       "version_major": 2,
       "version_minor": 0
      },
      "text/plain": [
       "GridBox(children=(Select(description='Sex', layout=Layout(width='max-content'), options=('female', 'male'), st…"
      ]
     },
     "metadata": {},
     "output_type": "display_data"
    },
    {
     "name": "stdout",
     "output_type": "stream",
     "text": [
      "[38011.125]\n"
     ]
    }
   ],
   "source": [
    "display(filters)"
   ]
  },
  {
   "cell_type": "code",
   "execution_count": 118,
   "id": "f5ed6181",
   "metadata": {},
   "outputs": [],
   "source": [
    "import pickle\n",
    "# Load the Model back from file\n",
    "Pkl_Ridge = 'pickled_ridge_model.pkl'  \n",
    "Pkl_EN = 'pickled_en_model.pkl'  \n",
    "Pkl_XGB = 'pickled_xgb_model.pkl'  \n",
    "Pkl_Stacked = 'pickled_stacked_model.pkl'\n",
    "Pkl_data='pickled_data'\n",
    "\n",
    "\n",
    "with open(Pkl_Ridge, 'rb') as file1:  \n",
    "    ridge_model = pickle.load(file1)\n",
    "\n",
    "with open(Pkl_EN, 'rb') as file2:  \n",
    "    en_model = pickle.load(file2)\n",
    "    \n",
    "with open(Pkl_XGB, 'rb') as file3:  \n",
    "    xgb_model = pickle.load(file3)\n",
    "\n",
    "with open(Pkl_Stacked, 'rb') as file4:  \n",
    "    stacked_model = pickle.load(file4)\n",
    "    \n",
    "with open(Pkl_data, 'rb') as file4:  \n",
    "    df = pickle.load(file4)\n"
   ]
  },
  {
   "cell_type": "code",
   "execution_count": 15,
   "id": "b0fbf41a",
   "metadata": {},
   "outputs": [
    {
     "data": {
      "text/html": [
       "<div>\n",
       "<style scoped>\n",
       "    .dataframe tbody tr th:only-of-type {\n",
       "        vertical-align: middle;\n",
       "    }\n",
       "\n",
       "    .dataframe tbody tr th {\n",
       "        vertical-align: top;\n",
       "    }\n",
       "\n",
       "    .dataframe thead th {\n",
       "        text-align: right;\n",
       "    }\n",
       "</style>\n",
       "<table border=\"1\" class=\"dataframe\">\n",
       "  <thead>\n",
       "    <tr style=\"text-align: right;\">\n",
       "      <th></th>\n",
       "      <th>age</th>\n",
       "      <th>bmi</th>\n",
       "      <th>children</th>\n",
       "      <th>sex_male</th>\n",
       "      <th>smoker_yes</th>\n",
       "      <th>region_northwest</th>\n",
       "      <th>region_southeast</th>\n",
       "      <th>region_southwest</th>\n",
       "      <th>obese</th>\n",
       "      <th>obese_smoker</th>\n",
       "    </tr>\n",
       "  </thead>\n",
       "  <tbody>\n",
       "    <tr>\n",
       "      <th>0</th>\n",
       "      <td>19</td>\n",
       "      <td>27.900</td>\n",
       "      <td>0</td>\n",
       "      <td>0</td>\n",
       "      <td>1</td>\n",
       "      <td>0</td>\n",
       "      <td>0</td>\n",
       "      <td>1</td>\n",
       "      <td>0</td>\n",
       "      <td>0</td>\n",
       "    </tr>\n",
       "    <tr>\n",
       "      <th>1</th>\n",
       "      <td>18</td>\n",
       "      <td>33.770</td>\n",
       "      <td>1</td>\n",
       "      <td>1</td>\n",
       "      <td>0</td>\n",
       "      <td>0</td>\n",
       "      <td>1</td>\n",
       "      <td>0</td>\n",
       "      <td>1</td>\n",
       "      <td>0</td>\n",
       "    </tr>\n",
       "    <tr>\n",
       "      <th>2</th>\n",
       "      <td>28</td>\n",
       "      <td>33.000</td>\n",
       "      <td>3</td>\n",
       "      <td>1</td>\n",
       "      <td>0</td>\n",
       "      <td>0</td>\n",
       "      <td>1</td>\n",
       "      <td>0</td>\n",
       "      <td>1</td>\n",
       "      <td>0</td>\n",
       "    </tr>\n",
       "    <tr>\n",
       "      <th>3</th>\n",
       "      <td>33</td>\n",
       "      <td>22.705</td>\n",
       "      <td>0</td>\n",
       "      <td>1</td>\n",
       "      <td>0</td>\n",
       "      <td>1</td>\n",
       "      <td>0</td>\n",
       "      <td>0</td>\n",
       "      <td>0</td>\n",
       "      <td>0</td>\n",
       "    </tr>\n",
       "    <tr>\n",
       "      <th>4</th>\n",
       "      <td>32</td>\n",
       "      <td>28.880</td>\n",
       "      <td>0</td>\n",
       "      <td>1</td>\n",
       "      <td>0</td>\n",
       "      <td>1</td>\n",
       "      <td>0</td>\n",
       "      <td>0</td>\n",
       "      <td>0</td>\n",
       "      <td>0</td>\n",
       "    </tr>\n",
       "    <tr>\n",
       "      <th>...</th>\n",
       "      <td>...</td>\n",
       "      <td>...</td>\n",
       "      <td>...</td>\n",
       "      <td>...</td>\n",
       "      <td>...</td>\n",
       "      <td>...</td>\n",
       "      <td>...</td>\n",
       "      <td>...</td>\n",
       "      <td>...</td>\n",
       "      <td>...</td>\n",
       "    </tr>\n",
       "    <tr>\n",
       "      <th>1333</th>\n",
       "      <td>50</td>\n",
       "      <td>30.970</td>\n",
       "      <td>3</td>\n",
       "      <td>1</td>\n",
       "      <td>0</td>\n",
       "      <td>1</td>\n",
       "      <td>0</td>\n",
       "      <td>0</td>\n",
       "      <td>1</td>\n",
       "      <td>0</td>\n",
       "    </tr>\n",
       "    <tr>\n",
       "      <th>1334</th>\n",
       "      <td>18</td>\n",
       "      <td>31.920</td>\n",
       "      <td>0</td>\n",
       "      <td>0</td>\n",
       "      <td>0</td>\n",
       "      <td>0</td>\n",
       "      <td>0</td>\n",
       "      <td>0</td>\n",
       "      <td>1</td>\n",
       "      <td>0</td>\n",
       "    </tr>\n",
       "    <tr>\n",
       "      <th>1335</th>\n",
       "      <td>18</td>\n",
       "      <td>36.850</td>\n",
       "      <td>0</td>\n",
       "      <td>0</td>\n",
       "      <td>0</td>\n",
       "      <td>0</td>\n",
       "      <td>1</td>\n",
       "      <td>0</td>\n",
       "      <td>1</td>\n",
       "      <td>0</td>\n",
       "    </tr>\n",
       "    <tr>\n",
       "      <th>1336</th>\n",
       "      <td>21</td>\n",
       "      <td>25.800</td>\n",
       "      <td>0</td>\n",
       "      <td>0</td>\n",
       "      <td>0</td>\n",
       "      <td>0</td>\n",
       "      <td>0</td>\n",
       "      <td>1</td>\n",
       "      <td>0</td>\n",
       "      <td>0</td>\n",
       "    </tr>\n",
       "    <tr>\n",
       "      <th>1337</th>\n",
       "      <td>61</td>\n",
       "      <td>29.070</td>\n",
       "      <td>0</td>\n",
       "      <td>0</td>\n",
       "      <td>1</td>\n",
       "      <td>1</td>\n",
       "      <td>0</td>\n",
       "      <td>0</td>\n",
       "      <td>0</td>\n",
       "      <td>0</td>\n",
       "    </tr>\n",
       "  </tbody>\n",
       "</table>\n",
       "<p>1338 rows × 10 columns</p>\n",
       "</div>"
      ],
      "text/plain": [
       "      age     bmi  children  sex_male  smoker_yes  region_northwest  \\\n",
       "0      19  27.900         0         0           1                 0   \n",
       "1      18  33.770         1         1           0                 0   \n",
       "2      28  33.000         3         1           0                 0   \n",
       "3      33  22.705         0         1           0                 1   \n",
       "4      32  28.880         0         1           0                 1   \n",
       "...   ...     ...       ...       ...         ...               ...   \n",
       "1333   50  30.970         3         1           0                 1   \n",
       "1334   18  31.920         0         0           0                 0   \n",
       "1335   18  36.850         0         0           0                 0   \n",
       "1336   21  25.800         0         0           0                 0   \n",
       "1337   61  29.070         0         0           1                 1   \n",
       "\n",
       "      region_southeast  region_southwest  obese  obese_smoker  \n",
       "0                    0                 1      0             0  \n",
       "1                    1                 0      1             0  \n",
       "2                    1                 0      1             0  \n",
       "3                    0                 0      0             0  \n",
       "4                    0                 0      0             0  \n",
       "...                ...               ...    ...           ...  \n",
       "1333                 0                 0      1             0  \n",
       "1334                 0                 0      1             0  \n",
       "1335                 1                 0      1             0  \n",
       "1336                 0                 1      0             0  \n",
       "1337                 0                 0      0             0  \n",
       "\n",
       "[1338 rows x 10 columns]"
      ]
     },
     "execution_count": 15,
     "metadata": {},
     "output_type": "execute_result"
    }
   ],
   "source": [
    "from sklearn.model_selection import train_test_split\n",
    "\n",
    "X = df.drop('charges', axis=1)\n",
    "y = df['charges']\n",
    "X_train, X_test, y_train, y_test = train_test_split(X, y, test_size=0.3, random_state=42)\n",
    "X"
   ]
  },
  {
   "cell_type": "code",
   "execution_count": 11,
   "id": "f984c4c6",
   "metadata": {},
   "outputs": [
    {
     "data": {
      "text/plain": [
       "0.8712125654141842"
      ]
     },
     "execution_count": 11,
     "metadata": {},
     "output_type": "execute_result"
    }
   ],
   "source": [
    "ridge_model.score(X_test,y_test)"
   ]
  },
  {
   "cell_type": "code",
   "execution_count": 12,
   "id": "d7a956d3",
   "metadata": {},
   "outputs": [
    {
     "data": {
      "text/plain": [
       "0.8711719305610985"
      ]
     },
     "execution_count": 12,
     "metadata": {},
     "output_type": "execute_result"
    }
   ],
   "source": [
    "en_model.score(X_test,y_test)"
   ]
  },
  {
   "cell_type": "code",
   "execution_count": 13,
   "id": "ca62c474",
   "metadata": {},
   "outputs": [
    {
     "data": {
      "text/plain": [
       "0.8730627049627262"
      ]
     },
     "execution_count": 13,
     "metadata": {},
     "output_type": "execute_result"
    }
   ],
   "source": [
    "xgb_model.score(X_test,y_test)"
   ]
  },
  {
   "cell_type": "code",
   "execution_count": 14,
   "id": "9e1c164c",
   "metadata": {},
   "outputs": [
    {
     "data": {
      "text/plain": [
       "0.8728794330786501"
      ]
     },
     "execution_count": 14,
     "metadata": {},
     "output_type": "execute_result"
    }
   ],
   "source": [
    "# bardziej powtarzalny, lepszy wynik z CV\n",
    "stacked_model.score(X_test,y_test)"
   ]
  },
  {
   "cell_type": "code",
   "execution_count": null,
   "id": "ad946186",
   "metadata": {},
   "outputs": [],
   "source": [
    "en_model.predict(X_train)"
   ]
  },
  {
   "cell_type": "code",
   "execution_count": 30,
   "id": "a68b4d7d",
   "metadata": {},
   "outputs": [
    {
     "data": {
      "text/plain": [
       "array([37101.0327961])"
      ]
     },
     "execution_count": 30,
     "metadata": {},
     "output_type": "execute_result"
    }
   ],
   "source": [
    "en_model.predict(pd.DataFrame([[20,25, 3, 0, 1, 1, 0, 0, 1, 1]], columns=['age', 'bmi', 'children', 'sex_male', 'smoker_yes',\n",
    "       'region_northwest', 'region_southeast', 'region_southwest', 'obese', 'obese_smoker']))"
   ]
  },
  {
   "cell_type": "code",
   "execution_count": null,
   "id": "52f827a6",
   "metadata": {},
   "outputs": [],
   "source": [
    "({'age':20,'bmi':25, 'children':3,'sex_male':0,'smoker_yes':1,\n",
    "                  'region_northwest':1,'region_southeast':0,'region_southwest':0,'obese':1,'obese_smoker':1}"
   ]
  }
 ],
 "metadata": {
  "kernelspec": {
   "display_name": "Python 3 (ipykernel)",
   "language": "python",
   "name": "python3"
  },
  "language_info": {
   "codemirror_mode": {
    "name": "ipython",
    "version": 3
   },
   "file_extension": ".py",
   "mimetype": "text/x-python",
   "name": "python",
   "nbconvert_exporter": "python",
   "pygments_lexer": "ipython3",
   "version": "3.9.7"
  }
 },
 "nbformat": 4,
 "nbformat_minor": 5
}
