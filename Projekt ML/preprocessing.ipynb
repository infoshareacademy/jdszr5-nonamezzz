{
 "cells": [
  {
   "cell_type": "code",
   "execution_count": null,
   "id": "96759f3f",
   "metadata": {},
   "outputs": [],
   "source": [
    "import pandas as pd\n",
    "import seaborn as sns\n",
    "import matplotlib.pyplot as plt\n",
    "import numpy as np\n",
    "from pandas_profiling import ProfileReport\n",
    "%matplotlib inline\n",
    "%load_ext nb_black\n"
   ]
  },
  {
   "cell_type": "code",
   "execution_count": null,
   "id": "3f633dce",
   "metadata": {},
   "outputs": [],
   "source": [
    "initial_df = pd.read_csv(\"insurance.csv\")\n",
    "initial_df"
   ]
  },
  {
   "cell_type": "code",
   "execution_count": null,
   "id": "ce8a9e6b",
   "metadata": {
    "scrolled": true
   },
   "outputs": [],
   "source": [
    "profile = ProfileReport(initial_df)\n",
    "profile"
   ]
  },
  {
   "cell_type": "code",
   "execution_count": null,
   "id": "ddf4c9fb",
   "metadata": {
    "scrolled": true
   },
   "outputs": [],
   "source": [
    "sns.pairplot(initial_df)\n",
    "plt.show()\n"
   ]
  },
  {
   "cell_type": "code",
   "execution_count": null,
   "id": "7bfff0a1",
   "metadata": {},
   "outputs": [],
   "source": [
    "# one hot encoding\n",
    "df = pd.get_dummies(initial_df, drop_first=True)\n",
    "# dodanie kategorii otyły (w USA wg jakiegoś medycznego instytu jest po prostu powyżej 30\n",
    "df[\"obese\"] = df[\"bmi\"].apply(lambda x: 1 if x >= 30 else 0)\n",
    "# dodanie kategorii otyły i palący\n",
    "df[\"obese_smoker\"] = df[[\"obese\", \"smoker_yes\"]].apply(\n",
    "    lambda x: 1 if (x[\"obese\"] == 1) & (x[\"smoker_yes\"] == 1) else 0, axis=1\n",
    ")"
   ]
  },
  {
   "cell_type": "code",
   "execution_count": null,
   "id": "5c4e5476",
   "metadata": {
    "scrolled": true
   },
   "outputs": [],
   "source": [
    "# sprawdzenie\n",
    "df"
   ]
  },
  {
   "cell_type": "code",
   "execution_count": null,
   "id": "e8306493",
   "metadata": {},
   "outputs": [],
   "source": [
    "# nowa mapa korelacji\n",
    "corr = np.corrcoef(np.random.randn(11, 200))\n",
    "mask = np.zeros_like(corr)\n",
    "mask[np.triu_indices_from(mask)] = True\n",
    "plt.figure(figsize=(12, 12))\n",
    "sns.heatmap(df.corr(), cmap=\"YlGnBu\", mask=mask, square=True)"
   ]
  },
  {
   "cell_type": "code",
   "execution_count": null,
   "id": "b12206ba",
   "metadata": {},
   "outputs": [],
   "source": []
  }
 ],
 "metadata": {
  "kernelspec": {
   "display_name": "Python 3 (ipykernel)",
   "language": "python",
   "name": "python3"
  },
  "language_info": {
   "codemirror_mode": {
    "name": "ipython",
    "version": 3
   },
   "file_extension": ".py",
   "mimetype": "text/x-python",
   "name": "python",
   "nbconvert_exporter": "python",
   "pygments_lexer": "ipython3",
   "version": "3.9.7"
  }
 },
 "nbformat": 4,
 "nbformat_minor": 5
}
