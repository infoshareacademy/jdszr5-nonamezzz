{
 "cells": [
  {
   "cell_type": "code",
   "execution_count": 1,
   "id": "6bdf28d6",
   "metadata": {
    "extensions": {
     "jupyter_dashboards": {
      "version": 1,
      "views": {
       "grid_default": {},
       "report_default": {
        "hidden": true
       }
      }
     }
    },
    "hide_input": true,
    "id": "8452b55d"
   },
   "outputs": [],
   "source": [
    "import pandas as pd\n",
    "import numpy as np\n",
    "import os\n",
    "import cv2\n",
    "import matplotlib.pyplot as plt\n",
    "import random\n",
    "import seaborn as sns\n",
    "import time\n",
    "from ipywidgets import widgets\n",
    "from IPython.display import display, clear_output\n",
    "from IPython.display import display, clear_output\n",
    "import ipywidgets as widgets\n",
    "import random\n",
    "from sklearn.metrics import classification_report, confusion_matrix, accuracy_score\n",
    "from sklearn.model_selection import train_test_split\n",
    "import tensorflow as tf\n",
    "from tensorflow.keras import layers\n",
    "import datetime"
   ]
  },
  {
   "cell_type": "code",
   "execution_count": 2,
   "id": "a08a43d9",
   "metadata": {
    "extensions": {
     "jupyter_dashboards": {
      "version": 1,
      "views": {
       "grid_default": {},
       "report_default": {
        "hidden": true
       }
      }
     }
    },
    "hide_input": true
   },
   "outputs": [
    {
     "name": "stdout",
     "output_type": "stream",
     "text": [
      "WARNING:tensorflow:SavedModel saved prior to TF 2.5 detected when loading Keras model. Please ensure that you are saving the model with model.save() or tf.keras.models.save_model(), *NOT* tf.saved_model.save(). To confirm, there should be a file named \"keras_metadata.pb\" in the SavedModel directory.\n"
     ]
    }
   ],
   "source": [
    "big_model = tf.keras.models.load_model('my_model')\n",
    "small_model = tf.keras.models.load_model('model_testowy')\n",
    "# smaller_model= tf.keras.models.load_model('model_testowy')\n",
    "# sprawdzenie architektury"
   ]
  },
  {
   "cell_type": "code",
   "execution_count": 3,
   "id": "e6e129a8",
   "metadata": {
    "extensions": {
     "jupyter_dashboards": {
      "version": 1,
      "views": {
       "grid_default": {},
       "report_default": {
        "hidden": true
       }
      }
     }
    },
    "hide_input": true
   },
   "outputs": [],
   "source": [
    "import cv2\n",
    "import cvzone\n",
    "import os\n",
    "import random\n",
    "from cvzone.SelfiSegmentationModule import SelfiSegmentation\n",
    "# Helper function used for visualization in the following examples\n",
    "def identify_axes(ax_dict, fontsize=48):\n",
    "    \"\"\"\n",
    "    Helper to identify the Axes in the examples below.\n",
    "\n",
    "    Draws the label in a large font in the center of the Axes.\n",
    "\n",
    "    Parameters\n",
    "    ----------\n",
    "    ax_dict : dict[str, Axes]\n",
    "        Mapping between the title / label and the Axes.\n",
    "    fontsize : int, optional\n",
    "        How big the label should be.\n",
    "    \"\"\"\n",
    "    kw = dict(ha=\"center\", va=\"center\", fontsize=fontsize, color=\"darkgrey\")\n",
    "#     for k, ax in ax_dict.items():\n",
    "#         ax.text(0.5, 0.5, k, transform=ax.transAxes, **kw)\n",
    "\n",
    "def make_live_prediction(model,external_camera=True,to_save=True,taca=False):\n",
    "    df=pd.DataFrame(columns=['path','prediction'])\n",
    "    print('\\033[1mTo make photo and predictions click \"space\",to quit click \"esc\"\\033[0m')\n",
    "\n",
    "    if external_camera:\n",
    "        cap = cv2.VideoCapture(\"/dev/video2\")\n",
    "    else:\n",
    "        cap = cv2.VideoCapture(0)\n",
    "    cap.set(3, 640)\n",
    "    cap.set(4, 480)\n",
    "    # cap.set(cv2.CAP_PROP_FPS, 60)\n",
    "    img_counter = 0\n",
    "    if taca:\n",
    "        segmentor = SelfiSegmentation()\n",
    "        imgBG = cv2.imread(\"taca.png\")\n",
    "        imgBG=cv2.resize(imgBG,(640,480))\n",
    "\n",
    "    while True:\n",
    "        success, img = cap.read()\n",
    "        if not success:\n",
    "            print(\"failed to grab frame\")\n",
    "            break\n",
    "        if taca is True:\n",
    "            imgOut = segmentor.removeBG(img, imgBG, threshold=0.7)\n",
    "        else:\n",
    "            imgOut=img\n",
    "\n",
    "\n",
    "    #     imgStack = cvzone.stackImages([img, imgOut], 2,1)\n",
    "        cv2.imshow(\"image\", imgOut) \n",
    "        k = cv2.waitKey(1)\n",
    "        if k%256 == 27:\n",
    "            # ESC pressed\n",
    "            df=df.sort_index()\n",
    "            display(df)\n",
    "            break\n",
    "        elif k%256 == 32:\n",
    "            # SPACE pressed\n",
    "            img_name = f\"prediction_{img_counter}.png\"\n",
    "            if to_save:\n",
    "                ct = datetime.datetime.now()\n",
    "                os.mkdir(f\"/home/home/Desktop/jdszr5-nonamezzz/Projekt_DL/predictions/{ct}\")\n",
    "                os.chdir(f\"/home/home/Desktop/jdszr5-nonamezzz/Projekt_DL/predictions/{ct}\")\n",
    "                cv2.imwrite(img_name, imgOut)\n",
    "                print(\"{} written!\".format(img_name))\n",
    "                os.chdir(\"/home/home/Desktop/jdszr5-nonamezzz/Projekt_DL/\")\n",
    "            img=cv2.cvtColor(imgOut, cv2.COLOR_BGR2RGB)\n",
    "            cropped_img=img[0:480, 160:640]\n",
    "            to_show=cv2.resize(cropped_img,(258,258))\n",
    "            to_pred=(to_show.reshape(-1, 258, 258, 3))/255\n",
    "            pred=model.predict(to_pred)\n",
    "            result = np.where(pred[0] == np.amax(pred[0]))\n",
    "            if result[0][0]==0:\n",
    "                res='Apple A'\n",
    "            elif result[0][0]==1:\n",
    "                res='Apple B'\n",
    "            elif result[0][0]==2:\n",
    "                res='Apple C'\n",
    "            elif result[0][0]==3:\n",
    "                res='Apple D'\n",
    "            elif result[0][0]==4:\n",
    "                res='Apple E'\n",
    "            else:\n",
    "                res='Apple F'\n",
    "            path=f\"/home/home/Desktop/jdszr5-nonamezzz/Projekt_DL/Apple/{res}/\"\n",
    "            apples=random.sample(os.listdir(path),4)\n",
    "            os.chdir(path)\n",
    "#             comp=random.sample((os.listdir(\"/home/home/Desktop/jdszr5-nonamezzz/Projekt_DL/Apple/Apple A/Apple 1.png\"), 4)\n",
    "            comp1 = cv2.cvtColor(cv2.imread(apples[0]), cv2.COLOR_BGR2RGB)\n",
    "            comp2 = cv2.cvtColor(cv2.imread(apples[1]), cv2.COLOR_BGR2RGB)\n",
    "            comp3 = cv2.cvtColor(cv2.imread(apples[2]), cv2.COLOR_BGR2RGB)\n",
    "            comp4 = cv2.cvtColor(cv2.imread(apples[3]), cv2.COLOR_BGR2RGB)\n",
    "            df.loc[-1]=[img_name,res]\n",
    "            df.index=df.index+1\n",
    "            ax = plt.figure(figsize=(14, 7),constrained_layout=True).subplot_mosaic(\"\"\"AABC\n",
    "                                                                                       AADE\"\"\")\n",
    "            identify_axes(ax)\n",
    "\n",
    "            ax['A'].imshow(to_show)\n",
    "#             ax['comp'].axis('off')  # clear x-axis and y-axis\n",
    "            im = ax['B'].imshow(cv2.resize(comp1,(258,258)), cmap=plt.cm.hot, origin='upper')\n",
    "            ax['B'].set_title('to compare_1')\n",
    "            im = ax['C'].imshow(cv2.resize(comp2,(258,258)), cmap=plt.cm.hot, origin='upper')\n",
    "            ax['C'].set_title('to compare_2')\n",
    "            im = ax['D'].imshow(cv2.resize(comp3,(258,258)), cmap=plt.cm.hot, origin='upper')\n",
    "            ax['D'].set_title('to compare_3') \n",
    "            im = ax['E'].imshow(cv2.resize(comp4,(258,258)), cmap=plt.cm.hot, origin='upper')\n",
    "            ax['E'].set_title('to compare_4')\n",
    "            ax['A'].set_title('captured photo for prediction')\n",
    "            plt.show()\n",
    "            print(f'Predicted - {res}')\n",
    "            img_counter += 1\n",
    "            os.chdir(\"/home/home/Desktop/jdszr5-nonamezzz/Projekt_DL/\")\n",
    "\n",
    "    cap.release()\n",
    "\n",
    "    cv2.destroyAllWindows()\n"
   ]
  },
  {
   "cell_type": "code",
   "execution_count": 4,
   "id": "e5a07fa0",
   "metadata": {
    "extensions": {
     "jupyter_dashboards": {
      "version": 1,
      "views": {
       "grid_default": {},
       "report_default": {
        "hidden": true
       }
      }
     }
    },
    "hide_input": true
   },
   "outputs": [],
   "source": [
    "#widgets\n",
    "style = {'description_width': 'initial'}\n",
    "\n",
    "widget_model = widgets.RadioButtons(\n",
    "    options=[ ('big model',big_model),('small model',small_model)],\n",
    "    value=big_model,\n",
    "    style=style,\n",
    "    disabled = False,\n",
    "    description='Choose model:')\n",
    "\n",
    "widget_camera = widgets.RadioButtons(\n",
    "    options=[('External Camera',True), ('Laptop camera',False)],\n",
    "    value=True,\n",
    "    style=style,\n",
    "    disabled = False,\n",
    "    description='Choose Camera:')\n",
    "\n",
    "widget_save = widgets.RadioButtons(\n",
    "    options=[('Yes',True), ('No',False)],\n",
    "    value=True,\n",
    "    style=style,\n",
    "    disabled = False,\n",
    "    description='Save photo?')\n",
    "\n",
    "\n",
    "widget_back= widgets.RadioButtons(\n",
    "    options=[('Yes',True), ('No',False)],\n",
    "    value=False,\n",
    "    style=style,\n",
    "    disabled = False,\n",
    "    description='Replace background?')\n",
    "\n",
    "\n"
   ]
  },
  {
   "cell_type": "code",
   "execution_count": 5,
   "id": "58b395cf",
   "metadata": {
    "extensions": {
     "jupyter_dashboards": {
      "version": 1,
      "views": {
       "grid_default": {},
       "report_default": {
        "hidden": true
       }
      }
     }
    },
    "hide_input": true
   },
   "outputs": [],
   "source": [
    "#widget handler\n",
    "\n",
    "values = {'model_rb': widget_model.value,\n",
    "          'camera_rb': widget_camera.value,\n",
    "          'save_rb': widget_save.value,\n",
    "          'back_rb': widget_back.value}\n",
    "def widgets_handler(model_rb_val,camera_rb_val, save_rb_val, back_rb_val):\n",
    "    values['model_rb'] = model_rb_val\n",
    "    values['camera_rb'] = camera_rb_val\n",
    "    values['save_rb'] = save_rb_val\n",
    "    values['back_rb']=back_rb_val\n",
    "\n",
    "    \n",
    "result=widgets.interactive(widgets_handler,\n",
    "                 model_rb_val= widget_model,\n",
    "                 camera_rb_val = widget_camera,\n",
    "                 save_rb_val = widget_save,\n",
    "                 back_rb_val=widget_back)\n"
   ]
  },
  {
   "cell_type": "code",
   "execution_count": 6,
   "id": "912107b9",
   "metadata": {
    "extensions": {
     "jupyter_dashboards": {
      "version": 1,
      "views": {
       "grid_default": {},
       "report_default": {
        "hidden": false
       }
      }
     }
    },
    "hide_input": true,
    "scrolled": false
   },
   "outputs": [
    {
     "data": {
      "application/vnd.jupyter.widget-view+json": {
       "model_id": "ca4228b09ae04978b18f4a7e40bdd665",
       "version_major": 2,
       "version_minor": 0
      },
      "text/plain": [
       "VBox(children=(HBox(children=(RadioButtons(description='Choose model:', options=(('big model', <keras.engine.s…"
      ]
     },
     "metadata": {},
     "output_type": "display_data"
    }
   ],
   "source": [
    "\n",
    "#run button\n",
    "b = widgets.Button(description=\"Live prediction\",\n",
    "    disabled=False,\n",
    "    button_style='info',\n",
    "    tooltip='Click me',\n",
    "    icon='check'\n",
    ")\n",
    "\n",
    "layout = widgets.Layout(width='auto', height='auto', grid_gap='10px')\n",
    "\n",
    "out = widgets.Output()\n",
    "\n",
    "c=widgets.Button(description='Clear output')\n",
    "\n",
    "# display(result,b,c)\n",
    "# display(out)\n",
    "def on_button_clicked_c(c):\n",
    "    with out:\n",
    "        clear_output()\n",
    "\n",
    "def on_button_clicked(b):\n",
    "    with out:\n",
    "        clear_output()\n",
    "        external_camera=values['camera_rb']\n",
    "        model=values['model_rb']\n",
    "        save=values['save_rb']\n",
    "        taca=values['back_rb']\n",
    "        make_live_prediction(model,external_camera, save,taca)\n",
    "\n",
    "b.on_click(on_button_clicked)\n",
    "c.on_click(on_button_clicked_c)\n",
    "\n",
    "# def button_callback(button):\n",
    "#     make_live_prediction(external_camera=False)\n",
    "# run_button.on_click(button_callback)\n",
    "controls1 = widgets.HBox(result.children[:2], layout=layout)\n",
    "controls2 = widgets.HBox(result.children[2:], layout=layout)\n",
    "buttons=widgets.HBox((b,c),layout=layout)\n",
    "\n",
    "display(widgets.VBox([controls1,\n",
    "                      controls2,\n",
    "                      buttons,\n",
    "                      out],layout=widgets.Layout(margin = '40px 20px 40px 20px',grid_gap='30px')))\n"
   ]
  },
  {
   "cell_type": "code",
   "execution_count": null,
   "id": "368a883d",
   "metadata": {
    "extensions": {
     "jupyter_dashboards": {
      "version": 1,
      "views": {
       "grid_default": {},
       "report_default": {
        "hidden": true
       }
      }
     }
    }
   },
   "outputs": [],
   "source": []
  }
 ],
 "metadata": {
  "accelerator": "GPU",
  "colab": {
   "collapsed_sections": [],
   "name": "data.ipynb",
   "provenance": []
  },
  "extensions": {
   "jupyter_dashboards": {
    "activeView": "report_default",
    "version": 1,
    "views": {
     "grid_default": {
      "cellMargin": 10,
      "defaultCellHeight": 20,
      "maxColumns": 12,
      "name": "grid",
      "type": "grid"
     },
     "report_default": {
      "name": "report",
      "type": "report"
     }
    }
   }
  },
  "kernelspec": {
   "display_name": "Python 3",
   "language": "python",
   "name": "python3"
  },
  "language_info": {
   "codemirror_mode": {
    "name": "ipython",
    "version": 3
   },
   "file_extension": ".py",
   "mimetype": "text/x-python",
   "name": "python",
   "nbconvert_exporter": "python",
   "pygments_lexer": "ipython3",
   "version": "3.9.7"
  }
 },
 "nbformat": 4,
 "nbformat_minor": 5
}
