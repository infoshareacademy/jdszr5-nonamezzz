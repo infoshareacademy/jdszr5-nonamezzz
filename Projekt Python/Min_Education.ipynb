{
 "cells": [
  {
   "cell_type": "code",
   "execution_count": null,
   "id": "bdac190a",
   "metadata": {},
   "outputs": [],
   "source": [
    "#zaimportowanie potrzebnych bibliotek\n",
    "import pandas as pd\n",
    "pd.set_option('display.max_columns', 50)\n",
    "pd.set_option('display.max_rows', 200)\n",
    "import matplotlib.pyplot as plt\n",
    "import seaborn as sns\n",
    "\n"
   ]
  },
  {
   "cell_type": "code",
   "execution_count": null,
   "id": "b09d4b9f",
   "metadata": {},
   "outputs": [],
   "source": [
    "#wczytanie pliku\n",
    "df=pd.read_csv(\"IBM_HR.csv\")"
   ]
  },
  {
   "cell_type": "code",
   "execution_count": null,
   "id": "bfb9941a",
   "metadata": {},
   "outputs": [],
   "source": [
    "df.head(10)"
   ]
  },
  {
   "cell_type": "code",
   "execution_count": null,
   "id": "fa685618",
   "metadata": {
    "scrolled": true
   },
   "outputs": [],
   "source": [
    "#department, job level, job role\n",
    "def q10(x):\n",
    "    return x.quantile(0.1)\n",
    "def q90(x):\n",
    "    return x.quantile(0.9)\n",
    "\n",
    "\n",
    "df.sort_values('Department', inplace = True)\n",
    "departments = ['Human Resources', 'Research & Development','Sales']\n",
    "\n",
    "\n",
    "for department in departments:\n",
    "    filter1 = df[\"Department\"]== department\n",
    "    df.where(filter1).groupby([\n",
    "            \"JobRole\",\n",
    "            \"JobLevel\",\n",
    "            \"EducationField\"]).agg({\n",
    "    \"EducationField\": \"describe\",\n",
    "    \"Education\": [\"median\", \"describe\", q10, q90], 'JobSatisfaction' : \"describe\"}).to_excel(f'{department}_with_job_role_level.xls')\n",
    "\n",
    "\n"
   ]
  },
  {
   "cell_type": "code",
   "execution_count": null,
   "id": "c5757312",
   "metadata": {
    "scrolled": true
   },
   "outputs": [],
   "source": [
    "#department, job level, job role without Education Field\n",
    "def q10(x):\n",
    "    return x.quantile(0.1)\n",
    "def q90(x):\n",
    "    return x.quantile(0.9)\n",
    "\n",
    "\n",
    "df.sort_values('Department', inplace = True)\n",
    "departments = ['Human Resources', 'Research & Development','Sales']\n",
    "\n",
    "\n",
    "for department in departments:\n",
    "    filter1 = df[\"Department\"]== department\n",
    "    df.where(filter1).groupby([\n",
    "            \"JobRole\",\n",
    "            \"JobLevel\"]).agg({\n",
    "    \"EducationField\": \"describe\",\n",
    "    \"Education\": [\"median\", \"describe\", q10, q90], 'JobSatisfaction' : \"describe\"}).to_excel(f'{department}_with_job_role_level_no_edu_field.xls')\n",
    "\n",
    "\n"
   ]
  },
  {
   "cell_type": "code",
   "execution_count": null,
   "id": "27a5db96",
   "metadata": {},
   "outputs": [],
   "source": [
    "#department, job role\n",
    "def q10(x):\n",
    "    return x.quantile(0.1)\n",
    "def q90(x):\n",
    "    return x.quantile(0.9)\n",
    "\n",
    "\n",
    "df.sort_values('Department', inplace = True)\n",
    "departments = ['Human Resources', 'Research & Development','Sales']\n",
    "\n",
    "\n",
    "for department in departments:\n",
    "    filter1 = df[\"Department\"]== department\n",
    "    df.where(filter1).groupby([\n",
    "            \"JobRole\",\n",
    "            \"EducationField\"]).agg({\n",
    "    \"EducationField\": \"describe\",\n",
    "    \"Education\": [\"median\", \"describe\", q10, q90], 'JobSatisfaction' : \"describe\"}).to_excel(f'{department}_with_job_role.xls')\n",
    "\n",
    "\n"
   ]
  },
  {
   "cell_type": "code",
   "execution_count": null,
   "id": "67c3bc50",
   "metadata": {},
   "outputs": [],
   "source": [
    "#department, job role without Education Field\n",
    "def q10(x):\n",
    "    return x.quantile(0.1)\n",
    "def q90(x):\n",
    "    return x.quantile(0.9)\n",
    "\n",
    "\n",
    "df.sort_values('Department', inplace = True)\n",
    "departments = ['Human Resources', 'Research & Development','Sales']\n",
    "\n",
    "\n",
    "for department in departments:\n",
    "    filter1 = df[\"Department\"]== department\n",
    "    df.where(filter1).groupby([\n",
    "            \"JobRole\"]).agg({\n",
    "    \"Education\": [\"median\", \"describe\", q10, q90], 'JobSatisfaction' : \"describe\"}).to_excel(f'{department}_with_job_role_no_edu_field.xls')\n",
    "\n",
    "\n"
   ]
  },
  {
   "cell_type": "code",
   "execution_count": null,
   "id": "d4933ac1",
   "metadata": {},
   "outputs": [],
   "source": [
    "#department, job level\n",
    "def q10(x):\n",
    "    return x.quantile(0.1)\n",
    "def q90(x):\n",
    "    return x.quantile(0.9)\n",
    "\n",
    "\n",
    "df.sort_values('Department', inplace = True)\n",
    "departments = ['Human Resources', 'Research & Development','Sales']\n",
    "\n",
    "for department in departments:\n",
    "    filter1 = df[\"Department\"]== department\n",
    "    df.where(filter1).groupby([\n",
    "            \"JobLevel\",\n",
    "            \"EducationField\"]).agg({\n",
    "    \"EducationField\": \"describe\",\n",
    "    \"Education\": [\"median\", \"describe\", q10, q90], 'JobSatisfaction' : \"describe\"}).to_excel(f'{department}_with_job_level.xls')\n",
    "\n",
    "\n"
   ]
  },
  {
   "cell_type": "code",
   "execution_count": null,
   "id": "65c041b6",
   "metadata": {},
   "outputs": [],
   "source": [
    "#department, job level without Education Field\n",
    "def q10(x):\n",
    "    return x.quantile(0.1)\n",
    "def q90(x):\n",
    "    return x.quantile(0.9)\n",
    "\n",
    "\n",
    "df.sort_values('Department', inplace = True)\n",
    "departments = ['Human Resources', 'Research & Development','Sales']\n",
    "\n",
    "for department in departments:\n",
    "    filter1 = df[\"Department\"]== department\n",
    "    df.where(filter1).groupby([\n",
    "            \"JobLevel\"]).agg({\n",
    "    \"EducationField\": \"describe\",\n",
    "    \"Education\": [\"median\", \"describe\", q10, q90], 'JobSatisfaction' : \"describe\"}).to_excel(f'{department}_with_job_level_no_edu_field.xls')\n",
    "\n",
    "\n"
   ]
  },
  {
   "cell_type": "code",
   "execution_count": null,
   "id": "c1be47a8",
   "metadata": {},
   "outputs": [],
   "source": [
    "#department without Education Field\n",
    "def q10(x):\n",
    "    return x.quantile(0.1)\n",
    "def q90(x):\n",
    "    return x.quantile(0.9)\n",
    "\n",
    "\n",
    "df.sort_values('Department', inplace = True)\n",
    "departments = ['Human Resources', 'Research & Development','Sales']\n",
    "\n",
    "for department in departments:\n",
    "    filter1 = df[\"Department\"]== department\n",
    "    df.where(filter1).groupby(\"Department\").agg({\n",
    "    \"Education\": [\"median\", \"describe\", q10, q90], 'JobSatisfaction' : \"describe\"}).to_excel(f'{department}_no_edu_field.xls')\n",
    "\n",
    "\n"
   ]
  },
  {
   "cell_type": "code",
   "execution_count": null,
   "id": "d8abe7d2",
   "metadata": {},
   "outputs": [],
   "source": [
    "#company without job_level\n",
    "def q10(x):\n",
    "    return x.quantile(0.1)\n",
    "def q90(x):\n",
    "    return x.quantile(0.9)\n",
    "\n",
    "df.groupby(\n",
    "            \"EducationField\").agg({\n",
    "    \"EducationField\": \"describe\",\n",
    "    \"Education\": [\"median\", \"describe\", q10, q90], 'JobSatisfaction' : \"describe\"}).to_excel('company.xls')"
   ]
  },
  {
   "cell_type": "code",
   "execution_count": null,
   "id": "8429137c",
   "metadata": {},
   "outputs": [],
   "source": [
    "#company without job_level without Education Field\n",
    "def q(n):\n",
    "    def q_(x):\n",
    "        return x.quantile(n/100)\n",
    "    q_.__name__ = 'q_{:2.0f}'.format(n)\n",
    "    return q_\n",
    "\n",
    "df['Education'].agg(['mean', 'std', 'min', 'max', q(10),q(25),q(50),q(75),q(90)]).to_excel('company_no_edu_field.xls')\n",
    "df['Education'].describe()\n",
    "# df.agg({\"Education\": [\"median\", \"describe\", q10, q90]})\n",
    "#company with job_level no edu field\n",
    "# df.agg({\n",
    "#     \"Education\": [\"median\", \"describe\", q10, q90]})"
   ]
  },
  {
   "cell_type": "code",
   "execution_count": null,
   "id": "c968be4c",
   "metadata": {},
   "outputs": [],
   "source": [
    "    \"EducationField\": \"describe\",#company with job_level\n",
    "def q10(x):\n",
    "    return x.quantile(0.1)\n",
    "def q90(x):\n",
    "    return x.quantile(0.9)\n",
    "df.groupby([\n",
    "            \"JobLevel\",\n",
    "            \"EducationField\"]).agg({\n",
    "    \"EducationField\": \"describe\",\n",
    "    \"Education\": [\"median\", \"describe\", q10, q90], 'JobSatisfaction' : \"describe\"})"
   ]
  },
  {
   "cell_type": "code",
   "execution_count": null,
   "id": "cbe660b9",
   "metadata": {},
   "outputs": [],
   "source": [
    "#company with job_level no edu field\n",
    "def q10(x):\n",
    "    return x.quantile(0.1)\n",
    "def q90(x):\n",
    "    return x.quantile(0.9)\n",
    "df.groupby([\n",
    "            \"JobLevel\"]).agg({\n",
    "    \"Education\": [\"median\", \"describe\", q10, q90], 'JobSatisfaction' : \"describe\"})"
   ]
  },
  {
   "cell_type": "code",
   "execution_count": null,
   "id": "3f24d683",
   "metadata": {},
   "outputs": [],
   "source": [
    "df_corr=df.drop(['StandardHours', 'EmployeeCount'], axis=1)\n",
    "f,ax = plt.subplots(figsize=(20, 20))\n",
    "sns.heatmap(df_corr.groupby(\"Department\").corr(), annot=True, linewidths=.5,ax=ax, fmt= '.2f', cmap=\"Greens\")\n"
   ]
  }
 ],
 "metadata": {
  "kernelspec": {
   "display_name": "Python 3 (ipykernel)",
   "language": "python",
   "name": "python3"
  },
  "language_info": {
   "codemirror_mode": {
    "name": "ipython",
    "version": 3
   },
   "file_extension": ".py",
   "mimetype": "text/x-python",
   "name": "python",
   "nbconvert_exporter": "python",
   "pygments_lexer": "ipython3",
   "version": "3.8.12"
  }
 },
 "nbformat": 4,
 "nbformat_minor": 5
}
