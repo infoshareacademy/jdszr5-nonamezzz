{
 "cells": [
  {
   "cell_type": "code",
   "execution_count": null,
   "id": "677c644a",
   "metadata": {
    "extensions": {
     "jupyter_dashboards": {
      "version": 1,
      "views": {
       "grid_default": {},
       "report_default": {
        "hidden": true
       }
      }
     }
    }
   },
   "outputs": [],
   "source": [
    "# import bibliotek\n",
    "\n",
    "import pandas as pd\n",
    "import numpy as np\n",
    "import matplotlib.pyplot as plt\n",
    "import matplotlib as mpl\n",
    "import seaborn as sns\n",
    "import scipy.stats as st"
   ]
  },
  {
   "cell_type": "code",
   "execution_count": null,
   "id": "34bea2cc",
   "metadata": {
    "extensions": {
     "jupyter_dashboards": {
      "version": 1,
      "views": {
       "grid_default": {},
       "report_default": {
        "hidden": true
       }
      }
     }
    }
   },
   "outputs": [],
   "source": [
    "# wczytanie danych\n",
    "df = pd.read_csv(\"IBM_HR.csv\")\n",
    "\n",
    "# format wyświetlania danych\n",
    "pd.options.display.float_format = '{:,.0f}'.format\n",
    "\n",
    "# nowa kolumna satysfakcja ogólna\n",
    "df[\"Satisfaction\"] = (df[\"RelationshipSatisfaction\"] + df[\"EnvironmentSatisfaction\"] + df[\"JobSatisfaction\"])/3\n",
    "\n",
    "df.head()"
   ]
  },
  {
   "cell_type": "code",
   "execution_count": null,
   "id": "0e8fed73",
   "metadata": {
    "extensions": {
     "jupyter_dashboards": {
      "version": 1,
      "views": {
       "grid_default": {},
       "report_default": {
        "hidden": true
       }
      }
     }
    }
   },
   "outputs": [],
   "source": [
    "list(df.columns)"
   ]
  },
  {
   "cell_type": "code",
   "execution_count": null,
   "id": "a895cef5",
   "metadata": {
    "extensions": {
     "jupyter_dashboards": {
      "version": 1,
      "views": {
       "grid_default": {},
       "report_default": {
        "hidden": true
       }
      }
     }
    }
   },
   "outputs": [],
   "source": [
    "df.describe()"
   ]
  },
  {
   "cell_type": "code",
   "execution_count": null,
   "id": "872c5abc",
   "metadata": {
    "extensions": {
     "jupyter_dashboards": {
      "version": 1,
      "views": {
       "grid_default": {},
       "report_default": {
        "hidden": true
       }
      }
     }
    }
   },
   "outputs": [],
   "source": [
    "df.info()"
   ]
  },
  {
   "cell_type": "code",
   "execution_count": null,
   "id": "8c4f29f8",
   "metadata": {
    "extensions": {
     "jupyter_dashboards": {
      "version": 1,
      "views": {
       "grid_default": {},
       "report_default": {
        "hidden": true
       }
      }
     }
    }
   },
   "outputs": [],
   "source": []
  },
  {
   "cell_type": "markdown",
   "id": "e00aeb50",
   "metadata": {
    "extensions": {
     "jupyter_dashboards": {
      "version": 1,
      "views": {
       "grid_default": {},
       "report_default": {
        "hidden": false
       }
      }
     }
    }
   },
   "source": [
    "# <center> Kim jesteśmy i dokąd zmierzamy (zawodowo)? </center>\n",
    "\n",
    "<center> https://www.kaggle.com/pavansubhasht/ibm-hr-analytics-attrition-dataset </center>\n",
    "<br>\n",
    "\n",
    "### <center> Korelacje danych </center>"
   ]
  },
  {
   "cell_type": "code",
   "execution_count": null,
   "id": "879555d0",
   "metadata": {
    "extensions": {
     "jupyter_dashboards": {
      "version": 1,
      "views": {
       "grid_default": {},
       "report_default": {
        "hidden": false
       }
      }
     }
    }
   },
   "outputs": [],
   "source": [
    "df_corr=df.drop(['StandardHours', 'EmployeeCount'], axis=1)\n",
    "f,ax = plt.subplots(figsize=(20, 20))\n",
    "sns.heatmap(df_corr.corr(), annot=True, \n",
    "            linewidths=.5, fmt='.2f', ax=ax, \n",
    "            cmap=\"Greens\", annot_kws={'fontsize': 12})\n",
    "plt.show(f,ax)"
   ]
  },
  {
   "cell_type": "markdown",
   "id": "ddca579a",
   "metadata": {
    "extensions": {
     "jupyter_dashboards": {
      "version": 1,
      "views": {
       "grid_default": {},
       "report_default": {
        "hidden": false
       }
      }
     }
    }
   },
   "source": [
    "### <center> Satysfakcja w zależności od departamentu </center>"
   ]
  },
  {
   "cell_type": "code",
   "execution_count": null,
   "id": "d8edcad6",
   "metadata": {
    "extensions": {
     "jupyter_dashboards": {
      "version": 1,
      "views": {
       "grid_default": {},
       "report_default": {
        "hidden": false
       }
      }
     }
    }
   },
   "outputs": [],
   "source": [
    "sns.set_theme(style=\"ticks\", palette=\"pastel\", font_scale=1.2)\n",
    "\n",
    "fig = plt.figure(figsize=(12,6))\n",
    "\n",
    "g_0=sns.boxplot(data=df,\n",
    "            x=df.Department, y=df.Satisfaction, \n",
    "            whis=1,\n",
    "            linewidth=2)\n",
    "sns.despine(left=True)\n",
    "g_0.tick_params(axis='x')\n",
    "\n",
    "plt.show(g_0)"
   ]
  },
  {
   "cell_type": "markdown",
   "id": "7d2694dd",
   "metadata": {
    "extensions": {
     "jupyter_dashboards": {
      "version": 1,
      "views": {
       "grid_default": {},
       "report_default": {
        "hidden": false
       }
      }
     }
    }
   },
   "source": [
    "### <center> Wynagrodzenie w zależności od departamentu </center>"
   ]
  },
  {
   "cell_type": "code",
   "execution_count": null,
   "id": "264662fd",
   "metadata": {
    "extensions": {
     "jupyter_dashboards": {
      "version": 1,
      "views": {
       "grid_default": {},
       "report_default": {
        "hidden": false
       }
      }
     }
    }
   },
   "outputs": [],
   "source": [
    "sns.set_theme(style=\"ticks\", palette=\"pastel\", font_scale=1.2)\n",
    "\n",
    "fig = plt.figure(figsize=(12,6))\n",
    "\n",
    "g=sns.boxplot(data=df,\n",
    "            x=df.Department, y=df.MonthlyIncome, \n",
    "            whis=1,\n",
    "            linewidth=2)\n",
    "sns.despine(left=True)\n",
    "g.tick_params(axis='x')\n",
    "\n",
    "plt.show(g)"
   ]
  },
  {
   "cell_type": "markdown",
   "id": "7c446272",
   "metadata": {
    "extensions": {
     "jupyter_dashboards": {
      "version": 1,
      "views": {
       "grid_default": {},
       "report_default": {
        "hidden": false
       }
      }
     }
    }
   },
   "source": [
    "### <center> Satysfakcja w zależności od zajmowanego stanowiska oraz poziomu stanowiska </center>"
   ]
  },
  {
   "cell_type": "code",
   "execution_count": null,
   "id": "eca3c1b6",
   "metadata": {
    "extensions": {
     "jupyter_dashboards": {
      "version": 1,
      "views": {
       "grid_default": {},
       "report_default": {
        "hidden": false
       }
      }
     }
    }
   },
   "outputs": [],
   "source": [
    "sns.set_theme(style=\"ticks\", palette=\"pastel\", font_scale=1.2)\n",
    "\n",
    "fig = plt.figure(figsize=(12,6))\n",
    "\n",
    "g_1=sns.boxplot(data=df,\n",
    "            x=df.JobRole, y=df.Satisfaction, \n",
    "            hue=df.JobLevel, \n",
    "                whis=1,\n",
    "            linewidth=2)\n",
    "sns.despine(left=True)\n",
    "g_1.tick_params(axis='x', rotation=60)\n",
    "g_1.legend(title='Job Level', loc='upper center', bbox_to_anchor=(.5, 1.2), ncol=5)\n",
    "\n",
    "plt.show(g_1)"
   ]
  },
  {
   "cell_type": "markdown",
   "id": "7416fbd1",
   "metadata": {
    "extensions": {
     "jupyter_dashboards": {
      "version": 1,
      "views": {
       "grid_default": {},
       "report_default": {
        "hidden": false
       }
      }
     }
    }
   },
   "source": [
    "### <center> Satysfakcja w zależności od zajmowanego stanowiska oraz poziomu edukacji </center>"
   ]
  },
  {
   "cell_type": "code",
   "execution_count": null,
   "id": "9890e2dc",
   "metadata": {
    "extensions": {
     "jupyter_dashboards": {
      "version": 1,
      "views": {
       "grid_default": {},
       "report_default": {
        "hidden": false
       }
      }
     }
    }
   },
   "outputs": [],
   "source": [
    "sns.set_theme(style=\"ticks\", palette=\"pastel\", font_scale=1.2)\n",
    "\n",
    "fig = plt.figure(figsize=(12,6))\n",
    "\n",
    "g_2=sns.boxplot(data=df,\n",
    "            x=df.JobRole, y=df.Satisfaction, \n",
    "            hue=df.Education, \n",
    "                whis=1,\n",
    "            linewidth=2)\n",
    "sns.despine(left=True)\n",
    "g_2.tick_params(axis='x', rotation=60)\n",
    "g_2.legend(title='Education Level', loc='upper center', bbox_to_anchor=(.5, 1.2), ncol=5)\n",
    "plt.show(g_2)"
   ]
  },
  {
   "cell_type": "markdown",
   "id": "17429d8b",
   "metadata": {
    "extensions": {
     "jupyter_dashboards": {
      "version": 1,
      "views": {
       "grid_default": {},
       "report_default": {
        "hidden": false
       }
      }
     }
    }
   },
   "source": [
    "### <center> Wynagrodzenia w zależności od zajmowanego stanowiska oraz poziomu stanowiska </center>"
   ]
  },
  {
   "cell_type": "code",
   "execution_count": null,
   "id": "d17c9ca6",
   "metadata": {
    "extensions": {
     "jupyter_dashboards": {
      "version": 1,
      "views": {
       "grid_default": {},
       "report_default": {
        "hidden": false
       }
      }
     }
    }
   },
   "outputs": [],
   "source": [
    "sns.set_theme(style=\"ticks\", palette=\"pastel\", font_scale=1.2)\n",
    "\n",
    "fig = plt.figure(figsize=(12,6))\n",
    "\n",
    "g_3=sns.boxplot(data=df,\n",
    "            x=df.JobRole, y=df.MonthlyIncome, \n",
    "            hue=df.JobLevel, \n",
    "                whis=1,\n",
    "            linewidth=2)\n",
    "sns.despine(left=True)\n",
    "g_3.tick_params(axis='x', rotation=60)\n",
    "g_3.legend(title='Job Level', loc='upper center', bbox_to_anchor=(.5, 1.2), ncol=5)\n",
    "plt.show(g_3)"
   ]
  },
  {
   "cell_type": "markdown",
   "id": "a333f1ba",
   "metadata": {
    "extensions": {
     "jupyter_dashboards": {
      "version": 1,
      "views": {
       "grid_default": {},
       "report_default": {
        "hidden": false
       }
      }
     }
    }
   },
   "source": [
    "### <center> Wynagrodzenia w zależności od zajmowanego stanowiska oraz poziomu edukacji </center>"
   ]
  },
  {
   "cell_type": "code",
   "execution_count": null,
   "id": "f7f7e5c6",
   "metadata": {
    "extensions": {
     "jupyter_dashboards": {
      "version": 1,
      "views": {
       "grid_default": {},
       "report_default": {
        "hidden": false
       }
      }
     }
    }
   },
   "outputs": [],
   "source": [
    "sns.set_theme(style=\"ticks\", palette=\"pastel\", font_scale=1.2)\n",
    "\n",
    "fig = plt.figure(figsize=(12,6))\n",
    "\n",
    "g_4=sns.boxplot(data=df,\n",
    "            x=df.JobRole, y=df.MonthlyIncome, \n",
    "            hue=df.Education, \n",
    "                whis=1,\n",
    "            linewidth=2)\n",
    "sns.despine(left=True)\n",
    "g_4.tick_params(axis='x', rotation=60)\n",
    "g_4.legend(title='Education Level', loc='upper center', bbox_to_anchor=(.5, 1.2), ncol=5)\n",
    "plt.show(g_4)"
   ]
  },
  {
   "cell_type": "markdown",
   "id": "bfffd91d",
   "metadata": {
    "extensions": {
     "jupyter_dashboards": {
      "version": 1,
      "views": {
       "grid_default": {},
       "report_default": {
        "hidden": false
       }
      }
     }
    }
   },
   "source": [
    "### <center> Satysfakcja w zależności od zajmowanego stanowiska oraz poziomu edukacji </center>"
   ]
  },
  {
   "cell_type": "code",
   "execution_count": null,
   "id": "5257d5d8",
   "metadata": {
    "extensions": {
     "jupyter_dashboards": {
      "version": 1,
      "views": {
       "grid_default": {},
       "report_default": {
        "hidden": false
       }
      }
     }
    }
   },
   "outputs": [],
   "source": [
    "sns.set_theme(style=\"whitegrid\", font_scale=1.4)\n",
    "g_5 = sns.FacetGrid(df, row='JobRole', col='Department', height=3.5, aspect=2, sharex=False, palette='Blues')\n",
    "g_5.map_dataframe(sns.barplot, x='Education', y='Satisfaction' )\n",
    "g_5.set_titles(row_template='{row_name}', col_template='{col_name} Department')\n",
    "g_5.set_axis_labels('Education Level', 'Satisfaction')\n",
    "g_5.set(xlim=(-1, 5))\n",
    "plt.show(g_5)"
   ]
  },
  {
   "cell_type": "markdown",
   "id": "7f100429",
   "metadata": {
    "extensions": {
     "jupyter_dashboards": {
      "version": 1,
      "views": {
       "grid_default": {},
       "report_default": {
        "hidden": false
       }
      }
     }
    }
   },
   "source": [
    "### <center> Wynagrodzenia w zależności od zajmowanego stanowiska oraz poziomu edukacji </center>"
   ]
  },
  {
   "cell_type": "code",
   "execution_count": null,
   "id": "6cd7e1e8",
   "metadata": {
    "extensions": {
     "jupyter_dashboards": {
      "version": 1,
      "views": {
       "grid_default": {},
       "report_default": {
        "hidden": false
       }
      }
     }
    },
    "scrolled": false
   },
   "outputs": [],
   "source": [
    "sns.set_theme(style=\"whitegrid\", font_scale=1.4)\n",
    "g_6 = sns.FacetGrid(df, row='JobRole', col='Department', height=3.5, aspect=2, sharex=False, palette='Blues')\n",
    "g_6.map_dataframe(sns.barplot, x='Education', y='MonthlyIncome')\n",
    "g_6.set_titles(row_template='{row_name}', col_template='{col_name} Department')\n",
    "g_6.set_axis_labels('Education Level', 'Monthly Income')\n",
    "g_6.set(xlim=(-1, 5))\n",
    "plt.show(g_6)"
   ]
  },
  {
   "cell_type": "markdown",
   "id": "8bcc59af",
   "metadata": {
    "extensions": {
     "jupyter_dashboards": {
      "version": 1,
      "views": {
       "grid_default": {},
       "report_default": {
        "hidden": false
       }
      }
     }
    }
   },
   "source": [
    "### <center> Wynagrodzenia (rozkład) w zależności od zajmowanego stanowiska oraz działu </center>"
   ]
  },
  {
   "cell_type": "code",
   "execution_count": null,
   "id": "da5779ce",
   "metadata": {
    "extensions": {
     "jupyter_dashboards": {
      "version": 1,
      "views": {
       "grid_default": {},
       "report_default": {
        "hidden": true
       }
      }
     }
    }
   },
   "outputs": [],
   "source": [
    "def add_mean_line(data, var=None, **kws):\n",
    "    \n",
    "    # If no variable provided skip adding mean line\n",
    "    if not var: return\n",
    "    \n",
    "    #Calculate mean for each group\n",
    "    m = np.mean(data[var])\n",
    "    \n",
    "    #Get current axis\n",
    "    ax = plt.gca()\n",
    "    \n",
    "    #add line at group mean\n",
    "    ax.axvline(m, color='maroon', lw=3, ls='--')\n",
    "    \n",
    "    #annotate group mean\n",
    "    x_pos=0.65\n",
    "    if m > 5000: x_pos=0.2\n",
    "    ax.text(x_pos, 0.7, f'mean={m:.0f}', \n",
    "            transform=ax.transAxes,   #transforms positions to range from (0,0) to (1,1)\n",
    "            color='maroon', fontweight='bold', fontsize=12)"
   ]
  },
  {
   "cell_type": "code",
   "execution_count": null,
   "id": "8547eef3",
   "metadata": {
    "extensions": {
     "jupyter_dashboards": {
      "version": 1,
      "views": {
       "grid_default": {},
       "report_default": {
        "hidden": false
       }
      }
     }
    }
   },
   "outputs": [],
   "source": [
    "quantity='MonthlyIncome'\n",
    "\n",
    "sns.set_theme(style=\"whitegrid\", font_scale=1.4)\n",
    "g_7 = sns.FacetGrid(df, row='JobRole', col='Department', height=3.5, aspect=2, sharex=False)\n",
    "g_7.map_dataframe(sns.histplot, x=quantity)\n",
    "g_7.map_dataframe(add_mean_line, var=quantity)\n",
    "g_7.set_titles(row_template='{row_name}', col_template='{col_name} Department')\n",
    "g_7.set(xlim=(0, 20000));\n",
    "plt.show(g_7)"
   ]
  },
  {
   "cell_type": "markdown",
   "id": "e1ac12f9",
   "metadata": {
    "extensions": {
     "jupyter_dashboards": {
      "version": 1,
      "views": {
       "grid_default": {},
       "report_default": {
        "hidden": true
       }
      }
     }
    }
   },
   "source": [
    "<br>\n",
    "\n",
    "**STOP**\n",
    "\n",
    "<br>"
   ]
  },
  {
   "cell_type": "code",
   "execution_count": null,
   "id": "04ec0c2f",
   "metadata": {
    "extensions": {
     "jupyter_dashboards": {
      "version": 1,
      "views": {
       "grid_default": {},
       "report_default": {
        "hidden": true
       }
      }
     }
    }
   },
   "outputs": [],
   "source": [
    "sns.set_theme(style=\"whitegrid\", palette=\"pastel\", font_scale=1.4)\n",
    "g = sns.catplot(x='JobRole', y='Satisfaction', \n",
    "                data=df, \n",
    "                hue=\"JobLevel\", \n",
    "                col='Department',\n",
    "#                 col_wrap=1,\n",
    "                saturation=1,\n",
    "                kind=\"box\", ci=None, aspect=1.4,\n",
    "               width=1)\n",
    "\n",
    "\n",
    "g.set_axis_labels(\"Job Role\", \"Satisfaction\")\n",
    "g.set_xticklabels(rotation=60)\n",
    "g.set_xticklabels(['Sales Executive', 'Research Scientist', 'Laboratory Technician',\n",
    "                    'Manufacturing Director', 'Healthcare Representative', 'Manager',\n",
    "                    'Sales Representative', 'Research Director', 'Human Resources'], fontsize=15)\n",
    "g.set_titles(\"{col_name} {col_var}\", fontsize=16)\n",
    "g.despine(left=True)\n",
    "\n",
    "\n",
    "g.fig.subplots_adjust(top=0.8, wspace=0.1, hspace=0.1)\n",
    "g.fig.suptitle('Satisfaction in Departments', fontsize=20)\n",
    "\n",
    "plt.show(g)\n",
    "\n"
   ]
  },
  {
   "cell_type": "code",
   "execution_count": null,
   "id": "c768f057",
   "metadata": {
    "extensions": {
     "jupyter_dashboards": {
      "version": 1,
      "views": {
       "grid_default": {},
       "report_default": {
        "hidden": true
       }
      }
     }
    }
   },
   "outputs": [],
   "source": [
    "sns.set_theme(style=\"whitegrid\", palette=\"pastel\", font_scale=1.5)\n",
    "g = sns.FacetGrid(df, row='Department', aspect=5)\n",
    "g.map_dataframe(sns.boxplot, x='JobLevel', y='Satisfaction', hue='Education')\n",
    "g.set_axis_labels('', 'Satisfaction')\n",
    "g.set_titles(row_template='{row_name}')\n",
    "g.add_legend(title='Education Level')\n"
   ]
  },
  {
   "cell_type": "code",
   "execution_count": null,
   "id": "928770b9",
   "metadata": {
    "extensions": {
     "jupyter_dashboards": {
      "version": 1,
      "views": {
       "grid_default": {},
       "report_default": {
        "hidden": true
       }
      }
     }
    }
   },
   "outputs": [],
   "source": [
    "'Accent', 'Accent_r', 'Blues', 'Blues_r', 'BrBG', 'BrBG_r', 'BuGn', 'BuGn_r', 'BuPu', 'BuPu_r', 'CMRmap', 'CMRmap_r', 'Dark2', 'Dark2_r', 'GnBu', 'GnBu_r', 'Greens', 'Greens_r', 'Greys', 'Greys_r', 'OrRd', 'OrRd_r', 'Oranges', 'Oranges_r', 'PRGn', 'PRGn_r', 'Paired', 'Paired_r', 'Pastel1', 'Pastel1_r', 'Pastel2', 'Pastel2_r', 'PiYG', 'PiYG_r', 'PuBu', 'PuBuGn', 'PuBuGn_r', 'PuBu_r', 'PuOr', 'PuOr_r', 'PuRd', 'PuRd_r', 'Purples', 'Purples_r', 'RdBu', 'RdBu_r', 'RdGy', 'RdGy_r', 'RdPu', 'RdPu_r', 'RdYlBu', 'RdYlBu_r', 'RdYlGn', 'RdYlGn_r', 'Reds', 'Reds_r', 'Set1', 'Set1_r', 'Set2', 'Set2_r', 'Set3', 'Set3_r', 'Spectral', 'Spectral_r', 'Wistia', 'Wistia_r', 'YlGn', 'YlGnBu', 'YlGnBu_r', 'YlGn_r', 'YlOrBr', 'YlOrBr_r', 'YlOrRd', 'YlOrRd_r', 'afmhot', 'afmhot_r', 'autumn', 'autumn_r', 'binary', 'binary_r', 'bone', 'bone_r', 'brg', 'brg_r', 'bwr', 'bwr_r', 'cividis', 'cividis_r', 'cool', 'cool_r', 'coolwarm', 'coolwarm_r', 'copper', 'copper_r', 'crest', 'crest_r', 'cubehelix', 'cubehelix_r', 'flag', 'flag_r', 'flare', 'flare_r', 'gist_earth', 'gist_earth_r', 'gist_gray', 'gist_gray_r', 'gist_heat', 'gist_heat_r', 'gist_ncar', 'gist_ncar_r', 'gist_rainbow', 'gist_rainbow_r', 'gist_stern', 'gist_stern_r', 'gist_yarg', 'gist_yarg_r', 'gnuplot', 'gnuplot2', 'gnuplot2_r', 'gnuplot_r', 'gray', 'gray_r', 'hot', 'hot_r', 'hsv', 'hsv_r', 'icefire', 'icefire_r', 'inferno', 'inferno_r', 'jet', 'jet_r', 'magma', 'magma_r', 'mako', 'mako_r', 'nipy_spectral', 'nipy_spectral_r', 'ocean', 'ocean_r', 'pink', 'pink_r', 'plasma', 'plasma_r', 'prism', 'prism_r', 'rainbow', 'rainbow_r', 'rocket', 'rocket_r', 'seismic', 'seismic_r', 'spring', 'spring_r', 'summer', 'summer_r', 'tab10', 'tab10_r', 'tab20', 'tab20_r', 'tab20b', 'tab20b_r', 'tab20c', 'tab20c_r', 'terrain', 'terrain_r', 'turbo', 'turbo_r', 'twilight', 'twilight_r', 'twilight_shifted', 'twilight_shifted_r', 'viridis', 'viridis_r', 'vlag', 'vlag_r', 'winter', 'winter_r'"
   ]
  },
  {
   "cell_type": "code",
   "execution_count": null,
   "id": "40584bda",
   "metadata": {
    "extensions": {
     "jupyter_dashboards": {
      "version": 1,
      "views": {
       "grid_default": {},
       "report_default": {
        "hidden": true
       }
      }
     }
    }
   },
   "outputs": [],
   "source": [
    "sns.set_theme(style=\"whitegrid\", font_scale=1.5)\n",
    "# sns.set_palette(\"hls\")\n",
    "g = sns.FacetGrid(df, row='Department', aspect=4)\n",
    "g.map_dataframe(sns.barplot, x='Education', y='MonthlyIncome', hue='JobRole', palette=\"Blues\")\n",
    "g.set_titles(row_template='{row_name}')\n",
    "# g.set_xticklabels(rotation=60)\n",
    "# g.set_xticklabels(['Sales Executive', 'Research Scientist', 'Laboratory Technician',\n",
    "#                     'Manufacturing Director', 'Healthcare Representative', 'Manager',\n",
    "#                     'Sales Representative', 'Research Director', 'Human Resources'], fontsize=15)\n",
    "g.add_legend()"
   ]
  },
  {
   "cell_type": "code",
   "execution_count": null,
   "id": "c3da697e",
   "metadata": {
    "extensions": {
     "jupyter_dashboards": {
      "version": 1,
      "views": {
       "grid_default": {},
       "report_default": {
        "hidden": true
       }
      }
     }
    }
   },
   "outputs": [],
   "source": []
  }
 ],
 "metadata": {
  "extensions": {
   "jupyter_dashboards": {
    "activeView": "report_default",
    "version": 1,
    "views": {
     "grid_default": {
      "cellMargin": 10,
      "defaultCellHeight": 20,
      "maxColumns": 12,
      "name": "grid",
      "type": "grid"
     },
     "report_default": {
      "name": "report",
      "type": "report"
     }
    }
   }
  },
  "kernelspec": {
   "display_name": "Python 3",
   "language": "python",
   "name": "python3"
  },
  "language_info": {
   "codemirror_mode": {
    "name": "ipython",
    "version": 3
   },
   "file_extension": ".py",
   "mimetype": "text/x-python",
   "name": "python",
   "nbconvert_exporter": "python",
   "pygments_lexer": "ipython3",
   "version": "3.8.8"
  }
 },
 "nbformat": 4,
 "nbformat_minor": 5
}
